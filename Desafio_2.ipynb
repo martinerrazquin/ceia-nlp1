{
  "nbformat": 4,
  "nbformat_minor": 0,
  "metadata": {
    "colab": {
      "provenance": []
    },
    "kernelspec": {
      "name": "python3",
      "display_name": "Python 3"
    },
    "language_info": {
      "name": "python"
    }
  },
  "cells": [
    {
      "cell_type": "code",
      "source": [
        "!pip uninstall -y numpy pandas scikit-learn gensim\n",
        "!pip install --no-cache-dir --force-reinstall numpy==1.26.4"
      ],
      "metadata": {
        "colab": {
          "base_uri": "https://localhost:8080/",
          "height": 1000
        },
        "id": "vGtgKWL8WT-W",
        "outputId": "f2b74f21-ab6c-4cb7-bff8-8c7fa6c98f63"
      },
      "execution_count": null,
      "outputs": [
        {
          "output_type": "stream",
          "name": "stdout",
          "text": [
            "Found existing installation: numpy 2.0.2\n",
            "Uninstalling numpy-2.0.2:\n",
            "  Successfully uninstalled numpy-2.0.2\n",
            "Found existing installation: pandas 2.2.2\n",
            "Uninstalling pandas-2.2.2:\n",
            "  Successfully uninstalled pandas-2.2.2\n",
            "Found existing installation: scikit-learn 1.6.1\n",
            "Uninstalling scikit-learn-1.6.1:\n",
            "  Successfully uninstalled scikit-learn-1.6.1\n",
            "\u001b[33mWARNING: Skipping gensim as it is not installed.\u001b[0m\u001b[33m\n",
            "\u001b[0mCollecting numpy==1.26.4\n",
            "  Downloading numpy-1.26.4-cp312-cp312-manylinux_2_17_x86_64.manylinux2014_x86_64.whl.metadata (61 kB)\n",
            "\u001b[2K     \u001b[90m━━━━━━━━━━━━━━━━━━━━━━━━━━━━━━━━━━━━━━━━\u001b[0m \u001b[32m61.0/61.0 kB\u001b[0m \u001b[31m5.6 MB/s\u001b[0m eta \u001b[36m0:00:00\u001b[0m\n",
            "\u001b[?25hDownloading numpy-1.26.4-cp312-cp312-manylinux_2_17_x86_64.manylinux2014_x86_64.whl (18.0 MB)\n",
            "\u001b[2K   \u001b[90m━━━━━━━━━━━━━━━━━━━━━━━━━━━━━━━━━━━━━━━━\u001b[0m \u001b[32m18.0/18.0 MB\u001b[0m \u001b[31m131.4 MB/s\u001b[0m eta \u001b[36m0:00:00\u001b[0m\n",
            "\u001b[?25hInstalling collected packages: numpy\n",
            "\u001b[31mERROR: pip's dependency resolver does not currently take into account all the packages that are installed. This behaviour is the source of the following dependency conflicts.\n",
            "shap 0.48.0 requires pandas, which is not installed.\n",
            "shap 0.48.0 requires scikit-learn, which is not installed.\n",
            "yellowbrick 1.5 requires scikit-learn>=1.0.0, which is not installed.\n",
            "mizani 0.13.5 requires pandas>=2.2.0, which is not installed.\n",
            "cufflinks 0.17.3 requires pandas>=0.19.2, which is not installed.\n",
            "librosa 0.11.0 requires scikit-learn>=1.1.0, which is not installed.\n",
            "prophet 1.1.7 requires pandas>=1.0.4, which is not installed.\n",
            "umap-learn 0.5.9.post2 requires scikit-learn>=1.6, which is not installed.\n",
            "mlxtend 0.23.4 requires pandas>=0.24.2, which is not installed.\n",
            "mlxtend 0.23.4 requires scikit-learn>=1.3.1, which is not installed.\n",
            "libpysal 4.13.0 requires pandas>=1.4, which is not installed.\n",
            "libpysal 4.13.0 requires scikit-learn>=1.1, which is not installed.\n",
            "datasets 4.0.0 requires pandas, which is not installed.\n",
            "sklearn-pandas 2.2.0 requires pandas>=1.1.4, which is not installed.\n",
            "sklearn-pandas 2.2.0 requires scikit-learn>=0.23.0, which is not installed.\n",
            "hdbscan 0.8.40 requires scikit-learn>=0.20, which is not installed.\n",
            "holoviews 1.21.0 requires pandas>=1.3, which is not installed.\n",
            "dask-cudf-cu12 25.6.0 requires pandas<2.2.4dev0,>=2.0, which is not installed.\n",
            "bokeh 3.7.3 requires pandas>=1.2, which is not installed.\n",
            "bigframes 2.17.0 requires pandas>=1.5.3, which is not installed.\n",
            "pynndescent 0.5.13 requires scikit-learn>=0.18, which is not installed.\n",
            "pymc 5.25.1 requires pandas>=0.24.0, which is not installed.\n",
            "cmdstanpy 1.2.5 requires pandas, which is not installed.\n",
            "pandas-gbq 0.29.2 requires pandas>=1.1.4, which is not installed.\n",
            "plotnine 0.14.5 requires pandas>=2.2.0, which is not installed.\n",
            "xarray 2025.8.0 requires pandas>=2.2, which is not installed.\n",
            "tensorflow-decision-forests 1.12.0 requires pandas, which is not installed.\n",
            "dask-cuda 25.6.0 requires pandas>=1.3, which is not installed.\n",
            "panel 1.7.5 requires pandas>=1.2, which is not installed.\n",
            "bqplot 0.12.45 requires pandas<3.0.0,>=1.0.0, which is not installed.\n",
            "statsmodels 0.14.5 requires pandas!=2.1.0,>=1.4, which is not installed.\n",
            "imbalanced-learn 0.14.0 requires scikit-learn<2,>=1.4.2, which is not installed.\n",
            "cuml-cu12 25.6.0 requires scikit-learn>=1.5, which is not installed.\n",
            "geemap 0.35.3 requires pandas, which is not installed.\n",
            "fastai 2.8.4 requires pandas, which is not installed.\n",
            "fastai 2.8.4 requires scikit-learn, which is not installed.\n",
            "tsfresh 0.21.1 requires pandas>=0.25.0, which is not installed.\n",
            "tsfresh 0.21.1 requires scikit-learn>=0.22.0, which is not installed.\n",
            "cudf-cu12 25.6.0 requires pandas<2.2.4dev0,>=2.0, which is not installed.\n",
            "dopamine-rl 4.1.2 requires pandas>=0.24.2, which is not installed.\n",
            "db-dtypes 1.4.3 requires pandas>=1.5.3, which is not installed.\n",
            "arviz 0.22.0 requires pandas>=2.1.0, which is not installed.\n",
            "yfinance 0.2.65 requires pandas>=1.3.0, which is not installed.\n",
            "geopandas 1.1.1 requires pandas>=2.0.0, which is not installed.\n",
            "seaborn 0.13.2 requires pandas>=1.2, which is not installed.\n",
            "gradio 5.44.1 requires pandas<3.0,>=1.0, which is not installed.\n",
            "opencv-contrib-python 4.12.0.88 requires numpy<2.3.0,>=2; python_version >= \"3.9\", but you have numpy 1.26.4 which is incompatible.\n",
            "opencv-python-headless 4.12.0.88 requires numpy<2.3.0,>=2; python_version >= \"3.9\", but you have numpy 1.26.4 which is incompatible.\n",
            "opencv-python 4.12.0.88 requires numpy<2.3.0,>=2; python_version >= \"3.9\", but you have numpy 1.26.4 which is incompatible.\n",
            "thinc 8.3.6 requires numpy<3.0.0,>=2.0.0, but you have numpy 1.26.4 which is incompatible.\u001b[0m\u001b[31m\n",
            "\u001b[0mSuccessfully installed numpy-1.26.4\n"
          ]
        },
        {
          "output_type": "display_data",
          "data": {
            "application/vnd.colab-display-data+json": {
              "pip_warning": {
                "packages": [
                  "numpy"
                ]
              },
              "id": "3c8c57259a244fd998e58744248f334b"
            }
          },
          "metadata": {}
        },
        {
          "output_type": "stream",
          "name": "stdout",
          "text": [
            "Collecting pandas\n",
            "  Downloading pandas-2.3.2-cp312-cp312-manylinux_2_17_x86_64.manylinux2014_x86_64.whl.metadata (91 kB)\n",
            "\u001b[?25l     \u001b[90m━━━━━━━━━━━━━━━━━━━━━━━━━━━━━━━━━━━━━━━━\u001b[0m \u001b[32m0.0/91.2 kB\u001b[0m \u001b[31m?\u001b[0m eta \u001b[36m-:--:--\u001b[0m\r\u001b[2K     \u001b[90m━━━━━━━━━━━━━━━━━━━━━━━━━━━━━━━━━━━━━━━━\u001b[0m \u001b[32m91.2/91.2 kB\u001b[0m \u001b[31m4.1 MB/s\u001b[0m eta \u001b[36m0:00:00\u001b[0m\n",
            "\u001b[?25hTraceback (most recent call last):\n",
            "  File \"/usr/local/lib/python3.12/dist-packages/pip/_internal/cli/base_command.py\", line 179, in exc_logging_wrapper\n",
            "^C\n"
          ]
        }
      ]
    },
    {
      "cell_type": "code",
      "source": [
        "!pip install --no-cache-dir --force-reinstall pandas scikit-learn gensim"
      ],
      "metadata": {
        "colab": {
          "base_uri": "https://localhost:8080/",
          "height": 1000
        },
        "id": "4p2arKFuWzrb",
        "outputId": "c44050d1-3d66-4655-d83f-fba235f18cd7"
      },
      "execution_count": 3,
      "outputs": [
        {
          "output_type": "stream",
          "name": "stdout",
          "text": [
            "Collecting pandas\n",
            "  Downloading pandas-2.3.2-cp312-cp312-manylinux_2_17_x86_64.manylinux2014_x86_64.whl.metadata (91 kB)\n",
            "\u001b[?25l     \u001b[90m━━━━━━━━━━━━━━━━━━━━━━━━━━━━━━━━━━━━━━━━\u001b[0m \u001b[32m0.0/91.2 kB\u001b[0m \u001b[31m?\u001b[0m eta \u001b[36m-:--:--\u001b[0m\r\u001b[2K     \u001b[90m━━━━━━━━━━━━━━━━━━━━━━━━━━━━━━━━━━━━━━━━\u001b[0m \u001b[32m91.2/91.2 kB\u001b[0m \u001b[31m3.9 MB/s\u001b[0m eta \u001b[36m0:00:00\u001b[0m\n",
            "\u001b[?25hCollecting scikit-learn\n",
            "  Downloading scikit_learn-1.7.1-cp312-cp312-manylinux2014_x86_64.manylinux_2_17_x86_64.whl.metadata (11 kB)\n",
            "Collecting gensim\n",
            "  Downloading gensim-4.3.3-cp312-cp312-manylinux_2_17_x86_64.manylinux2014_x86_64.whl.metadata (8.1 kB)\n",
            "Collecting numpy>=1.26.0 (from pandas)\n",
            "  Downloading numpy-2.3.2-cp312-cp312-manylinux_2_27_x86_64.manylinux_2_28_x86_64.whl.metadata (62 kB)\n",
            "\u001b[2K     \u001b[90m━━━━━━━━━━━━━━━━━━━━━━━━━━━━━━━━━━━━━━━\u001b[0m \u001b[32m62.1/62.1 kB\u001b[0m \u001b[31m130.2 MB/s\u001b[0m eta \u001b[36m0:00:00\u001b[0m\n",
            "\u001b[?25hCollecting python-dateutil>=2.8.2 (from pandas)\n",
            "  Downloading python_dateutil-2.9.0.post0-py2.py3-none-any.whl.metadata (8.4 kB)\n",
            "Collecting pytz>=2020.1 (from pandas)\n",
            "  Downloading pytz-2025.2-py2.py3-none-any.whl.metadata (22 kB)\n",
            "Collecting tzdata>=2022.7 (from pandas)\n",
            "  Downloading tzdata-2025.2-py2.py3-none-any.whl.metadata (1.4 kB)\n",
            "Collecting scipy>=1.8.0 (from scikit-learn)\n",
            "  Downloading scipy-1.16.1-cp312-cp312-manylinux2014_x86_64.manylinux_2_17_x86_64.whl.metadata (61 kB)\n",
            "\u001b[2K     \u001b[90m━━━━━━━━━━━━━━━━━━━━━━━━━━━━━━━━━━━━━━━\u001b[0m \u001b[32m62.0/62.0 kB\u001b[0m \u001b[31m169.0 MB/s\u001b[0m eta \u001b[36m0:00:00\u001b[0m\n",
            "\u001b[?25hCollecting joblib>=1.2.0 (from scikit-learn)\n",
            "  Downloading joblib-1.5.2-py3-none-any.whl.metadata (5.6 kB)\n",
            "Collecting threadpoolctl>=3.1.0 (from scikit-learn)\n",
            "  Downloading threadpoolctl-3.6.0-py3-none-any.whl.metadata (13 kB)\n",
            "Collecting numpy>=1.26.0 (from pandas)\n",
            "  Downloading numpy-1.26.4-cp312-cp312-manylinux_2_17_x86_64.manylinux2014_x86_64.whl.metadata (61 kB)\n",
            "\u001b[2K     \u001b[90m━━━━━━━━━━━━━━━━━━━━━━━━━━━━━━━━━━━━━━━\u001b[0m \u001b[32m61.0/61.0 kB\u001b[0m \u001b[31m242.7 MB/s\u001b[0m eta \u001b[36m0:00:00\u001b[0m\n",
            "\u001b[?25hCollecting scipy>=1.8.0 (from scikit-learn)\n",
            "  Downloading scipy-1.13.1-cp312-cp312-manylinux_2_17_x86_64.manylinux2014_x86_64.whl.metadata (60 kB)\n",
            "\u001b[2K     \u001b[90m━━━━━━━━━━━━━━━━━━━━━━━━━━━━━━━━━━━━━━━\u001b[0m \u001b[32m60.6/60.6 kB\u001b[0m \u001b[31m229.8 MB/s\u001b[0m eta \u001b[36m0:00:00\u001b[0m\n",
            "\u001b[?25hCollecting smart-open>=1.8.1 (from gensim)\n",
            "  Downloading smart_open-7.3.0.post1-py3-none-any.whl.metadata (24 kB)\n",
            "Collecting six>=1.5 (from python-dateutil>=2.8.2->pandas)\n",
            "  Downloading six-1.17.0-py2.py3-none-any.whl.metadata (1.7 kB)\n",
            "Collecting wrapt (from smart-open>=1.8.1->gensim)\n",
            "  Downloading wrapt-1.17.3-cp312-cp312-manylinux1_x86_64.manylinux_2_28_x86_64.manylinux_2_5_x86_64.whl.metadata (6.4 kB)\n",
            "Downloading pandas-2.3.2-cp312-cp312-manylinux_2_17_x86_64.manylinux2014_x86_64.whl (12.0 MB)\n",
            "\u001b[2K   \u001b[90m━━━━━━━━━━━━━━━━━━━━━━━━━━━━━━━━━━━━━━━━\u001b[0m \u001b[32m12.0/12.0 MB\u001b[0m \u001b[31m199.2 MB/s\u001b[0m eta \u001b[36m0:00:00\u001b[0m\n",
            "\u001b[?25hDownloading scikit_learn-1.7.1-cp312-cp312-manylinux2014_x86_64.manylinux_2_17_x86_64.whl (9.5 MB)\n",
            "\u001b[2K   \u001b[90m━━━━━━━━━━━━━━━━━━━━━━━━━━━━━━━━━━━━━━━━\u001b[0m \u001b[32m9.5/9.5 MB\u001b[0m \u001b[31m194.6 MB/s\u001b[0m eta \u001b[36m0:00:00\u001b[0m\n",
            "\u001b[?25hDownloading gensim-4.3.3-cp312-cp312-manylinux_2_17_x86_64.manylinux2014_x86_64.whl (26.6 MB)\n",
            "\u001b[2K   \u001b[90m━━━━━━━━━━━━━━━━━━━━━━━━━━━━━━━━━━━━━━━━\u001b[0m \u001b[32m26.6/26.6 MB\u001b[0m \u001b[31m192.0 MB/s\u001b[0m eta \u001b[36m0:00:00\u001b[0m\n",
            "\u001b[?25hDownloading joblib-1.5.2-py3-none-any.whl (308 kB)\n",
            "\u001b[2K   \u001b[90m━━━━━━━━━━━━━━━━━━━━━━━━━━━━━━━━━━━━━━━\u001b[0m \u001b[32m308.4/308.4 kB\u001b[0m \u001b[31m320.5 MB/s\u001b[0m eta \u001b[36m0:00:00\u001b[0m\n",
            "\u001b[?25hDownloading numpy-1.26.4-cp312-cp312-manylinux_2_17_x86_64.manylinux2014_x86_64.whl (18.0 MB)\n",
            "\u001b[2K   \u001b[90m━━━━━━━━━━━━━━━━━━━━━━━━━━━━━━━━━━━━━━━━\u001b[0m \u001b[32m18.0/18.0 MB\u001b[0m \u001b[31m212.6 MB/s\u001b[0m eta \u001b[36m0:00:00\u001b[0m\n",
            "\u001b[?25hDownloading python_dateutil-2.9.0.post0-py2.py3-none-any.whl (229 kB)\n",
            "\u001b[2K   \u001b[90m━━━━━━━━━━━━━━━━━━━━━━━━━━━━━━━━━━━━━━━\u001b[0m \u001b[32m229.9/229.9 kB\u001b[0m \u001b[31m307.1 MB/s\u001b[0m eta \u001b[36m0:00:00\u001b[0m\n",
            "\u001b[?25hDownloading pytz-2025.2-py2.py3-none-any.whl (509 kB)\n",
            "\u001b[2K   \u001b[90m━━━━━━━━━━━━━━━━━━━━━━━━━━━━━━━━━━━━━━━\u001b[0m \u001b[32m509.2/509.2 kB\u001b[0m \u001b[31m330.1 MB/s\u001b[0m eta \u001b[36m0:00:00\u001b[0m\n",
            "\u001b[?25hDownloading scipy-1.13.1-cp312-cp312-manylinux_2_17_x86_64.manylinux2014_x86_64.whl (38.2 MB)\n",
            "\u001b[2K   \u001b[90m━━━━━━━━━━━━━━━━━━━━━━━━━━━━━━━━━━━━━━━━\u001b[0m \u001b[32m38.2/38.2 MB\u001b[0m \u001b[31m213.5 MB/s\u001b[0m eta \u001b[36m0:00:00\u001b[0m\n",
            "\u001b[?25hDownloading smart_open-7.3.0.post1-py3-none-any.whl (61 kB)\n",
            "\u001b[2K   \u001b[90m━━━━━━━━━━━━━━━━━━━━━━━━━━━━━━━━━━━━━━━━\u001b[0m \u001b[32m61.9/61.9 kB\u001b[0m \u001b[31m253.6 MB/s\u001b[0m eta \u001b[36m0:00:00\u001b[0m\n",
            "\u001b[?25hDownloading threadpoolctl-3.6.0-py3-none-any.whl (18 kB)\n",
            "Downloading tzdata-2025.2-py2.py3-none-any.whl (347 kB)\n",
            "\u001b[2K   \u001b[90m━━━━━━━━━━━━━━━━━━━━━━━━━━━━━━━━━━━━━━━\u001b[0m \u001b[32m347.8/347.8 kB\u001b[0m \u001b[31m333.9 MB/s\u001b[0m eta \u001b[36m0:00:00\u001b[0m\n",
            "\u001b[?25hDownloading six-1.17.0-py2.py3-none-any.whl (11 kB)\n",
            "Downloading wrapt-1.17.3-cp312-cp312-manylinux1_x86_64.manylinux_2_28_x86_64.manylinux_2_5_x86_64.whl (88 kB)\n",
            "\u001b[2K   \u001b[90m━━━━━━━━━━━━━━━━━━━━━━━━━━━━━━━━━━━━━━━━\u001b[0m \u001b[32m88.0/88.0 kB\u001b[0m \u001b[31m230.3 MB/s\u001b[0m eta \u001b[36m0:00:00\u001b[0m\n",
            "\u001b[?25hInstalling collected packages: pytz, wrapt, tzdata, threadpoolctl, six, numpy, joblib, smart-open, scipy, python-dateutil, scikit-learn, pandas, gensim\n",
            "  Attempting uninstall: pytz\n",
            "    Found existing installation: pytz 2025.2\n",
            "    Uninstalling pytz-2025.2:\n",
            "      Successfully uninstalled pytz-2025.2\n",
            "  Attempting uninstall: wrapt\n",
            "    Found existing installation: wrapt 1.17.3\n",
            "    Uninstalling wrapt-1.17.3:\n",
            "      Successfully uninstalled wrapt-1.17.3\n",
            "  Attempting uninstall: tzdata\n",
            "    Found existing installation: tzdata 2025.2\n",
            "    Uninstalling tzdata-2025.2:\n",
            "      Successfully uninstalled tzdata-2025.2\n",
            "  Attempting uninstall: threadpoolctl\n",
            "    Found existing installation: threadpoolctl 3.6.0\n",
            "    Uninstalling threadpoolctl-3.6.0:\n",
            "      Successfully uninstalled threadpoolctl-3.6.0\n",
            "  Attempting uninstall: six\n",
            "    Found existing installation: six 1.17.0\n",
            "    Uninstalling six-1.17.0:\n",
            "      Successfully uninstalled six-1.17.0\n",
            "  Attempting uninstall: numpy\n",
            "    Found existing installation: numpy 1.26.4\n",
            "    Uninstalling numpy-1.26.4:\n",
            "      Successfully uninstalled numpy-1.26.4\n",
            "  Attempting uninstall: joblib\n",
            "    Found existing installation: joblib 1.5.2\n",
            "    Uninstalling joblib-1.5.2:\n",
            "      Successfully uninstalled joblib-1.5.2\n",
            "  Attempting uninstall: smart-open\n",
            "    Found existing installation: smart_open 7.3.0.post1\n",
            "    Uninstalling smart_open-7.3.0.post1:\n",
            "      Successfully uninstalled smart_open-7.3.0.post1\n",
            "  Attempting uninstall: scipy\n",
            "    Found existing installation: scipy 1.16.1\n",
            "    Uninstalling scipy-1.16.1:\n",
            "      Successfully uninstalled scipy-1.16.1\n",
            "  Attempting uninstall: python-dateutil\n",
            "    Found existing installation: python-dateutil 2.9.0.post0\n",
            "    Uninstalling python-dateutil-2.9.0.post0:\n",
            "      Successfully uninstalled python-dateutil-2.9.0.post0\n",
            "\u001b[31mERROR: pip's dependency resolver does not currently take into account all the packages that are installed. This behaviour is the source of the following dependency conflicts.\n",
            "google-colab 1.0.0 requires pandas==2.2.2, but you have pandas 2.3.2 which is incompatible.\n",
            "opencv-contrib-python 4.12.0.88 requires numpy<2.3.0,>=2; python_version >= \"3.9\", but you have numpy 1.26.4 which is incompatible.\n",
            "opencv-python-headless 4.12.0.88 requires numpy<2.3.0,>=2; python_version >= \"3.9\", but you have numpy 1.26.4 which is incompatible.\n",
            "dask-cudf-cu12 25.6.0 requires pandas<2.2.4dev0,>=2.0, but you have pandas 2.3.2 which is incompatible.\n",
            "opencv-python 4.12.0.88 requires numpy<2.3.0,>=2; python_version >= \"3.9\", but you have numpy 1.26.4 which is incompatible.\n",
            "thinc 8.3.6 requires numpy<3.0.0,>=2.0.0, but you have numpy 1.26.4 which is incompatible.\n",
            "tsfresh 0.21.1 requires scipy>=1.14.0; python_version >= \"3.10\", but you have scipy 1.13.1 which is incompatible.\n",
            "cudf-cu12 25.6.0 requires pandas<2.2.4dev0,>=2.0, but you have pandas 2.3.2 which is incompatible.\u001b[0m\u001b[31m\n",
            "\u001b[0mSuccessfully installed gensim-4.3.3 joblib-1.5.2 numpy-1.26.4 pandas-2.3.2 python-dateutil-2.9.0.post0 pytz-2025.2 scikit-learn-1.7.1 scipy-1.13.1 six-1.17.0 smart-open-7.3.0.post1 threadpoolctl-3.6.0 tzdata-2025.2 wrapt-1.17.3\n"
          ]
        },
        {
          "output_type": "display_data",
          "data": {
            "application/vnd.colab-display-data+json": {
              "pip_warning": {
                "packages": [
                  "dateutil",
                  "numpy",
                  "six"
                ]
              },
              "id": "5f405e5540454ae3971a612e7c29befe"
            }
          },
          "metadata": {}
        }
      ]
    },
    {
      "cell_type": "code",
      "execution_count": 4,
      "metadata": {
        "id": "iC133LfVbw8G"
      },
      "outputs": [],
      "source": [
        "import numpy as np\n",
        "import pandas as pd\n",
        "import matplotlib.pyplot as plt\n",
        "import os\n",
        "import multiprocessing\n",
        "from sklearn.manifold import TSNE\n",
        "from tensorflow.keras.preprocessing.text import text_to_word_sequence\n",
        "from gensim.models import Word2Vec\n",
        "from gensim.models.callbacks import CallbackAny2Vec\n",
        "import plotly.graph_objects as go\n",
        "import plotly.express as px"
      ]
    },
    {
      "cell_type": "markdown",
      "source": [
        "## Utils\n",
        "\n",
        "Tomados de [repositorio original](https://github.com/FIUBA-Posgrado-Inteligencia-Artificial/procesamiento_lenguaje_natural/blob/main/clase_2/jupyter_notebooks/2c%20-%20Custom%20embedding%20con%20Gensim.ipynb)"
      ],
      "metadata": {
        "id": "yuta0bj7U7C0"
      }
    },
    {
      "cell_type": "code",
      "source": [
        "def reduce_dimensions(model, num_dimensions = 2 ):\n",
        "\n",
        "    vectors = np.asarray(model.wv.vectors)\n",
        "    labels = np.asarray(model.wv.index_to_key)\n",
        "\n",
        "    tsne = TSNE(n_components=num_dimensions, random_state=0)\n",
        "    vectors = tsne.fit_transform(vectors)\n",
        "\n",
        "    return vectors, labels"
      ],
      "metadata": {
        "id": "a-31EkN-U8ME"
      },
      "execution_count": 5,
      "outputs": []
    },
    {
      "cell_type": "code",
      "source": [
        "LOSSES = []\n",
        "\n",
        "class callback(CallbackAny2Vec):\n",
        "    \"\"\"\n",
        "    Callback to print loss after each epoch\n",
        "    \"\"\"\n",
        "    def __init__(self):\n",
        "        self.epoch = 0\n",
        "\n",
        "    def on_epoch_end(self, model):\n",
        "        loss = model.get_latest_training_loss()\n",
        "        cur_loss = loss if self.epoch==0 else loss-self.loss_previous_step\n",
        "        print(f'Loss after epoch {self.epoch:>2}: {cur_loss}')\n",
        "        self.epoch += 1\n",
        "        self.loss_previous_step = loss\n",
        "        LOSSES.append(cur_loss)"
      ],
      "metadata": {
        "id": "8fFDoCn0U93r"
      },
      "execution_count": 45,
      "outputs": []
    },
    {
      "cell_type": "markdown",
      "source": [
        "## Datos y preprocesamiento"
      ],
      "metadata": {
        "id": "2xEfhF_aTmXV"
      }
    },
    {
      "cell_type": "code",
      "source": [
        "!wget songs_dataset.zip https://github.com/FIUBA-Posgrado-Inteligencia-Artificial/procesamiento_lenguaje_natural/raw/main/datasets/songs_dataset.zip\n",
        "!unzip -q songs_dataset.zip"
      ],
      "metadata": {
        "id": "50ExpOGISk5a",
        "colab": {
          "base_uri": "https://localhost:8080/"
        },
        "outputId": "29c369a6-281f-44ef-918b-a1ce02675deb"
      },
      "execution_count": 7,
      "outputs": [
        {
          "output_type": "stream",
          "name": "stdout",
          "text": [
            "--2025-09-06 18:49:33--  http://songs_dataset.zip/\n",
            "Resolving songs_dataset.zip (songs_dataset.zip)... failed: Name or service not known.\n",
            "wget: unable to resolve host address ‘songs_dataset.zip’\n",
            "--2025-09-06 18:49:33--  https://github.com/FIUBA-Posgrado-Inteligencia-Artificial/procesamiento_lenguaje_natural/raw/main/datasets/songs_dataset.zip\n",
            "Resolving github.com (github.com)... 140.82.114.4\n",
            "Connecting to github.com (github.com)|140.82.114.4|:443... connected.\n",
            "HTTP request sent, awaiting response... 302 Found\n",
            "Location: https://raw.githubusercontent.com/FIUBA-Posgrado-Inteligencia-Artificial/procesamiento_lenguaje_natural/main/datasets/songs_dataset.zip [following]\n",
            "--2025-09-06 18:49:34--  https://raw.githubusercontent.com/FIUBA-Posgrado-Inteligencia-Artificial/procesamiento_lenguaje_natural/main/datasets/songs_dataset.zip\n",
            "Resolving raw.githubusercontent.com (raw.githubusercontent.com)... 185.199.108.133, 185.199.109.133, 185.199.110.133, ...\n",
            "Connecting to raw.githubusercontent.com (raw.githubusercontent.com)|185.199.108.133|:443... connected.\n",
            "HTTP request sent, awaiting response... 200 OK\n",
            "Length: 2075036 (2.0M) [application/zip]\n",
            "Saving to: ‘songs_dataset.zip’\n",
            "\n",
            "songs_dataset.zip   100%[===================>]   1.98M  --.-KB/s    in 0.07s   \n",
            "\n",
            "2025-09-06 18:49:34 (28.6 MB/s) - ‘songs_dataset.zip’ saved [2075036/2075036]\n",
            "\n",
            "FINISHED --2025-09-06 18:49:34--\n",
            "Total wall clock time: 0.7s\n",
            "Downloaded: 1 files, 2.0M in 0.07s (28.6 MB/s)\n"
          ]
        }
      ]
    },
    {
      "cell_type": "code",
      "source": [
        "os.listdir(\"./songs_dataset/\")"
      ],
      "metadata": {
        "id": "sv2r_CUcSlQN",
        "colab": {
          "base_uri": "https://localhost:8080/"
        },
        "outputId": "252a7d0e-9383-48b7-f526-dc3a69418fd3"
      },
      "execution_count": 8,
      "outputs": [
        {
          "output_type": "execute_result",
          "data": {
            "text/plain": [
              "['bruno-mars.txt',\n",
              " 'rihanna.txt',\n",
              " 'nicki-minaj.txt',\n",
              " 'johnny-cash.txt',\n",
              " 'kanye.txt',\n",
              " 'missy-elliott.txt',\n",
              " 'drake.txt',\n",
              " 'r-kelly.txt',\n",
              " 'joni-mitchell.txt',\n",
              " 'nickelback.txt',\n",
              " 'radiohead.txt',\n",
              " 'lil-wayne.txt',\n",
              " 'lin-manuel-miranda.txt',\n",
              " 'alicia-keys.txt',\n",
              " 'amy-winehouse.txt',\n",
              " 'al-green.txt',\n",
              " 'blink-182.txt',\n",
              " 'britney-spears.txt',\n",
              " 'lady-gaga.txt',\n",
              " 'prince.txt',\n",
              " 'patti-smith.txt',\n",
              " 'Lil_Wayne.txt',\n",
              " 'bob-marley.txt',\n",
              " 'bieber.txt',\n",
              " 'cake.txt',\n",
              " 'kanye-west.txt',\n",
              " 'disney.txt',\n",
              " 'beatles.txt',\n",
              " 'bjork.txt',\n",
              " 'adele.txt',\n",
              " 'michael-jackson.txt',\n",
              " 'janisjoplin.txt',\n",
              " 'ludacris.txt',\n",
              " 'bob-dylan.txt',\n",
              " 'dickinson.txt',\n",
              " 'nirvana.txt',\n",
              " 'bruce-springsteen.txt',\n",
              " 'leonard-cohen.txt',\n",
              " 'Kanye_West.txt',\n",
              " 'paul-simon.txt',\n",
              " 'dj-khaled.txt',\n",
              " 'dolly-parton.txt',\n",
              " 'dr-seuss.txt',\n",
              " 'eminem.txt',\n",
              " 'lorde.txt',\n",
              " 'nursery_rhymes.txt',\n",
              " 'notorious_big.txt',\n",
              " 'notorious-big.txt',\n",
              " 'jimi-hendrix.txt']"
            ]
          },
          "metadata": {},
          "execution_count": 8
        }
      ]
    },
    {
      "cell_type": "code",
      "source": [
        "BAND = 'eminem'\n",
        "\n",
        "df = pd.read_csv(f'songs_dataset/{BAND}.txt', sep='/n', header=None)\n",
        "print(\"Cantidad de documentos:\", df.shape[0])\n",
        "\n",
        "df.head()"
      ],
      "metadata": {
        "id": "h-CVnsLOSoR2",
        "colab": {
          "base_uri": "https://localhost:8080/",
          "height": 280
        },
        "outputId": "5222bd8b-799e-4a92-f6f6-b95109cafed8"
      },
      "execution_count": 9,
      "outputs": [
        {
          "output_type": "stream",
          "name": "stdout",
          "text": [
            "Cantidad de documentos: 6812\n"
          ]
        },
        {
          "output_type": "stream",
          "name": "stderr",
          "text": [
            "/tmp/ipython-input-4170734603.py:3: ParserWarning: Falling back to the 'python' engine because the 'c' engine does not support regex separators (separators > 1 char and different from '\\s+' are interpreted as regex); you can avoid this warning by specifying engine='python'.\n",
            "  df = pd.read_csv(f'songs_dataset/{BAND}.txt', sep='/n', header=None)\n"
          ]
        },
        {
          "output_type": "execute_result",
          "data": {
            "text/plain": [
              "                                                   0\n",
              "0  Look, I was gonna go easy on you and not to hu...\n",
              "1          But I'm only going to get this one chance\n",
              "2  Something's wrong, I can feel it (Six minutes,...\n",
              "3  Just a feeling I've got, like something's abou...\n",
              "4  If that means, what I think it means, we're in..."
            ],
            "text/html": [
              "\n",
              "  <div id=\"df-f38a2b63-551b-48f5-a670-b895de56f502\" class=\"colab-df-container\">\n",
              "    <div>\n",
              "<style scoped>\n",
              "    .dataframe tbody tr th:only-of-type {\n",
              "        vertical-align: middle;\n",
              "    }\n",
              "\n",
              "    .dataframe tbody tr th {\n",
              "        vertical-align: top;\n",
              "    }\n",
              "\n",
              "    .dataframe thead th {\n",
              "        text-align: right;\n",
              "    }\n",
              "</style>\n",
              "<table border=\"1\" class=\"dataframe\">\n",
              "  <thead>\n",
              "    <tr style=\"text-align: right;\">\n",
              "      <th></th>\n",
              "      <th>0</th>\n",
              "    </tr>\n",
              "  </thead>\n",
              "  <tbody>\n",
              "    <tr>\n",
              "      <th>0</th>\n",
              "      <td>Look, I was gonna go easy on you and not to hu...</td>\n",
              "    </tr>\n",
              "    <tr>\n",
              "      <th>1</th>\n",
              "      <td>But I'm only going to get this one chance</td>\n",
              "    </tr>\n",
              "    <tr>\n",
              "      <th>2</th>\n",
              "      <td>Something's wrong, I can feel it (Six minutes,...</td>\n",
              "    </tr>\n",
              "    <tr>\n",
              "      <th>3</th>\n",
              "      <td>Just a feeling I've got, like something's abou...</td>\n",
              "    </tr>\n",
              "    <tr>\n",
              "      <th>4</th>\n",
              "      <td>If that means, what I think it means, we're in...</td>\n",
              "    </tr>\n",
              "  </tbody>\n",
              "</table>\n",
              "</div>\n",
              "    <div class=\"colab-df-buttons\">\n",
              "\n",
              "  <div class=\"colab-df-container\">\n",
              "    <button class=\"colab-df-convert\" onclick=\"convertToInteractive('df-f38a2b63-551b-48f5-a670-b895de56f502')\"\n",
              "            title=\"Convert this dataframe to an interactive table.\"\n",
              "            style=\"display:none;\">\n",
              "\n",
              "  <svg xmlns=\"http://www.w3.org/2000/svg\" height=\"24px\" viewBox=\"0 -960 960 960\">\n",
              "    <path d=\"M120-120v-720h720v720H120Zm60-500h600v-160H180v160Zm220 220h160v-160H400v160Zm0 220h160v-160H400v160ZM180-400h160v-160H180v160Zm440 0h160v-160H620v160ZM180-180h160v-160H180v160Zm440 0h160v-160H620v160Z\"/>\n",
              "  </svg>\n",
              "    </button>\n",
              "\n",
              "  <style>\n",
              "    .colab-df-container {\n",
              "      display:flex;\n",
              "      gap: 12px;\n",
              "    }\n",
              "\n",
              "    .colab-df-convert {\n",
              "      background-color: #E8F0FE;\n",
              "      border: none;\n",
              "      border-radius: 50%;\n",
              "      cursor: pointer;\n",
              "      display: none;\n",
              "      fill: #1967D2;\n",
              "      height: 32px;\n",
              "      padding: 0 0 0 0;\n",
              "      width: 32px;\n",
              "    }\n",
              "\n",
              "    .colab-df-convert:hover {\n",
              "      background-color: #E2EBFA;\n",
              "      box-shadow: 0px 1px 2px rgba(60, 64, 67, 0.3), 0px 1px 3px 1px rgba(60, 64, 67, 0.15);\n",
              "      fill: #174EA6;\n",
              "    }\n",
              "\n",
              "    .colab-df-buttons div {\n",
              "      margin-bottom: 4px;\n",
              "    }\n",
              "\n",
              "    [theme=dark] .colab-df-convert {\n",
              "      background-color: #3B4455;\n",
              "      fill: #D2E3FC;\n",
              "    }\n",
              "\n",
              "    [theme=dark] .colab-df-convert:hover {\n",
              "      background-color: #434B5C;\n",
              "      box-shadow: 0px 1px 3px 1px rgba(0, 0, 0, 0.15);\n",
              "      filter: drop-shadow(0px 1px 2px rgba(0, 0, 0, 0.3));\n",
              "      fill: #FFFFFF;\n",
              "    }\n",
              "  </style>\n",
              "\n",
              "    <script>\n",
              "      const buttonEl =\n",
              "        document.querySelector('#df-f38a2b63-551b-48f5-a670-b895de56f502 button.colab-df-convert');\n",
              "      buttonEl.style.display =\n",
              "        google.colab.kernel.accessAllowed ? 'block' : 'none';\n",
              "\n",
              "      async function convertToInteractive(key) {\n",
              "        const element = document.querySelector('#df-f38a2b63-551b-48f5-a670-b895de56f502');\n",
              "        const dataTable =\n",
              "          await google.colab.kernel.invokeFunction('convertToInteractive',\n",
              "                                                    [key], {});\n",
              "        if (!dataTable) return;\n",
              "\n",
              "        const docLinkHtml = 'Like what you see? Visit the ' +\n",
              "          '<a target=\"_blank\" href=https://colab.research.google.com/notebooks/data_table.ipynb>data table notebook</a>'\n",
              "          + ' to learn more about interactive tables.';\n",
              "        element.innerHTML = '';\n",
              "        dataTable['output_type'] = 'display_data';\n",
              "        await google.colab.output.renderOutput(dataTable, element);\n",
              "        const docLink = document.createElement('div');\n",
              "        docLink.innerHTML = docLinkHtml;\n",
              "        element.appendChild(docLink);\n",
              "      }\n",
              "    </script>\n",
              "  </div>\n",
              "\n",
              "\n",
              "    <div id=\"df-5dd27389-9615-47d4-b433-bda02aa15de4\">\n",
              "      <button class=\"colab-df-quickchart\" onclick=\"quickchart('df-5dd27389-9615-47d4-b433-bda02aa15de4')\"\n",
              "                title=\"Suggest charts\"\n",
              "                style=\"display:none;\">\n",
              "\n",
              "<svg xmlns=\"http://www.w3.org/2000/svg\" height=\"24px\"viewBox=\"0 0 24 24\"\n",
              "     width=\"24px\">\n",
              "    <g>\n",
              "        <path d=\"M19 3H5c-1.1 0-2 .9-2 2v14c0 1.1.9 2 2 2h14c1.1 0 2-.9 2-2V5c0-1.1-.9-2-2-2zM9 17H7v-7h2v7zm4 0h-2V7h2v10zm4 0h-2v-4h2v4z\"/>\n",
              "    </g>\n",
              "</svg>\n",
              "      </button>\n",
              "\n",
              "<style>\n",
              "  .colab-df-quickchart {\n",
              "      --bg-color: #E8F0FE;\n",
              "      --fill-color: #1967D2;\n",
              "      --hover-bg-color: #E2EBFA;\n",
              "      --hover-fill-color: #174EA6;\n",
              "      --disabled-fill-color: #AAA;\n",
              "      --disabled-bg-color: #DDD;\n",
              "  }\n",
              "\n",
              "  [theme=dark] .colab-df-quickchart {\n",
              "      --bg-color: #3B4455;\n",
              "      --fill-color: #D2E3FC;\n",
              "      --hover-bg-color: #434B5C;\n",
              "      --hover-fill-color: #FFFFFF;\n",
              "      --disabled-bg-color: #3B4455;\n",
              "      --disabled-fill-color: #666;\n",
              "  }\n",
              "\n",
              "  .colab-df-quickchart {\n",
              "    background-color: var(--bg-color);\n",
              "    border: none;\n",
              "    border-radius: 50%;\n",
              "    cursor: pointer;\n",
              "    display: none;\n",
              "    fill: var(--fill-color);\n",
              "    height: 32px;\n",
              "    padding: 0;\n",
              "    width: 32px;\n",
              "  }\n",
              "\n",
              "  .colab-df-quickchart:hover {\n",
              "    background-color: var(--hover-bg-color);\n",
              "    box-shadow: 0 1px 2px rgba(60, 64, 67, 0.3), 0 1px 3px 1px rgba(60, 64, 67, 0.15);\n",
              "    fill: var(--button-hover-fill-color);\n",
              "  }\n",
              "\n",
              "  .colab-df-quickchart-complete:disabled,\n",
              "  .colab-df-quickchart-complete:disabled:hover {\n",
              "    background-color: var(--disabled-bg-color);\n",
              "    fill: var(--disabled-fill-color);\n",
              "    box-shadow: none;\n",
              "  }\n",
              "\n",
              "  .colab-df-spinner {\n",
              "    border: 2px solid var(--fill-color);\n",
              "    border-color: transparent;\n",
              "    border-bottom-color: var(--fill-color);\n",
              "    animation:\n",
              "      spin 1s steps(1) infinite;\n",
              "  }\n",
              "\n",
              "  @keyframes spin {\n",
              "    0% {\n",
              "      border-color: transparent;\n",
              "      border-bottom-color: var(--fill-color);\n",
              "      border-left-color: var(--fill-color);\n",
              "    }\n",
              "    20% {\n",
              "      border-color: transparent;\n",
              "      border-left-color: var(--fill-color);\n",
              "      border-top-color: var(--fill-color);\n",
              "    }\n",
              "    30% {\n",
              "      border-color: transparent;\n",
              "      border-left-color: var(--fill-color);\n",
              "      border-top-color: var(--fill-color);\n",
              "      border-right-color: var(--fill-color);\n",
              "    }\n",
              "    40% {\n",
              "      border-color: transparent;\n",
              "      border-right-color: var(--fill-color);\n",
              "      border-top-color: var(--fill-color);\n",
              "    }\n",
              "    60% {\n",
              "      border-color: transparent;\n",
              "      border-right-color: var(--fill-color);\n",
              "    }\n",
              "    80% {\n",
              "      border-color: transparent;\n",
              "      border-right-color: var(--fill-color);\n",
              "      border-bottom-color: var(--fill-color);\n",
              "    }\n",
              "    90% {\n",
              "      border-color: transparent;\n",
              "      border-bottom-color: var(--fill-color);\n",
              "    }\n",
              "  }\n",
              "</style>\n",
              "\n",
              "      <script>\n",
              "        async function quickchart(key) {\n",
              "          const quickchartButtonEl =\n",
              "            document.querySelector('#' + key + ' button');\n",
              "          quickchartButtonEl.disabled = true;  // To prevent multiple clicks.\n",
              "          quickchartButtonEl.classList.add('colab-df-spinner');\n",
              "          try {\n",
              "            const charts = await google.colab.kernel.invokeFunction(\n",
              "                'suggestCharts', [key], {});\n",
              "          } catch (error) {\n",
              "            console.error('Error during call to suggestCharts:', error);\n",
              "          }\n",
              "          quickchartButtonEl.classList.remove('colab-df-spinner');\n",
              "          quickchartButtonEl.classList.add('colab-df-quickchart-complete');\n",
              "        }\n",
              "        (() => {\n",
              "          let quickchartButtonEl =\n",
              "            document.querySelector('#df-5dd27389-9615-47d4-b433-bda02aa15de4 button');\n",
              "          quickchartButtonEl.style.display =\n",
              "            google.colab.kernel.accessAllowed ? 'block' : 'none';\n",
              "        })();\n",
              "      </script>\n",
              "    </div>\n",
              "\n",
              "    </div>\n",
              "  </div>\n"
            ],
            "application/vnd.google.colaboratory.intrinsic+json": {
              "type": "dataframe",
              "variable_name": "df",
              "summary": "{\n  \"name\": \"df\",\n  \"rows\": 6812,\n  \"fields\": [\n    {\n      \"column\": 0,\n      \"properties\": {\n        \"dtype\": \"string\",\n        \"num_unique_values\": 5244,\n        \"samples\": [\n          \"This guy aint no mother-fuckin MC,\",\n          \"She don't need to see what I'm about to do\",\n          \"You ran me into the ground, but what comes around goes around (Yeah)\"\n        ],\n        \"semantic_type\": \"\",\n        \"description\": \"\"\n      }\n    }\n  ]\n}"
            }
          },
          "metadata": {},
          "execution_count": 9
        }
      ]
    },
    {
      "cell_type": "code",
      "source": [
        "sentence_tokens = []\n",
        "\n",
        "for _, row in df[:None].iterrows():\n",
        "    sentence_tokens.append(text_to_word_sequence(row[0]))"
      ],
      "metadata": {
        "id": "lb4wq_HJToG9"
      },
      "execution_count": 10,
      "outputs": []
    },
    {
      "cell_type": "markdown",
      "source": [
        "## 1) Creación de vectores vía Gensim"
      ],
      "metadata": {
        "id": "4ReEblTmUDhj"
      }
    },
    {
      "cell_type": "code",
      "source": [
        "w2v_model = Word2Vec(\n",
        "    min_count=5,     # frecuencia mínima de palabra para incluirla en el vocabulario\n",
        "    window=5,        # cant de palabras antes y desp de la predicha\n",
        "    vector_size=500, # embed_dim\n",
        "    negative=20,     # numero de neg samples\n",
        "    workers=1,       # numero de cores\n",
        "    sg=1             # modelo 0:CBOW  1:skipgram\n",
        ")"
      ],
      "metadata": {
        "id": "4cwBZ87rT3Ou"
      },
      "execution_count": 46,
      "outputs": []
    },
    {
      "cell_type": "code",
      "source": [
        "w2v_model.build_vocab(sentence_tokens)"
      ],
      "metadata": {
        "id": "_52fc_u2T-ti"
      },
      "execution_count": 47,
      "outputs": []
    },
    {
      "cell_type": "code",
      "source": [
        "print(\"Cantidad de docs en el corpus:\", w2v_model.corpus_count)"
      ],
      "metadata": {
        "id": "HtpmGF15T_kL",
        "colab": {
          "base_uri": "https://localhost:8080/"
        },
        "outputId": "abf395a9-7fb6-4b17-998c-1c3d0841c20d"
      },
      "execution_count": 48,
      "outputs": [
        {
          "output_type": "stream",
          "name": "stdout",
          "text": [
            "Cantidad de docs en el corpus: 6812\n"
          ]
        }
      ]
    },
    {
      "cell_type": "code",
      "source": [
        "print(\"Cantidad de words distintas en el corpus:\", len(w2v_model.wv.index_to_key))"
      ],
      "metadata": {
        "id": "VY0WDXbyUAo2",
        "colab": {
          "base_uri": "https://localhost:8080/"
        },
        "outputId": "7ea41827-9039-4bce-9366-7991d970c3b0"
      },
      "execution_count": 49,
      "outputs": [
        {
          "output_type": "stream",
          "name": "stdout",
          "text": [
            "Cantidad de words distintas en el corpus: 1347\n"
          ]
        }
      ]
    },
    {
      "cell_type": "code",
      "source": [
        "w2v_model.train(\n",
        "    sentence_tokens,\n",
        "    total_examples=w2v_model.corpus_count,\n",
        "    epochs=100,\n",
        "    compute_loss = True,\n",
        "    callbacks=[callback()]\n",
        ")"
      ],
      "metadata": {
        "id": "XtlFPGV_UHbO",
        "colab": {
          "base_uri": "https://localhost:8080/"
        },
        "outputId": "e422bd98-db9f-446d-dd1c-9841a818aa47"
      },
      "execution_count": 50,
      "outputs": [
        {
          "output_type": "stream",
          "name": "stdout",
          "text": [
            "Loss after epoch  0: 706679.75\n",
            "Loss after epoch  1: 544442.875\n",
            "Loss after epoch  2: 507125.625\n",
            "Loss after epoch  3: 475668.75\n",
            "Loss after epoch  4: 431549.25\n",
            "Loss after epoch  5: 420625.25\n",
            "Loss after epoch  6: 414382.25\n",
            "Loss after epoch  7: 410649.0\n",
            "Loss after epoch  8: 397916.25\n",
            "Loss after epoch  9: 368341.0\n",
            "Loss after epoch 10: 367184.5\n",
            "Loss after epoch 11: 366692.5\n",
            "Loss after epoch 12: 360845.0\n",
            "Loss after epoch 13: 357679.0\n",
            "Loss after epoch 14: 355578.0\n",
            "Loss after epoch 15: 353140.5\n",
            "Loss after epoch 16: 353931.0\n",
            "Loss after epoch 17: 352237.5\n",
            "Loss after epoch 18: 348418.0\n",
            "Loss after epoch 19: 343088.0\n",
            "Loss after epoch 20: 332783.0\n",
            "Loss after epoch 21: 323057.0\n",
            "Loss after epoch 22: 320919.0\n",
            "Loss after epoch 23: 320856.0\n",
            "Loss after epoch 24: 317299.0\n",
            "Loss after epoch 25: 316783.0\n",
            "Loss after epoch 26: 319168.0\n",
            "Loss after epoch 27: 315311.0\n",
            "Loss after epoch 28: 312598.0\n",
            "Loss after epoch 29: 317544.0\n",
            "Loss after epoch 30: 315861.0\n",
            "Loss after epoch 31: 314436.0\n",
            "Loss after epoch 32: 309282.0\n",
            "Loss after epoch 33: 312002.0\n",
            "Loss after epoch 34: 311362.0\n",
            "Loss after epoch 35: 312524.0\n",
            "Loss after epoch 36: 311581.0\n",
            "Loss after epoch 37: 309314.0\n",
            "Loss after epoch 38: 307978.0\n",
            "Loss after epoch 39: 312691.0\n",
            "Loss after epoch 40: 307896.0\n",
            "Loss after epoch 41: 308971.0\n",
            "Loss after epoch 42: 307942.0\n",
            "Loss after epoch 43: 306557.0\n",
            "Loss after epoch 44: 307363.0\n",
            "Loss after epoch 45: 305946.0\n",
            "Loss after epoch 46: 306315.0\n",
            "Loss after epoch 47: 287063.0\n",
            "Loss after epoch 48: 281866.0\n",
            "Loss after epoch 49: 281644.0\n",
            "Loss after epoch 50: 281386.0\n",
            "Loss after epoch 51: 278156.0\n",
            "Loss after epoch 52: 279250.0\n",
            "Loss after epoch 53: 281250.0\n",
            "Loss after epoch 54: 279742.0\n",
            "Loss after epoch 55: 277782.0\n",
            "Loss after epoch 56: 279054.0\n",
            "Loss after epoch 57: 278520.0\n",
            "Loss after epoch 58: 280188.0\n",
            "Loss after epoch 59: 278788.0\n",
            "Loss after epoch 60: 275886.0\n",
            "Loss after epoch 61: 277200.0\n",
            "Loss after epoch 62: 278128.0\n",
            "Loss after epoch 63: 277476.0\n",
            "Loss after epoch 64: 278040.0\n",
            "Loss after epoch 65: 275394.0\n",
            "Loss after epoch 66: 273172.0\n",
            "Loss after epoch 67: 273988.0\n",
            "Loss after epoch 68: 274040.0\n",
            "Loss after epoch 69: 274284.0\n",
            "Loss after epoch 70: 276180.0\n",
            "Loss after epoch 71: 273106.0\n",
            "Loss after epoch 72: 271684.0\n",
            "Loss after epoch 73: 271346.0\n",
            "Loss after epoch 74: 272158.0\n",
            "Loss after epoch 75: 272810.0\n",
            "Loss after epoch 76: 274022.0\n",
            "Loss after epoch 77: 273754.0\n",
            "Loss after epoch 78: 272662.0\n",
            "Loss after epoch 79: 270224.0\n",
            "Loss after epoch 80: 272330.0\n",
            "Loss after epoch 81: 267396.0\n",
            "Loss after epoch 82: 268612.0\n",
            "Loss after epoch 83: 266914.0\n",
            "Loss after epoch 84: 270724.0\n",
            "Loss after epoch 85: 271094.0\n",
            "Loss after epoch 86: 270902.0\n",
            "Loss after epoch 87: 266352.0\n",
            "Loss after epoch 88: 266546.0\n",
            "Loss after epoch 89: 266566.0\n",
            "Loss after epoch 90: 265390.0\n",
            "Loss after epoch 91: 264110.0\n",
            "Loss after epoch 92: 266804.0\n",
            "Loss after epoch 93: 264062.0\n",
            "Loss after epoch 94: 265676.0\n",
            "Loss after epoch 95: 266248.0\n",
            "Loss after epoch 96: 264340.0\n",
            "Loss after epoch 97: 264040.0\n",
            "Loss after epoch 98: 265300.0\n",
            "Loss after epoch 99: 264972.0\n"
          ]
        },
        {
          "output_type": "execute_result",
          "data": {
            "text/plain": [
              "(3928151, 6483800)"
            ]
          },
          "metadata": {},
          "execution_count": 50
        }
      ]
    },
    {
      "cell_type": "code",
      "source": [
        "plt.plot(LOSSES)\n",
        "#plt.xticks(list(range(len(LOSSES))))\n",
        "plt.xlabel('epoch')\n",
        "plt.ylabel('train loss')\n",
        "plt.grid(True)\n",
        "plt.tight_layout()"
      ],
      "metadata": {
        "id": "qmZVG6AQlMtx",
        "colab": {
          "base_uri": "https://localhost:8080/",
          "height": 487
        },
        "outputId": "c027e3fe-ca30-4793-abb9-0884cd1bfc82"
      },
      "execution_count": 53,
      "outputs": [
        {
          "output_type": "display_data",
          "data": {
            "text/plain": [
              "<Figure size 640x480 with 1 Axes>"
            ],
            "image/png": "[encoded data removed]"
          },
          "metadata": {}
        }
      ]
    },
    {
      "cell_type": "markdown",
      "source": [
        "## 2) Análisis de similitudes sobre términos interesantes"
      ],
      "metadata": {
        "id": "x67NwwDfUA-M"
      }
    },
    {
      "cell_type": "code",
      "source": [
        "# términos más similares de 'jerbo', término que podría sonar inesperado si uno no conoce la canción \"fack\"\n",
        "w2v_model.wv.most_similar(positive=[\"gerbil\"], topn=10)"
      ],
      "metadata": {
        "id": "nSg5l9A0Uhjm",
        "colab": {
          "base_uri": "https://localhost:8080/"
        },
        "outputId": "a43e3aa8-af1d-458a-edbf-3a75f16c9457"
      },
      "execution_count": 54,
      "outputs": [
        {
          "output_type": "execute_result",
          "data": {
            "text/plain": [
              "[('tube', 0.8348559141159058),\n",
              " ('shove', 0.714268147945404),\n",
              " ('space', 0.4962444603443146),\n",
              " ('bang', 0.4631466567516327),\n",
              " ('holding', 0.4496571719646454),\n",
              " ('shake', 0.4441472291946411),\n",
              " ('lighters', 0.4416087865829468),\n",
              " ('walked', 0.4409633278846741),\n",
              " ('metal', 0.4369065463542938),\n",
              " ('miles', 0.4352365732192993)]"
            ]
          },
          "metadata": {},
          "execution_count": 54
        }
      ]
    },
    {
      "cell_type": "markdown",
      "source": [
        "Efectivamente todas \"cuestiones\" tratadas en la canción mencionada."
      ],
      "metadata": {
        "id": "tIxrZExgimJv"
      }
    },
    {
      "cell_type": "code",
      "source": [
        "# términos más similares a 'love', tópico de controversia con eminem\n",
        "w2v_model.wv.most_similar(positive=[\"love\"], topn=10)"
      ],
      "metadata": {
        "id": "Hy1ePB_pUi36",
        "colab": {
          "base_uri": "https://localhost:8080/"
        },
        "outputId": "36e8f072-f7cf-4f42-abdb-ac2d9762df37"
      },
      "execution_count": 55,
      "outputs": [
        {
          "output_type": "execute_result",
          "data": {
            "text/plain": [
              "[('kicking', 0.34581291675567627),\n",
              " ('ladies', 0.3418879508972168),\n",
              " ('devil', 0.33431294560432434),\n",
              " ('living', 0.3229701817035675),\n",
              " ('somebody', 0.31971192359924316),\n",
              " ('compares', 0.3193514049053192),\n",
              " ('showed', 0.3155193626880646),\n",
              " ('p', 0.31062832474708557),\n",
              " ('goodbye', 0.30659428238868713),\n",
              " ('ugly', 0.30251750349998474)]"
            ]
          },
          "metadata": {},
          "execution_count": 55
        }
      ]
    },
    {
      "cell_type": "code",
      "source": [
        "# otra vez 'love' pero con términos más disímiles\n",
        "w2v_model.wv.most_similar(negative=[\"love\"], topn=10)"
      ],
      "metadata": {
        "id": "VmfWbZRGUi1r",
        "colab": {
          "base_uri": "https://localhost:8080/"
        },
        "outputId": "8ab219be-68b9-4b51-bc4b-4e6b526db27a"
      },
      "execution_count": 56,
      "outputs": [
        {
          "output_type": "execute_result",
          "data": {
            "text/plain": [
              "[('coming', 0.04288966953754425),\n",
              " ('box', 0.039870575070381165),\n",
              " ('whole', 0.019536910578608513),\n",
              " ('standing', 0.01059561688452959),\n",
              " ('tank', 0.0036149092484265566),\n",
              " ('himself', 0.00011766456736950204),\n",
              " ('great', -0.00024732601013965905),\n",
              " ('clear', -0.002662833547219634),\n",
              " ('gas', -0.0029984000138938427),\n",
              " ('ready', -0.0066373711451888084)]"
            ]
          },
          "metadata": {},
          "execution_count": 56
        }
      ]
    },
    {
      "cell_type": "markdown",
      "source": [
        "Muy al estilo de eminem, términos similares a 'love' son relacionados a las mujeres y a los problemas de relaciones interpersonales. Los más disímiles parecen asociados a autorrealización. Resulta interesante cómo resalta la postura de Eminem en muchas canciones de \"los demás traen problemas\" vs \"foco en mi mismo\"."
      ],
      "metadata": {
        "id": "HIDmwPqli0cq"
      }
    },
    {
      "cell_type": "code",
      "source": [
        "# términos más disímiles\n",
        "w2v_model.wv.most_similar(positive=[\"drugs\"], topn=10)"
      ],
      "metadata": {
        "colab": {
          "base_uri": "https://localhost:8080/"
        },
        "id": "3pFpMfLVaRpv",
        "outputId": "e3931f8d-9a19-44de-c55c-9607dbcdf6e1"
      },
      "execution_count": 84,
      "outputs": [
        {
          "output_type": "execute_result",
          "data": {
            "text/plain": [
              "[('lots', 0.5306333303451538),\n",
              " ('loved', 0.4523138999938965),\n",
              " ('valium', 0.4478413164615631),\n",
              " ('purple', 0.44287237524986267),\n",
              " ('loves', 0.4389994442462921),\n",
              " ('thank', 0.4278600811958313),\n",
              " (\"doin'\", 0.3968057632446289),\n",
              " ('yellow', 0.3900070786476135),\n",
              " ('heavy', 0.3829776346683502),\n",
              " ('past', 0.3808365762233734)]"
            ]
          },
          "metadata": {},
          "execution_count": 84
        }
      ]
    },
    {
      "cell_type": "code",
      "source": [
        "w2v_model.wv.most_similar(negative=[\"drugs\"], topn=10)"
      ],
      "metadata": {
        "colab": {
          "base_uri": "https://localhost:8080/"
        },
        "id": "2vztzjKebeoj",
        "outputId": "81c14da7-8bbc-4fcb-cee0-f90d792b2d0a"
      },
      "execution_count": 82,
      "outputs": [
        {
          "output_type": "execute_result",
          "data": {
            "text/plain": [
              "[('cash', 0.028469275683164597),\n",
              " ('come', 0.02743551693856716),\n",
              " ('running', 0.022558700293302536),\n",
              " (\"they'll\", 0.01893392764031887),\n",
              " ('your', 0.01755032129585743),\n",
              " ('here', 0.015010093338787556),\n",
              " ('losing', 0.014687427319586277),\n",
              " ('nobody', 0.014447946101427078),\n",
              " ('if', 0.0028482829220592976),\n",
              " ('fit', 0.002487694378942251)]"
            ]
          },
          "metadata": {},
          "execution_count": 82
        }
      ]
    },
    {
      "cell_type": "markdown",
      "source": [
        "Aplica lo mismo al término 'drugs'. Eminem históricamente tuvo un problema de abuso de sustancias, por lo que tanto los términos más similares como los menos tienen sentido en su asociación."
      ],
      "metadata": {
        "id": "DH25yzloj068"
      }
    },
    {
      "cell_type": "markdown",
      "source": [
        "## 3) Gráfico"
      ],
      "metadata": {
        "id": "VAbo7Wp0UjOA"
      }
    },
    {
      "cell_type": "code",
      "source": [
        "vecs, labels = reduce_dimensions(w2v_model)\n",
        "\n",
        "MAX_WORDS=200\n",
        "fig = px.scatter(x=vecs[:MAX_WORDS,0], y=vecs[:MAX_WORDS,1], text=labels[:MAX_WORDS])\n",
        "fig.show(renderer=\"colab\")"
      ],
      "metadata": {
        "id": "gB0j6AK8UlfV",
        "colab": {
          "base_uri": "https://localhost:8080/",
          "height": 542
        },
        "outputId": "2524dc17-2e33-462b-b149-2de6ff7c55b7"
      },
      "execution_count": 72,
      "outputs": [
        {
          "output_type": "display_data",
          "data": {
            "text/html": [
              "<html>\n",
              "<head><meta charset=\"utf-8\" /></head>\n",
              "<body>\n",
              "    <div>            <script src=\"https://cdnjs.cloudflare.com/ajax/libs/mathjax/2.7.5/MathJax.js?config=TeX-AMS-MML_SVG\"></script><script type=\"text/javascript\">if (window.MathJax && window.MathJax.Hub && window.MathJax.Hub.Config) {window.MathJax.Hub.Config({SVG: {font: \"STIX-Web\"}});}</script>                <script type=\"text/javascript\">window.PlotlyConfig = {MathJaxConfig: 'local'};</script>\n",
              "        <script charset=\"utf-8\" src=\"https://cdn.plot.ly/plotly-2.35.2.min.js\"></script>                <div id=\"372846c8-5afd-4410-b904-3da4dfa4339b\" class=\"plotly-graph-div\" style=\"height:525px; width:100%;\"></div>            <script type=\"text/javascript\">                                    window.PLOTLYENV=window.PLOTLYENV || {};                                    if (document.getElementById(\"372846c8-5afd-4410-b904-3da4dfa4339b\")) {                    Plotly.newPlot(                        \"372846c8-5afd-4410-b904-3da4dfa4339b\",                        [{\"hovertemplate\":\"x=%{x}\\u003cbr\\u003ey=%{y}\\u003cbr\\u003etext=%{text}\\u003cextra\\u003e\\u003c\\u002fextra\\u003e\",\"legendgroup\":\"\",\"marker\":{\"color\":\"#636efa\",\"symbol\":\"circle\"},\"mode\":\"markers+text\",\"name\":\"\",\"orientation\":\"v\",\"showlegend\":false,\"text\":[\"i\",\"the\",\"you\",\"to\",\"a\",\"and\",\"my\",\"i'm\",\"it\",\"me\",\"in\",\"that\",\"like\",\"of\",\"this\",\"but\",\"just\",\"so\",\"on\",\"is\",\"your\",\"don't\",\"up\",\"with\",\"get\",\"for\",\"be\",\"it's\",\"no\",\"all\",\"know\",\"what\",\"now\",\"out\",\"when\",\"they\",\"was\",\"not\",\"fuck\",\"ain't\",\"got\",\"at\",\"go\",\"can\",\"back\",\"if\",\"shit\",\"we\",\"he\",\"do\",\"one\",\"from\",\"'cause\",\"as\",\"never\",\"see\",\"think\",\"say\",\"his\",\"make\",\"you're\",\"off\",\"oh\",\"that's\",\"down\",\"way\",\"who\",\"her\",\"have\",\"can't\",\"take\",\"right\",\"ass\",\"bitch\",\"name\",\"or\",\"too\",\"let\",\"want\",\"love\",\"then\",\"are\",\"i'll\",\"these\",\"am\",\"time\",\"how\",\"been\",\"shady\",\"'em\",\"even\",\"why\",\"feel\",\"him\",\"yeah\",\"baby\",\"man\",\"cause\",\"come\",\"gonna\",\"still\",\"slim\",\"he's\",\"about\",\"look\",\"wanna\",\"little\",\"through\",\"some\",\"could\",\"an\",\"only\",\"did\",\"girl\",\"life\",\"over\",\"here\",\"put\",\"better\",\"give\",\"more\",\"need\",\"had\",\"there\",\"said\",\"i've\",\"she\",\"everybody\",\"stand\",\"aah\",\"by\",\"fuckin'\",\"them\",\"ever\",\"fucking\",\"tell\",\"rap\",\"again\",\"god\",\"bad\",\"crazy\",\"world\",\"will\",\"nothing\",\"before\",\"us\",\"try\",\"stop\",\"would\",\"maybe\",\"hear\",\"new\",\"where\",\"own\",\"please\",\"keep\",\"really\",\"something\",\"every\",\"made\",\"same\",\"gotta\",\"blow\",\"around\",\"day\",\"head\",\"there's\",\"into\",\"'til\",\"won't\",\"call\",\"yo\",\"mom\",\"didn't\",\"boy\",\"shot\",\"well\",\"gone\",\"white\",\"real\",\"face\",\"once\",\"night\",\"comes\",\"guess\",\"thing\",\"ya\",\"two\",\"lose\",\"shake\",\"while\",\"let's\",\"people\",\"yourself\",\"hit\",\"show\",\"ha\",\"find\",\"going\",\"goes\"],\"x\":[3.9148684,2.800106,3.5749993,3.240978,2.9275513,3.0960138,2.900893,3.2096896,3.4274173,3.498562,2.4177656,3.816417,3.3292246,2.4378853,2.8096492,4.0242376,3.4553227,3.3709538,2.5610118,2.8067515,2.607377,4.243219,1.8255199,2.1398177,2.9822412,2.977303,4.060888,3.636683,4.3967695,2.209605,4.5603437,4.2930403,3.7023058,2.1684754,3.4982917,2.9404256,4.4828653,4.976223,3.9052742,3.3612013,1.585679,8.129819,0.6257563,-7.708236,2.0365703,4.1976576,2.690039,3.1302717,1.8561822,4.8730173,2.074798,1.4024858,4.110262,10.584405,5.633963,1.5512791,6.652809,3.557759,3.0033598,4.7701616,3.9797094,1.3372504,7.914863,8.823797,2.5920732,5.3278904,-8.570625,0.07469784,4.3101583,6.00201,0.97344804,6.7532835,5.299812,2.6560059,-20.126791,5.036389,4.2428446,2.9022915,4.958892,5.921128,3.2114222,-13.044739,3.400971,1.3775995,16.72757,-12.432407,1.9463776,-1.5197194,-14.526797,4.716152,3.6196585,6.5390697,2.3214397,1.4366488,9.504765,6.2678933,6.456511,5.2468386,10.065493,4.3588557,6.833347,-14.421254,11.518794,7.7943754,9.946878,5.0301,2.518419,-2.6019807,0.6982138,-19.95487,6.200526,1.7084756,9.957955,3.8895123,5.931701,5.3313146,0.49445686,0.90403646,-6.791547,7.341271,9.362234,6.1246233,14.625194,4.933254,5.0335894,-1.6828203,5.1522846,-0.36044902,-8.822479,-9.2033,7.9789653,4.285637,3.3092728,5.1756063,6.415306,6.657694,8.80028,4.1082053,3.6866632,14.309114,13.703703,-8.570356,4.8524585,10.369925,2.712974,7.4990096,3.5625455,-0.69229555,-11.31719,11.629052,-11.61343,-7.7296386,6.378657,-19.548573,-9.645649,2.1527026,-8.838431,11.365059,-11.956725,-2.8939648,-0.48583943,1.6686643,8.963953,7.5432825,7.4835024,-6.6585903,17.27549,3.7407262,-5.08588,9.45484,10.142019,-2.088747,-4.864524,11.181581,3.8244495,4.70746,9.424876,19.612728,-14.6573305,-4.5930014,5.6352997,-7.99926,-6.1843357,10.410233,7.733236,11.209122,3.96328,10.249511,-6.577222,4.091725,14.834931,7.353693,-1.8616147,-3.4301536,1.7213091,1.1498598,-17.624897,-5.563709,9.123896,-3.9134254],\"xaxis\":\"x\",\"y\":[-3.6494162,-3.7585156,-4.0053368,-3.9877002,-3.3844147,-3.6027608,-3.3479548,-3.204547,-4.1100187,-4.0354595,-3.6467073,-3.3423488,-3.0349164,-3.1759136,-3.7872095,-3.7217112,-3.5128305,-4.1887016,-2.9290216,-2.6203363,-4.3590727,-3.698222,-3.283221,-3.5830686,-4.376153,-2.3265932,-4.668407,-2.7668717,-3.1971056,-4.102155,-3.4961174,-4.2211604,-2.1928322,-2.4961107,-4.811051,-5.3725767,-2.4187207,-5.1979756,-5.4959087,-4.936847,-2.8442297,-5.404288,-18.868526,-8.903703,-2.004181,-4.4109855,-4.895923,-10.022659,-4.481731,-4.4459615,-5.013422,-5.0101333,-2.6941578,-11.438242,-2.5417113,-6.405381,-4.8798394,-10.75443,-7.7016587,-6.3463354,-1.6912426,-3.7077277,-8.859845,0.113516174,3.216558,-4.014182,-2.2815018,-1.4192569,-5.194779,-4.5431542,-7.5427375,4.232856,1.2813548,-1.4052106,-11.453946,-3.700932,-0.992631,-5.8949547,-0.18026933,-3.1051638,-1.7734284,10.188948,-6.4671435,-2.2267873,-3.9569387,0.23286508,-6.0471854,3.5466173,10.074906,-5.687714,-5.815888,-2.4899766,-7.876053,-4.2754936,-0.6993469,-1.3063719,-5.799512,-4.782123,-8.280246,-7.2521396,-3.8325944,10.033719,6.9584646,-4.071104,-6.68728,-7.0617166,-6.4816866,-14.432857,-4.2270336,-6.025509,-3.3659885,13.223884,-3.24062,3.9306858,-5.311488,-13.396534,-6.207783,-3.4237208,-17.274265,-4.5761237,-7.5624228,-4.036214,9.660021,-8.177518,-2.4665716,3.3328404,-0.93850106,-11.536843,5.5411525,11.337474,-17.751375,-0.27101013,-0.9644257,-3.1594734,-14.499891,-1.9342291,-6.6894164,-6.3674507,-11.74242,-3.1929915,-0.16178983,-15.615058,-12.410771,-0.30892676,-11.006963,-15.936254,-7.2113824,-8.984161,-5.0696983,-10.288838,0.14165889,5.5699706,4.6543436,3.7209508,5.5279617,-5.46841,-2.686025,-0.5302954,0.8242204,17.067957,-5.808077,-8.233489,-9.6561985,-6.9484787,-6.258073,-0.48882222,2.0097365,9.571153,4.5787888,-2.4254417,-5.843573,-15.434358,16.0895,-5.248185,5.4563327,-14.40459,0.49375576,-2.1716475,-0.22967792,7.0996,-9.605669,-18.819221,-2.0564156,0.6033667,-14.423927,-7.505482,-8.019848,-13.172353,-9.693804,3.841552,-13.878109,-12.737568,-11.568401,-3.4168882,-7.1761217,-5.7002397,7.953975,-8.609288,-1.4989834,-5.4031067],\"yaxis\":\"y\",\"type\":\"scatter\"}],                        {\"template\":{\"data\":{\"histogram2dcontour\":[{\"type\":\"histogram2dcontour\",\"colorbar\":{\"outlinewidth\":0,\"ticks\":\"\"},\"colorscale\":[[0.0,\"#0d0887\"],[0.1111111111111111,\"#46039f\"],[0.2222222222222222,\"#7201a8\"],[0.3333333333333333,\"#9c179e\"],[0.4444444444444444,\"#bd3786\"],[0.5555555555555556,\"#d8576b\"],[0.6666666666666666,\"#ed7953\"],[0.7777777777777778,\"#fb9f3a\"],[0.8888888888888888,\"#fdca26\"],[1.0,\"#f0f921\"]]}],\"choropleth\":[{\"type\":\"choropleth\",\"colorbar\":{\"outlinewidth\":0,\"ticks\":\"\"}}],\"histogram2d\":[{\"type\":\"histogram2d\",\"colorbar\":{\"outlinewidth\":0,\"ticks\":\"\"},\"colorscale\":[[0.0,\"#0d0887\"],[0.1111111111111111,\"#46039f\"],[0.2222222222222222,\"#7201a8\"],[0.3333333333333333,\"#9c179e\"],[0.4444444444444444,\"#bd3786\"],[0.5555555555555556,\"#d8576b\"],[0.6666666666666666,\"#ed7953\"],[0.7777777777777778,\"#fb9f3a\"],[0.8888888888888888,\"#fdca26\"],[1.0,\"#f0f921\"]]}],\"heatmap\":[{\"type\":\"heatmap\",\"colorbar\":{\"outlinewidth\":0,\"ticks\":\"\"},\"colorscale\":[[0.0,\"#0d0887\"],[0.1111111111111111,\"#46039f\"],[0.2222222222222222,\"#7201a8\"],[0.3333333333333333,\"#9c179e\"],[0.4444444444444444,\"#bd3786\"],[0.5555555555555556,\"#d8576b\"],[0.6666666666666666,\"#ed7953\"],[0.7777777777777778,\"#fb9f3a\"],[0.8888888888888888,\"#fdca26\"],[1.0,\"#f0f921\"]]}],\"heatmapgl\":[{\"type\":\"heatmapgl\",\"colorbar\":{\"outlinewidth\":0,\"ticks\":\"\"},\"colorscale\":[[0.0,\"#0d0887\"],[0.1111111111111111,\"#46039f\"],[0.2222222222222222,\"#7201a8\"],[0.3333333333333333,\"#9c179e\"],[0.4444444444444444,\"#bd3786\"],[0.5555555555555556,\"#d8576b\"],[0.6666666666666666,\"#ed7953\"],[0.7777777777777778,\"#fb9f3a\"],[0.8888888888888888,\"#fdca26\"],[1.0,\"#f0f921\"]]}],\"contourcarpet\":[{\"type\":\"contourcarpet\",\"colorbar\":{\"outlinewidth\":0,\"ticks\":\"\"}}],\"contour\":[{\"type\":\"contour\",\"colorbar\":{\"outlinewidth\":0,\"ticks\":\"\"},\"colorscale\":[[0.0,\"#0d0887\"],[0.1111111111111111,\"#46039f\"],[0.2222222222222222,\"#7201a8\"],[0.3333333333333333,\"#9c179e\"],[0.4444444444444444,\"#bd3786\"],[0.5555555555555556,\"#d8576b\"],[0.6666666666666666,\"#ed7953\"],[0.7777777777777778,\"#fb9f3a\"],[0.8888888888888888,\"#fdca26\"],[1.0,\"#f0f921\"]]}],\"surface\":[{\"type\":\"surface\",\"colorbar\":{\"outlinewidth\":0,\"ticks\":\"\"},\"colorscale\":[[0.0,\"#0d0887\"],[0.1111111111111111,\"#46039f\"],[0.2222222222222222,\"#7201a8\"],[0.3333333333333333,\"#9c179e\"],[0.4444444444444444,\"#bd3786\"],[0.5555555555555556,\"#d8576b\"],[0.6666666666666666,\"#ed7953\"],[0.7777777777777778,\"#fb9f3a\"],[0.8888888888888888,\"#fdca26\"],[1.0,\"#f0f921\"]]}],\"mesh3d\":[{\"type\":\"mesh3d\",\"colorbar\":{\"outlinewidth\":0,\"ticks\":\"\"}}],\"scatter\":[{\"fillpattern\":{\"fillmode\":\"overlay\",\"size\":10,\"solidity\":0.2},\"type\":\"scatter\"}],\"parcoords\":[{\"type\":\"parcoords\",\"line\":{\"colorbar\":{\"outlinewidth\":0,\"ticks\":\"\"}}}],\"scatterpolargl\":[{\"type\":\"scatterpolargl\",\"marker\":{\"colorbar\":{\"outlinewidth\":0,\"ticks\":\"\"}}}],\"bar\":[{\"error_x\":{\"color\":\"#2a3f5f\"},\"error_y\":{\"color\":\"#2a3f5f\"},\"marker\":{\"line\":{\"color\":\"#E5ECF6\",\"width\":0.5},\"pattern\":{\"fillmode\":\"overlay\",\"size\":10,\"solidity\":0.2}},\"type\":\"bar\"}],\"scattergeo\":[{\"type\":\"scattergeo\",\"marker\":{\"colorbar\":{\"outlinewidth\":0,\"ticks\":\"\"}}}],\"scatterpolar\":[{\"type\":\"scatterpolar\",\"marker\":{\"colorbar\":{\"outlinewidth\":0,\"ticks\":\"\"}}}],\"histogram\":[{\"marker\":{\"pattern\":{\"fillmode\":\"overlay\",\"size\":10,\"solidity\":0.2}},\"type\":\"histogram\"}],\"scattergl\":[{\"type\":\"scattergl\",\"marker\":{\"colorbar\":{\"outlinewidth\":0,\"ticks\":\"\"}}}],\"scatter3d\":[{\"type\":\"scatter3d\",\"line\":{\"colorbar\":{\"outlinewidth\":0,\"ticks\":\"\"}},\"marker\":{\"colorbar\":{\"outlinewidth\":0,\"ticks\":\"\"}}}],\"scattermapbox\":[{\"type\":\"scattermapbox\",\"marker\":{\"colorbar\":{\"outlinewidth\":0,\"ticks\":\"\"}}}],\"scatterternary\":[{\"type\":\"scatterternary\",\"marker\":{\"colorbar\":{\"outlinewidth\":0,\"ticks\":\"\"}}}],\"scattercarpet\":[{\"type\":\"scattercarpet\",\"marker\":{\"colorbar\":{\"outlinewidth\":0,\"ticks\":\"\"}}}],\"carpet\":[{\"aaxis\":{\"endlinecolor\":\"#2a3f5f\",\"gridcolor\":\"white\",\"linecolor\":\"white\",\"minorgridcolor\":\"white\",\"startlinecolor\":\"#2a3f5f\"},\"baxis\":{\"endlinecolor\":\"#2a3f5f\",\"gridcolor\":\"white\",\"linecolor\":\"white\",\"minorgridcolor\":\"white\",\"startlinecolor\":\"#2a3f5f\"},\"type\":\"carpet\"}],\"table\":[{\"cells\":{\"fill\":{\"color\":\"#EBF0F8\"},\"line\":{\"color\":\"white\"}},\"header\":{\"fill\":{\"color\":\"#C8D4E3\"},\"line\":{\"color\":\"white\"}},\"type\":\"table\"}],\"barpolar\":[{\"marker\":{\"line\":{\"color\":\"#E5ECF6\",\"width\":0.5},\"pattern\":{\"fillmode\":\"overlay\",\"size\":10,\"solidity\":0.2}},\"type\":\"barpolar\"}],\"pie\":[{\"automargin\":true,\"type\":\"pie\"}]},\"layout\":{\"autotypenumbers\":\"strict\",\"colorway\":[\"#636efa\",\"#EF553B\",\"#00cc96\",\"#ab63fa\",\"#FFA15A\",\"#19d3f3\",\"#FF6692\",\"#B6E880\",\"#FF97FF\",\"#FECB52\"],\"font\":{\"color\":\"#2a3f5f\"},\"hovermode\":\"closest\",\"hoverlabel\":{\"align\":\"left\"},\"paper_bgcolor\":\"white\",\"plot_bgcolor\":\"#E5ECF6\",\"polar\":{\"bgcolor\":\"#E5ECF6\",\"angularaxis\":{\"gridcolor\":\"white\",\"linecolor\":\"white\",\"ticks\":\"\"},\"radialaxis\":{\"gridcolor\":\"white\",\"linecolor\":\"white\",\"ticks\":\"\"}},\"ternary\":{\"bgcolor\":\"#E5ECF6\",\"aaxis\":{\"gridcolor\":\"white\",\"linecolor\":\"white\",\"ticks\":\"\"},\"baxis\":{\"gridcolor\":\"white\",\"linecolor\":\"white\",\"ticks\":\"\"},\"caxis\":{\"gridcolor\":\"white\",\"linecolor\":\"white\",\"ticks\":\"\"}},\"coloraxis\":{\"colorbar\":{\"outlinewidth\":0,\"ticks\":\"\"}},\"colorscale\":{\"sequential\":[[0.0,\"#0d0887\"],[0.1111111111111111,\"#46039f\"],[0.2222222222222222,\"#7201a8\"],[0.3333333333333333,\"#9c179e\"],[0.4444444444444444,\"#bd3786\"],[0.5555555555555556,\"#d8576b\"],[0.6666666666666666,\"#ed7953\"],[0.7777777777777778,\"#fb9f3a\"],[0.8888888888888888,\"#fdca26\"],[1.0,\"#f0f921\"]],\"sequentialminus\":[[0.0,\"#0d0887\"],[0.1111111111111111,\"#46039f\"],[0.2222222222222222,\"#7201a8\"],[0.3333333333333333,\"#9c179e\"],[0.4444444444444444,\"#bd3786\"],[0.5555555555555556,\"#d8576b\"],[0.6666666666666666,\"#ed7953\"],[0.7777777777777778,\"#fb9f3a\"],[0.8888888888888888,\"#fdca26\"],[1.0,\"#f0f921\"]],\"diverging\":[[0,\"#8e0152\"],[0.1,\"#c51b7d\"],[0.2,\"#de77ae\"],[0.3,\"#f1b6da\"],[0.4,\"#fde0ef\"],[0.5,\"#f7f7f7\"],[0.6,\"#e6f5d0\"],[0.7,\"#b8e186\"],[0.8,\"#7fbc41\"],[0.9,\"#4d9221\"],[1,\"#276419\"]]},\"xaxis\":{\"gridcolor\":\"white\",\"linecolor\":\"white\",\"ticks\":\"\",\"title\":{\"standoff\":15},\"zerolinecolor\":\"white\",\"automargin\":true,\"zerolinewidth\":2},\"yaxis\":{\"gridcolor\":\"white\",\"linecolor\":\"white\",\"ticks\":\"\",\"title\":{\"standoff\":15},\"zerolinecolor\":\"white\",\"automargin\":true,\"zerolinewidth\":2},\"scene\":{\"xaxis\":{\"backgroundcolor\":\"#E5ECF6\",\"gridcolor\":\"white\",\"linecolor\":\"white\",\"showbackground\":true,\"ticks\":\"\",\"zerolinecolor\":\"white\",\"gridwidth\":2},\"yaxis\":{\"backgroundcolor\":\"#E5ECF6\",\"gridcolor\":\"white\",\"linecolor\":\"white\",\"showbackground\":true,\"ticks\":\"\",\"zerolinecolor\":\"white\",\"gridwidth\":2},\"zaxis\":{\"backgroundcolor\":\"#E5ECF6\",\"gridcolor\":\"white\",\"linecolor\":\"white\",\"showbackground\":true,\"ticks\":\"\",\"zerolinecolor\":\"white\",\"gridwidth\":2}},\"shapedefaults\":{\"line\":{\"color\":\"#2a3f5f\"}},\"annotationdefaults\":{\"arrowcolor\":\"#2a3f5f\",\"arrowhead\":0,\"arrowwidth\":1},\"geo\":{\"bgcolor\":\"white\",\"landcolor\":\"#E5ECF6\",\"subunitcolor\":\"white\",\"showland\":true,\"showlakes\":true,\"lakecolor\":\"white\"},\"title\":{\"x\":0.05},\"mapbox\":{\"style\":\"light\"}}},\"xaxis\":{\"anchor\":\"y\",\"domain\":[0.0,1.0],\"title\":{\"text\":\"x\"}},\"yaxis\":{\"anchor\":\"x\",\"domain\":[0.0,1.0],\"title\":{\"text\":\"y\"}},\"legend\":{\"tracegroupgap\":0},\"margin\":{\"t\":60}},                        {\"responsive\": true}                    ).then(function(){\n",
              "                            \n",
              "var gd = document.getElementById('372846c8-5afd-4410-b904-3da4dfa4339b');\n",
              "var x = new MutationObserver(function (mutations, observer) {{\n",
              "        var display = window.getComputedStyle(gd).display;\n",
              "        if (!display || display === 'none') {{\n",
              "            console.log([gd, 'removed!']);\n",
              "            Plotly.purge(gd);\n",
              "            observer.disconnect();\n",
              "        }}\n",
              "}});\n",
              "\n",
              "// Listen for the removal of the full notebook cells\n",
              "var notebookContainer = gd.closest('#notebook-container');\n",
              "if (notebookContainer) {{\n",
              "    x.observe(notebookContainer, {childList: true});\n",
              "}}\n",
              "\n",
              "// Listen for the clearing of the current output cell\n",
              "var outputEl = gd.closest('.output');\n",
              "if (outputEl) {{\n",
              "    x.observe(outputEl, {childList: true});\n",
              "}}\n",
              "\n",
              "                        })                };                            </script>        </div>\n",
              "</body>\n",
              "</html>"
            ]
          },
          "metadata": {}
        }
      ]
    },
    {
      "cell_type": "markdown",
      "source": [
        "Hay una gran nube de palabras con algunos satélites bastante diferenciados.\n",
        "\n",
        "Por ejemplo \"slim\" y \"shady\" están muy cerca dado que \"slim shady\" es un \"alter ego\" de Eminem. También son términos cercanos \"please\" y \"stand\", con \"real\" apenas más lejos. Esto es seguramente un resultado de la canción \"The Real Slim Shady\".\n",
        "\n",
        "Dentro del cluster principal, hacia arriba podemos apreciar términos como \"girl\", \"baby\", \"shake\", \"want\" y \"love\". Hacia abajo aparecen palabras como \"god\", \"face\" y \"feel\"."
      ],
      "metadata": {
        "id": "JzkAg5ECf5wz"
      }
    },
    {
      "cell_type": "code",
      "source": [
        "vecs, labels = reduce_dimensions(w2v_model,3)\n",
        "\n",
        "fig = px.scatter_3d(x=vecs[:MAX_WORDS,0], y=vecs[:MAX_WORDS,1], z=vecs[:MAX_WORDS,2],text=labels[:MAX_WORDS])\n",
        "fig.update_traces(marker_size = 2)\n",
        "fig.show(renderer=\"colab\")"
      ],
      "metadata": {
        "id": "l8obTOogUmH7",
        "colab": {
          "base_uri": "https://localhost:8080/",
          "height": 542
        },
        "outputId": "e7760696-c4df-47ae-8043-71033ab5202c"
      },
      "execution_count": 71,
      "outputs": [
        {
          "output_type": "display_data",
          "data": {
            "text/html": [
              "<html>\n",
              "<head><meta charset=\"utf-8\" /></head>\n",
              "<body>\n",
              "    <div>            <script src=\"https://cdnjs.cloudflare.com/ajax/libs/mathjax/2.7.5/MathJax.js?config=TeX-AMS-MML_SVG\"></script><script type=\"text/javascript\">if (window.MathJax && window.MathJax.Hub && window.MathJax.Hub.Config) {window.MathJax.Hub.Config({SVG: {font: \"STIX-Web\"}});}</script>                <script type=\"text/javascript\">window.PlotlyConfig = {MathJaxConfig: 'local'};</script>\n",
              "        <script charset=\"utf-8\" src=\"https://cdn.plot.ly/plotly-2.35.2.min.js\"></script>                <div id=\"73109491-b419-407c-9b1e-b09bc37f774a\" class=\"plotly-graph-div\" style=\"height:525px; width:100%;\"></div>            <script type=\"text/javascript\">                                    window.PLOTLYENV=window.PLOTLYENV || {};                                    if (document.getElementById(\"73109491-b419-407c-9b1e-b09bc37f774a\")) {                    Plotly.newPlot(                        \"73109491-b419-407c-9b1e-b09bc37f774a\",                        [{\"hovertemplate\":\"x=%{x}\\u003cbr\\u003ey=%{y}\\u003cbr\\u003ez=%{z}\\u003cbr\\u003etext=%{text}\\u003cextra\\u003e\\u003c\\u002fextra\\u003e\",\"legendgroup\":\"\",\"marker\":{\"color\":\"#636efa\",\"symbol\":\"circle\",\"size\":2},\"mode\":\"markers+text\",\"name\":\"\",\"scene\":\"scene\",\"showlegend\":false,\"text\":[\"i\",\"the\",\"you\",\"to\",\"a\",\"and\",\"my\",\"i'm\",\"it\",\"me\",\"in\",\"that\",\"like\",\"of\",\"this\",\"but\",\"just\",\"so\",\"on\",\"is\",\"your\",\"don't\",\"up\",\"with\",\"get\",\"for\",\"be\",\"it's\",\"no\",\"all\",\"know\",\"what\",\"now\",\"out\",\"when\",\"they\",\"was\",\"not\",\"fuck\",\"ain't\",\"got\",\"at\",\"go\",\"can\",\"back\",\"if\",\"shit\",\"we\",\"he\",\"do\",\"one\",\"from\",\"'cause\",\"as\",\"never\",\"see\",\"think\",\"say\",\"his\",\"make\",\"you're\",\"off\",\"oh\",\"that's\",\"down\",\"way\",\"who\",\"her\",\"have\",\"can't\",\"take\",\"right\",\"ass\",\"bitch\",\"name\",\"or\",\"too\",\"let\",\"want\",\"love\",\"then\",\"are\",\"i'll\",\"these\",\"am\",\"time\",\"how\",\"been\",\"shady\",\"'em\",\"even\",\"why\",\"feel\",\"him\",\"yeah\",\"baby\",\"man\",\"cause\",\"come\",\"gonna\",\"still\",\"slim\",\"he's\",\"about\",\"look\",\"wanna\",\"little\",\"through\",\"some\",\"could\",\"an\",\"only\",\"did\",\"girl\",\"life\",\"over\",\"here\",\"put\",\"better\",\"give\",\"more\",\"need\",\"had\",\"there\",\"said\",\"i've\",\"she\",\"everybody\",\"stand\",\"aah\",\"by\",\"fuckin'\",\"them\",\"ever\",\"fucking\",\"tell\",\"rap\",\"again\",\"god\",\"bad\",\"crazy\",\"world\",\"will\",\"nothing\",\"before\",\"us\",\"try\",\"stop\",\"would\",\"maybe\",\"hear\",\"new\",\"where\",\"own\",\"please\",\"keep\",\"really\",\"something\",\"every\",\"made\",\"same\",\"gotta\",\"blow\",\"around\",\"day\",\"head\",\"there's\",\"into\",\"'til\",\"won't\",\"call\",\"yo\",\"mom\",\"didn't\",\"boy\",\"shot\",\"well\",\"gone\",\"white\",\"real\",\"face\",\"once\",\"night\",\"comes\",\"guess\",\"thing\",\"ya\",\"two\",\"lose\",\"shake\",\"while\",\"let's\",\"people\",\"yourself\",\"hit\",\"show\",\"ha\",\"find\",\"going\",\"goes\"],\"x\":[1.379999,-172.48587,0.69755363,56.48863,4.082339,-2.8435724,0.2708843,-4.9117517,6.4012256,0.1731525,2.602067,-3.436611,-1.8463546,-2.8140082,9.493356,-6.7344723,0.056537163,5.8382883,-8.455209,9.006484,-28.169428,-2.7111182,8.930817,-10.562861,4.9729395,-13.121007,-50.67619,-22.206512,-37.93996,-45.411068,-33.66358,-14.052371,-58.256474,-8.435077,11.032277,-39.874653,12.686332,15.580142,-26.554472,22.390444,35.77651,-11.879704,57.354687,-5.9242663,-23.411627,-59.32969,7.6666512,35.074337,-22.12301,25.4853,70.78869,47.350567,-2.9995143,63.206154,-7.2823706,-22.63492,3.1509426,-66.388115,16.05376,20.989319,33.24409,36.714146,9.271304,-55.963795,-48.1357,54.27204,-7.448206,-3.810925,51.40462,69.62219,28.20579,39.846146,-25.991493,26.387634,33.969055,54.513412,-7.416295,48.26515,-11.890725,-25.252056,5.5160937,-26.663391,41.160255,-19.35712,-45.31293,-23.923273,12.788201,-17.525778,-24.840973,2.6709065,32.613213,-0.6302828,26.34908,24.507732,-43.390472,6.2339725,-43.813087,40.390137,-52.08529,32.286255,-26.541117,-23.022797,-52.396545,-41.446198,34.19106,33.551285,56.672874,31.564295,58.07595,-42.345173,-3.2991953,10.937336,-2.32833,-41.435112,62.854027,66.66306,71.392365,50.816883,61.325733,-33.765675,-52.351177,58.787308,55.732464,68.792755,-53.44577,-9.252335,-18.85389,25.55698,18.913206,-43.24816,36.96863,29.481592,17.232048,-40.03345,-34.490166,-11.565762,62.31776,40.121292,49.739407,-17.383114,1.0958388,48.560143,-29.544773,-31.686554,25.965273,-40.84949,14.396011,14.19705,30.131233,12.90951,1.2493306,23.60379,58.643326,53.599575,13.403297,-13.729654,-8.842817,-21.89779,6.338757,-8.867898,8.055246,62.442287,46.15459,-8.524226,61.77069,-9.480141,-4.7530036,-15.791154,6.9988513,-34.60486,-18.088696,48.1709,-37.314964,-17.142796,19.183672,28.21991,-67.36447,-34.614277,6.167677,-4.9011655,60.48808,-21.695332,-24.143694,-55.726086,26.811663,-19.984106,46.38685,39.148865,32.04939,-33.284363,6.9192824,6.992304,25.763325,36.00579,51.72908,68.544525,-45.335205,32.309025,-1.1357455,26.555155],\"y\":[13.894518,44.835976,11.447066,28.570976,7.3666277,9.080177,1.2144107,5.107754,13.217881,17.468401,4.9116635,17.58964,11.113013,0.037426967,12.284726,14.635354,8.534474,19.622108,5.1112757,7.9927535,-37.32698,23.653862,2.7510378,12.899784,16.340933,7.936792,28.926636,-9.740244,29.389755,-31.803942,2.97894,-19.147068,-13.653677,44.939854,4.0983343,28.385792,59.371975,3.37888,-22.187332,-38.89057,46.702816,11.695021,-4.8802767,54.802834,-50.672424,-22.442814,62.26385,38.4393,48.983845,8.822797,0.5375244,-2.2793324,37.001938,9.0861635,44.10415,9.224835,53.53107,15.873177,59.466404,42.996956,17.628592,-1.0971596,18.293718,35.457344,-42.007553,24.583767,-59.328075,22.288412,3.3663497,-2.4183912,-24.815979,-60.284523,2.7989554,37.056232,-9.221454,11.71844,21.382292,37.655197,-12.121643,68.1571,-47.73267,-28.14393,18.643536,-37.299866,23.921383,19.460613,-34.57121,26.908619,-25.448809,7.269503,-43.424225,56.718155,49.624928,-10.4195,0.19694398,68.17721,33.719765,34.257767,4.9553137,18.396572,33.34694,-26.386307,8.279178,47.784912,-27.519287,-57.01943,25.030842,-28.254818,-11.26334,-46.73193,68.87128,6.050213,64.6308,-9.839262,5.6881695,15.29995,-12.589994,40.274082,-4.380406,18.539408,-4.766462,-8.182606,39.82234,14.980194,43.06043,28.47932,52.669952,-17.45793,6.828286,-21.701193,5.0111995,26.736824,15.991807,48.73905,-20.563944,16.412045,22.5013,52.442966,21.188768,-11.118475,38.238186,27.194723,28.574266,35.078007,40.259453,-31.329315,-0.5485055,-2.0723662,63.19476,13.710954,-16.382704,-6.2518044,-21.680176,8.368586,5.7421074,30.773764,-52.51094,41.97765,-22.32677,46.79632,54.22036,26.597239,-3.6548343,-38.65497,35.5521,-36.00285,11.843373,-10.139996,0.09983381,61.692577,0.8160417,4.8850145,5.317616,55.388058,20.801832,13.559556,26.427765,-3.0745718,-37.100906,-6.6919966,1.6298769,-38.577873,-29.373093,-0.48211253,-0.078739025,44.966778,-12.386306,-50.30609,22.663498,-15.251093,50.898018,38.86131,5.08841,32.663967,-15.8719845,16.580385,-19.657314,26.991951,72.330734,1.8834494],\"z\":[3.7053382,-44.265915,-1.6471374,-13.442776,2.9155133,3.3805492,1.5176018,-2.846869,-5.2290897,-3.947199,-6.087332,6.1298904,-9.304602,8.524687,2.153232,-1.390388,9.800701,1.0709549,5.27188,8.723739,-41.179134,0.085029766,-1.8212184,6.978534,10.222651,-1.5444432,16.47709,-49.586025,11.31755,2.1992247,-5.5913105,-51.606956,7.029219,-40.697674,-69.46147,-51.580273,18.423708,-58.256245,-50.519928,-54.63336,39.31536,50.13775,-41.061714,43.489277,-40.777653,-15.578965,-9.805097,-45.880558,18.819708,-53.853046,-9.058018,54.40263,58.77215,30.521683,-53.208336,62.074,-45.071396,18.640667,34.28528,-52.637672,-59.759182,61.978416,-71.71514,-29.445967,21.039207,-32.490784,35.884083,53.36788,-50.57306,22.07707,36.146122,-12.647239,1.3673484,39.691525,48.678493,-10.159231,-65.48737,35.60146,-72.670235,-3.0834782,-53.84561,27.297848,51.76866,56.73087,28.180962,44.5899,50.03531,-33.751617,53.698048,70.522125,49.578026,16.805462,31.404526,66.05338,-60.02447,11.573552,44.927505,47.57575,46.447193,63.06048,-59.114082,48.926193,-11.5715065,-31.662828,53.507973,-30.479498,37.195892,-56.52798,41.87068,33.83159,-17.492153,17.366259,-34.15394,-18.490938,-18.38482,-11.245318,1.8029536,-33.13209,6.8621187,-61.16622,35.22097,29.217741,22.62502,15.426814,16.211891,-31.111996,39.407818,-25.238335,34.47653,-17.286848,48.93956,49.729477,67.17757,37.54592,46.034203,62.032394,-21.610271,-22.950762,-15.009334,-24.40119,-45.294983,26.190899,39.939896,-34.83651,51.571903,-40.023552,74.757614,62.57149,9.467614,-12.770137,35.02804,-54.55605,28.541557,6.881415,44.01861,65.59643,47.252987,-48.25084,29.449362,24.427467,47.277935,23.638494,26.85153,48.863777,8.171489,0.48091576,-73.92757,-60.545067,-20.039373,4.60511,-68.26623,-2.568135,44.511616,-44.4926,-51.812847,52.30681,-3.9616895,-27.49718,34.134663,34.414326,-29.927704,-54.591137,-15.637061,-48.388386,-66.67758,29.340416,45.980743,38.512936,38.265217,-20.590721,9.897152,-54.379513,64.11475,34.508846,-49.860584,1.7406962,29.733261,2.3368773,-2.579447,29.772013],\"type\":\"scatter3d\"}],                        {\"template\":{\"data\":{\"histogram2dcontour\":[{\"type\":\"histogram2dcontour\",\"colorbar\":{\"outlinewidth\":0,\"ticks\":\"\"},\"colorscale\":[[0.0,\"#0d0887\"],[0.1111111111111111,\"#46039f\"],[0.2222222222222222,\"#7201a8\"],[0.3333333333333333,\"#9c179e\"],[0.4444444444444444,\"#bd3786\"],[0.5555555555555556,\"#d8576b\"],[0.6666666666666666,\"#ed7953\"],[0.7777777777777778,\"#fb9f3a\"],[0.8888888888888888,\"#fdca26\"],[1.0,\"#f0f921\"]]}],\"choropleth\":[{\"type\":\"choropleth\",\"colorbar\":{\"outlinewidth\":0,\"ticks\":\"\"}}],\"histogram2d\":[{\"type\":\"histogram2d\",\"colorbar\":{\"outlinewidth\":0,\"ticks\":\"\"},\"colorscale\":[[0.0,\"#0d0887\"],[0.1111111111111111,\"#46039f\"],[0.2222222222222222,\"#7201a8\"],[0.3333333333333333,\"#9c179e\"],[0.4444444444444444,\"#bd3786\"],[0.5555555555555556,\"#d8576b\"],[0.6666666666666666,\"#ed7953\"],[0.7777777777777778,\"#fb9f3a\"],[0.8888888888888888,\"#fdca26\"],[1.0,\"#f0f921\"]]}],\"heatmap\":[{\"type\":\"heatmap\",\"colorbar\":{\"outlinewidth\":0,\"ticks\":\"\"},\"colorscale\":[[0.0,\"#0d0887\"],[0.1111111111111111,\"#46039f\"],[0.2222222222222222,\"#7201a8\"],[0.3333333333333333,\"#9c179e\"],[0.4444444444444444,\"#bd3786\"],[0.5555555555555556,\"#d8576b\"],[0.6666666666666666,\"#ed7953\"],[0.7777777777777778,\"#fb9f3a\"],[0.8888888888888888,\"#fdca26\"],[1.0,\"#f0f921\"]]}],\"heatmapgl\":[{\"type\":\"heatmapgl\",\"colorbar\":{\"outlinewidth\":0,\"ticks\":\"\"},\"colorscale\":[[0.0,\"#0d0887\"],[0.1111111111111111,\"#46039f\"],[0.2222222222222222,\"#7201a8\"],[0.3333333333333333,\"#9c179e\"],[0.4444444444444444,\"#bd3786\"],[0.5555555555555556,\"#d8576b\"],[0.6666666666666666,\"#ed7953\"],[0.7777777777777778,\"#fb9f3a\"],[0.8888888888888888,\"#fdca26\"],[1.0,\"#f0f921\"]]}],\"contourcarpet\":[{\"type\":\"contourcarpet\",\"colorbar\":{\"outlinewidth\":0,\"ticks\":\"\"}}],\"contour\":[{\"type\":\"contour\",\"colorbar\":{\"outlinewidth\":0,\"ticks\":\"\"},\"colorscale\":[[0.0,\"#0d0887\"],[0.1111111111111111,\"#46039f\"],[0.2222222222222222,\"#7201a8\"],[0.3333333333333333,\"#9c179e\"],[0.4444444444444444,\"#bd3786\"],[0.5555555555555556,\"#d8576b\"],[0.6666666666666666,\"#ed7953\"],[0.7777777777777778,\"#fb9f3a\"],[0.8888888888888888,\"#fdca26\"],[1.0,\"#f0f921\"]]}],\"surface\":[{\"type\":\"surface\",\"colorbar\":{\"outlinewidth\":0,\"ticks\":\"\"},\"colorscale\":[[0.0,\"#0d0887\"],[0.1111111111111111,\"#46039f\"],[0.2222222222222222,\"#7201a8\"],[0.3333333333333333,\"#9c179e\"],[0.4444444444444444,\"#bd3786\"],[0.5555555555555556,\"#d8576b\"],[0.6666666666666666,\"#ed7953\"],[0.7777777777777778,\"#fb9f3a\"],[0.8888888888888888,\"#fdca26\"],[1.0,\"#f0f921\"]]}],\"mesh3d\":[{\"type\":\"mesh3d\",\"colorbar\":{\"outlinewidth\":0,\"ticks\":\"\"}}],\"scatter\":[{\"fillpattern\":{\"fillmode\":\"overlay\",\"size\":10,\"solidity\":0.2},\"type\":\"scatter\"}],\"parcoords\":[{\"type\":\"parcoords\",\"line\":{\"colorbar\":{\"outlinewidth\":0,\"ticks\":\"\"}}}],\"scatterpolargl\":[{\"type\":\"scatterpolargl\",\"marker\":{\"colorbar\":{\"outlinewidth\":0,\"ticks\":\"\"}}}],\"bar\":[{\"error_x\":{\"color\":\"#2a3f5f\"},\"error_y\":{\"color\":\"#2a3f5f\"},\"marker\":{\"line\":{\"color\":\"#E5ECF6\",\"width\":0.5},\"pattern\":{\"fillmode\":\"overlay\",\"size\":10,\"solidity\":0.2}},\"type\":\"bar\"}],\"scattergeo\":[{\"type\":\"scattergeo\",\"marker\":{\"colorbar\":{\"outlinewidth\":0,\"ticks\":\"\"}}}],\"scatterpolar\":[{\"type\":\"scatterpolar\",\"marker\":{\"colorbar\":{\"outlinewidth\":0,\"ticks\":\"\"}}}],\"histogram\":[{\"marker\":{\"pattern\":{\"fillmode\":\"overlay\",\"size\":10,\"solidity\":0.2}},\"type\":\"histogram\"}],\"scattergl\":[{\"type\":\"scattergl\",\"marker\":{\"colorbar\":{\"outlinewidth\":0,\"ticks\":\"\"}}}],\"scatter3d\":[{\"type\":\"scatter3d\",\"line\":{\"colorbar\":{\"outlinewidth\":0,\"ticks\":\"\"}},\"marker\":{\"colorbar\":{\"outlinewidth\":0,\"ticks\":\"\"}}}],\"scattermapbox\":[{\"type\":\"scattermapbox\",\"marker\":{\"colorbar\":{\"outlinewidth\":0,\"ticks\":\"\"}}}],\"scatterternary\":[{\"type\":\"scatterternary\",\"marker\":{\"colorbar\":{\"outlinewidth\":0,\"ticks\":\"\"}}}],\"scattercarpet\":[{\"type\":\"scattercarpet\",\"marker\":{\"colorbar\":{\"outlinewidth\":0,\"ticks\":\"\"}}}],\"carpet\":[{\"aaxis\":{\"endlinecolor\":\"#2a3f5f\",\"gridcolor\":\"white\",\"linecolor\":\"white\",\"minorgridcolor\":\"white\",\"startlinecolor\":\"#2a3f5f\"},\"baxis\":{\"endlinecolor\":\"#2a3f5f\",\"gridcolor\":\"white\",\"linecolor\":\"white\",\"minorgridcolor\":\"white\",\"startlinecolor\":\"#2a3f5f\"},\"type\":\"carpet\"}],\"table\":[{\"cells\":{\"fill\":{\"color\":\"#EBF0F8\"},\"line\":{\"color\":\"white\"}},\"header\":{\"fill\":{\"color\":\"#C8D4E3\"},\"line\":{\"color\":\"white\"}},\"type\":\"table\"}],\"barpolar\":[{\"marker\":{\"line\":{\"color\":\"#E5ECF6\",\"width\":0.5},\"pattern\":{\"fillmode\":\"overlay\",\"size\":10,\"solidity\":0.2}},\"type\":\"barpolar\"}],\"pie\":[{\"automargin\":true,\"type\":\"pie\"}]},\"layout\":{\"autotypenumbers\":\"strict\",\"colorway\":[\"#636efa\",\"#EF553B\",\"#00cc96\",\"#ab63fa\",\"#FFA15A\",\"#19d3f3\",\"#FF6692\",\"#B6E880\",\"#FF97FF\",\"#FECB52\"],\"font\":{\"color\":\"#2a3f5f\"},\"hovermode\":\"closest\",\"hoverlabel\":{\"align\":\"left\"},\"paper_bgcolor\":\"white\",\"plot_bgcolor\":\"#E5ECF6\",\"polar\":{\"bgcolor\":\"#E5ECF6\",\"angularaxis\":{\"gridcolor\":\"white\",\"linecolor\":\"white\",\"ticks\":\"\"},\"radialaxis\":{\"gridcolor\":\"white\",\"linecolor\":\"white\",\"ticks\":\"\"}},\"ternary\":{\"bgcolor\":\"#E5ECF6\",\"aaxis\":{\"gridcolor\":\"white\",\"linecolor\":\"white\",\"ticks\":\"\"},\"baxis\":{\"gridcolor\":\"white\",\"linecolor\":\"white\",\"ticks\":\"\"},\"caxis\":{\"gridcolor\":\"white\",\"linecolor\":\"white\",\"ticks\":\"\"}},\"coloraxis\":{\"colorbar\":{\"outlinewidth\":0,\"ticks\":\"\"}},\"colorscale\":{\"sequential\":[[0.0,\"#0d0887\"],[0.1111111111111111,\"#46039f\"],[0.2222222222222222,\"#7201a8\"],[0.3333333333333333,\"#9c179e\"],[0.4444444444444444,\"#bd3786\"],[0.5555555555555556,\"#d8576b\"],[0.6666666666666666,\"#ed7953\"],[0.7777777777777778,\"#fb9f3a\"],[0.8888888888888888,\"#fdca26\"],[1.0,\"#f0f921\"]],\"sequentialminus\":[[0.0,\"#0d0887\"],[0.1111111111111111,\"#46039f\"],[0.2222222222222222,\"#7201a8\"],[0.3333333333333333,\"#9c179e\"],[0.4444444444444444,\"#bd3786\"],[0.5555555555555556,\"#d8576b\"],[0.6666666666666666,\"#ed7953\"],[0.7777777777777778,\"#fb9f3a\"],[0.8888888888888888,\"#fdca26\"],[1.0,\"#f0f921\"]],\"diverging\":[[0,\"#8e0152\"],[0.1,\"#c51b7d\"],[0.2,\"#de77ae\"],[0.3,\"#f1b6da\"],[0.4,\"#fde0ef\"],[0.5,\"#f7f7f7\"],[0.6,\"#e6f5d0\"],[0.7,\"#b8e186\"],[0.8,\"#7fbc41\"],[0.9,\"#4d9221\"],[1,\"#276419\"]]},\"xaxis\":{\"gridcolor\":\"white\",\"linecolor\":\"white\",\"ticks\":\"\",\"title\":{\"standoff\":15},\"zerolinecolor\":\"white\",\"automargin\":true,\"zerolinewidth\":2},\"yaxis\":{\"gridcolor\":\"white\",\"linecolor\":\"white\",\"ticks\":\"\",\"title\":{\"standoff\":15},\"zerolinecolor\":\"white\",\"automargin\":true,\"zerolinewidth\":2},\"scene\":{\"xaxis\":{\"backgroundcolor\":\"#E5ECF6\",\"gridcolor\":\"white\",\"linecolor\":\"white\",\"showbackground\":true,\"ticks\":\"\",\"zerolinecolor\":\"white\",\"gridwidth\":2},\"yaxis\":{\"backgroundcolor\":\"#E5ECF6\",\"gridcolor\":\"white\",\"linecolor\":\"white\",\"showbackground\":true,\"ticks\":\"\",\"zerolinecolor\":\"white\",\"gridwidth\":2},\"zaxis\":{\"backgroundcolor\":\"#E5ECF6\",\"gridcolor\":\"white\",\"linecolor\":\"white\",\"showbackground\":true,\"ticks\":\"\",\"zerolinecolor\":\"white\",\"gridwidth\":2}},\"shapedefaults\":{\"line\":{\"color\":\"#2a3f5f\"}},\"annotationdefaults\":{\"arrowcolor\":\"#2a3f5f\",\"arrowhead\":0,\"arrowwidth\":1},\"geo\":{\"bgcolor\":\"white\",\"landcolor\":\"#E5ECF6\",\"subunitcolor\":\"white\",\"showland\":true,\"showlakes\":true,\"lakecolor\":\"white\"},\"title\":{\"x\":0.05},\"mapbox\":{\"style\":\"light\"}}},\"scene\":{\"domain\":{\"x\":[0.0,1.0],\"y\":[0.0,1.0]},\"xaxis\":{\"title\":{\"text\":\"x\"}},\"yaxis\":{\"title\":{\"text\":\"y\"}},\"zaxis\":{\"title\":{\"text\":\"z\"}}},\"legend\":{\"tracegroupgap\":0},\"margin\":{\"t\":60}},                        {\"responsive\": true}                    ).then(function(){\n",
              "                            \n",
              "var gd = document.getElementById('73109491-b419-407c-9b1e-b09bc37f774a');\n",
              "var x = new MutationObserver(function (mutations, observer) {{\n",
              "        var display = window.getComputedStyle(gd).display;\n",
              "        if (!display || display === 'none') {{\n",
              "            console.log([gd, 'removed!']);\n",
              "            Plotly.purge(gd);\n",
              "            observer.disconnect();\n",
              "        }}\n",
              "}});\n",
              "\n",
              "// Listen for the removal of the full notebook cells\n",
              "var notebookContainer = gd.closest('#notebook-container');\n",
              "if (notebookContainer) {{\n",
              "    x.observe(notebookContainer, {childList: true});\n",
              "}}\n",
              "\n",
              "// Listen for the clearing of the current output cell\n",
              "var outputEl = gd.closest('.output');\n",
              "if (outputEl) {{\n",
              "    x.observe(outputEl, {childList: true});\n",
              "}}\n",
              "\n",
              "                        })                };                            </script>        </div>\n",
              "</body>\n",
              "</html>"
            ]
          },
          "metadata": {}
        }
      ]
    },
    {
      "cell_type": "markdown",
      "source": [
        "En el caso de la proyección a 3D tenemos también un cluster en el centro pero con el resto de palabras mucho más dispersas.\n",
        "\n",
        "En el centro aparecen palabras como \"my\", \"this\", \"i'm\", \"me\", \"you\".\n",
        "\n",
        "Nuevamente en uno de los costados aparecen términos asociados como \"shake\", \"fuck\", \"girl\", \"back\", \"bad\" y \"night\" mientras que en el extremo opuesto aparecen términos como \"baby\",\"love\".\n",
        "\n",
        "Por otra parte, \"god\", \"rap\", \"life\" y \"face\" aparecen asociados.\n",
        "\n",
        "\n",
        "Como dato de color, el término \"the\" aparece muy alejado de todo lo demás. Al ser una _stopword_, es entendible que no sea asociado a nada.\n"
      ],
      "metadata": {
        "id": "ghSR8B0ehoZ4"
      }
    },
    {
      "cell_type": "markdown",
      "source": [
        "## 4) Conclusiones\n",
        "\n",
        "Se exploró un modelado de términos utilizando Word2Vec sobre canciones de Eminem. Eminem es un artista conocido, adepto al uso de sarcasmo y con un uso de palabras que puede \"engañar\" a un modelo como este si las ventanas son muy chicas.\n",
        "\n",
        "Con valores default el modelo tenía problemas para establecer relaciones entre términos. Se utilizaron valores más altos de ventana, dimensionalidad y epochs para resolver esto.\n",
        "\n",
        "Se considera que el resultado final es bastante bueno, observándose cercanías entre términos que semánticamente son similares aunque los más disímiles no siempre son tan fáciles de explicar."
      ],
      "metadata": {
        "id": "1SZGNtM2Unu3"
      }
    }
  ]
}