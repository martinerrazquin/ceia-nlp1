{
  "nbformat": 4,
  "nbformat_minor": 0,
  "metadata": {
    "colab": {
      "provenance": [],
      "machine_shape": "hm",
      "gpuType": "T4"
    },
    "kernelspec": {
      "name": "python3",
      "display_name": "Python 3"
    },
    "language_info": {
      "name": "python"
    },
    "accelerator": "GPU",
    "widgets": {
      "application/vnd.jupyter.widget-state+json": {
        "712846f494b546078dbc36385c7d10e5": {
          "model_module": "@jupyter-widgets/controls",
          "model_name": "HBoxModel",
          "model_module_version": "1.5.0",
          "state": {
            "_dom_classes": [],
            "_model_module": "@jupyter-widgets/controls",
            "_model_module_version": "1.5.0",
            "_model_name": "HBoxModel",
            "_view_count": null,
            "_view_module": "@jupyter-widgets/controls",
            "_view_module_version": "1.5.0",
            "_view_name": "HBoxView",
            "box_style": "",
            "children": [
              "IPY_MODEL_3bd9c70bb5fc4e148afa411aa9f0008a",
              "IPY_MODEL_8f402885de964287a9bd12ed5f917b7f",
              "IPY_MODEL_592414d4860b4154b29a2ba2676bc65a"
            ],
            "layout": "IPY_MODEL_d362e384b5ba4ed9a34d31a47a20cb2a"
          }
        },
        "3bd9c70bb5fc4e148afa411aa9f0008a": {
          "model_module": "@jupyter-widgets/controls",
          "model_name": "HTMLModel",
          "model_module_version": "1.5.0",
          "state": {
            "_dom_classes": [],
            "_model_module": "@jupyter-widgets/controls",
            "_model_module_version": "1.5.0",
            "_model_name": "HTMLModel",
            "_view_count": null,
            "_view_module": "@jupyter-widgets/controls",
            "_view_module_version": "1.5.0",
            "_view_name": "HTMLView",
            "description": "",
            "description_tooltip": null,
            "layout": "IPY_MODEL_86f9b66b1e2843b0b22980af0bebaa74",
            "placeholder": "​",
            "style": "IPY_MODEL_dc26bb31c5db45b1b27a0266f6334b71",
            "value": "100%"
          }
        },
        "8f402885de964287a9bd12ed5f917b7f": {
          "model_module": "@jupyter-widgets/controls",
          "model_name": "FloatProgressModel",
          "model_module_version": "1.5.0",
          "state": {
            "_dom_classes": [],
            "_model_module": "@jupyter-widgets/controls",
            "_model_module_version": "1.5.0",
            "_model_name": "FloatProgressModel",
            "_view_count": null,
            "_view_module": "@jupyter-widgets/controls",
            "_view_module_version": "1.5.0",
            "_view_name": "ProgressView",
            "bar_style": "success",
            "description": "",
            "description_tooltip": null,
            "layout": "IPY_MODEL_264195b0bedd4e2490f29e7745dfef29",
            "max": 30,
            "min": 0,
            "orientation": "horizontal",
            "style": "IPY_MODEL_fdef1f30d9af48fd9d2b47bb01124d8f",
            "value": 30
          }
        },
        "592414d4860b4154b29a2ba2676bc65a": {
          "model_module": "@jupyter-widgets/controls",
          "model_name": "HTMLModel",
          "model_module_version": "1.5.0",
          "state": {
            "_dom_classes": [],
            "_model_module": "@jupyter-widgets/controls",
            "_model_module_version": "1.5.0",
            "_model_name": "HTMLModel",
            "_view_count": null,
            "_view_module": "@jupyter-widgets/controls",
            "_view_module_version": "1.5.0",
            "_view_name": "HTMLView",
            "description": "",
            "description_tooltip": null,
            "layout": "IPY_MODEL_2e676fabb9884a7aac40c954a5cf6752",
            "placeholder": "​",
            "style": "IPY_MODEL_f71df3a9d4c84f2bb1b3507ee2952c85",
            "value": " 30/30 [13:26&lt;00:00, 27.45s/it]"
          }
        },
        "d362e384b5ba4ed9a34d31a47a20cb2a": {
          "model_module": "@jupyter-widgets/base",
          "model_name": "LayoutModel",
          "model_module_version": "1.2.0",
          "state": {
            "_model_module": "@jupyter-widgets/base",
            "_model_module_version": "1.2.0",
            "_model_name": "LayoutModel",
            "_view_count": null,
            "_view_module": "@jupyter-widgets/base",
            "_view_module_version": "1.2.0",
            "_view_name": "LayoutView",
            "align_content": null,
            "align_items": null,
            "align_self": null,
            "border": null,
            "bottom": null,
            "display": null,
            "flex": null,
            "flex_flow": null,
            "grid_area": null,
            "grid_auto_columns": null,
            "grid_auto_flow": null,
            "grid_auto_rows": null,
            "grid_column": null,
            "grid_gap": null,
            "grid_row": null,
            "grid_template_areas": null,
            "grid_template_columns": null,
            "grid_template_rows": null,
            "height": null,
            "justify_content": null,
            "justify_items": null,
            "left": null,
            "margin": null,
            "max_height": null,
            "max_width": null,
            "min_height": null,
            "min_width": null,
            "object_fit": null,
            "object_position": null,
            "order": null,
            "overflow": null,
            "overflow_x": null,
            "overflow_y": null,
            "padding": null,
            "right": null,
            "top": null,
            "visibility": null,
            "width": null
          }
        },
        "86f9b66b1e2843b0b22980af0bebaa74": {
          "model_module": "@jupyter-widgets/base",
          "model_name": "LayoutModel",
          "model_module_version": "1.2.0",
          "state": {
            "_model_module": "@jupyter-widgets/base",
            "_model_module_version": "1.2.0",
            "_model_name": "LayoutModel",
            "_view_count": null,
            "_view_module": "@jupyter-widgets/base",
            "_view_module_version": "1.2.0",
            "_view_name": "LayoutView",
            "align_content": null,
            "align_items": null,
            "align_self": null,
            "border": null,
            "bottom": null,
            "display": null,
            "flex": null,
            "flex_flow": null,
            "grid_area": null,
            "grid_auto_columns": null,
            "grid_auto_flow": null,
            "grid_auto_rows": null,
            "grid_column": null,
            "grid_gap": null,
            "grid_row": null,
            "grid_template_areas": null,
            "grid_template_columns": null,
            "grid_template_rows": null,
            "height": null,
            "justify_content": null,
            "justify_items": null,
            "left": null,
            "margin": null,
            "max_height": null,
            "max_width": null,
            "min_height": null,
            "min_width": null,
            "object_fit": null,
            "object_position": null,
            "order": null,
            "overflow": null,
            "overflow_x": null,
            "overflow_y": null,
            "padding": null,
            "right": null,
            "top": null,
            "visibility": null,
            "width": null
          }
        },
        "dc26bb31c5db45b1b27a0266f6334b71": {
          "model_module": "@jupyter-widgets/controls",
          "model_name": "DescriptionStyleModel",
          "model_module_version": "1.5.0",
          "state": {
            "_model_module": "@jupyter-widgets/controls",
            "_model_module_version": "1.5.0",
            "_model_name": "DescriptionStyleModel",
            "_view_count": null,
            "_view_module": "@jupyter-widgets/base",
            "_view_module_version": "1.2.0",
            "_view_name": "StyleView",
            "description_width": ""
          }
        },
        "264195b0bedd4e2490f29e7745dfef29": {
          "model_module": "@jupyter-widgets/base",
          "model_name": "LayoutModel",
          "model_module_version": "1.2.0",
          "state": {
            "_model_module": "@jupyter-widgets/base",
            "_model_module_version": "1.2.0",
            "_model_name": "LayoutModel",
            "_view_count": null,
            "_view_module": "@jupyter-widgets/base",
            "_view_module_version": "1.2.0",
            "_view_name": "LayoutView",
            "align_content": null,
            "align_items": null,
            "align_self": null,
            "border": null,
            "bottom": null,
            "display": null,
            "flex": null,
            "flex_flow": null,
            "grid_area": null,
            "grid_auto_columns": null,
            "grid_auto_flow": null,
            "grid_auto_rows": null,
            "grid_column": null,
            "grid_gap": null,
            "grid_row": null,
            "grid_template_areas": null,
            "grid_template_columns": null,
            "grid_template_rows": null,
            "height": null,
            "justify_content": null,
            "justify_items": null,
            "left": null,
            "margin": null,
            "max_height": null,
            "max_width": null,
            "min_height": null,
            "min_width": null,
            "object_fit": null,
            "object_position": null,
            "order": null,
            "overflow": null,
            "overflow_x": null,
            "overflow_y": null,
            "padding": null,
            "right": null,
            "top": null,
            "visibility": null,
            "width": null
          }
        },
        "fdef1f30d9af48fd9d2b47bb01124d8f": {
          "model_module": "@jupyter-widgets/controls",
          "model_name": "ProgressStyleModel",
          "model_module_version": "1.5.0",
          "state": {
            "_model_module": "@jupyter-widgets/controls",
            "_model_module_version": "1.5.0",
            "_model_name": "ProgressStyleModel",
            "_view_count": null,
            "_view_module": "@jupyter-widgets/base",
            "_view_module_version": "1.2.0",
            "_view_name": "StyleView",
            "bar_color": null,
            "description_width": ""
          }
        },
        "2e676fabb9884a7aac40c954a5cf6752": {
          "model_module": "@jupyter-widgets/base",
          "model_name": "LayoutModel",
          "model_module_version": "1.2.0",
          "state": {
            "_model_module": "@jupyter-widgets/base",
            "_model_module_version": "1.2.0",
            "_model_name": "LayoutModel",
            "_view_count": null,
            "_view_module": "@jupyter-widgets/base",
            "_view_module_version": "1.2.0",
            "_view_name": "LayoutView",
            "align_content": null,
            "align_items": null,
            "align_self": null,
            "border": null,
            "bottom": null,
            "display": null,
            "flex": null,
            "flex_flow": null,
            "grid_area": null,
            "grid_auto_columns": null,
            "grid_auto_flow": null,
            "grid_auto_rows": null,
            "grid_column": null,
            "grid_gap": null,
            "grid_row": null,
            "grid_template_areas": null,
            "grid_template_columns": null,
            "grid_template_rows": null,
            "height": null,
            "justify_content": null,
            "justify_items": null,
            "left": null,
            "margin": null,
            "max_height": null,
            "max_width": null,
            "min_height": null,
            "min_width": null,
            "object_fit": null,
            "object_position": null,
            "order": null,
            "overflow": null,
            "overflow_x": null,
            "overflow_y": null,
            "padding": null,
            "right": null,
            "top": null,
            "visibility": null,
            "width": null
          }
        },
        "f71df3a9d4c84f2bb1b3507ee2952c85": {
          "model_module": "@jupyter-widgets/controls",
          "model_name": "DescriptionStyleModel",
          "model_module_version": "1.5.0",
          "state": {
            "_model_module": "@jupyter-widgets/controls",
            "_model_module_version": "1.5.0",
            "_model_name": "DescriptionStyleModel",
            "_view_count": null,
            "_view_module": "@jupyter-widgets/base",
            "_view_module_version": "1.2.0",
            "_view_name": "StyleView",
            "description_width": ""
          }
        },
        "89cc87f02df0422ebe0557b9496b823c": {
          "model_module": "@jupyter-widgets/controls",
          "model_name": "HBoxModel",
          "model_module_version": "1.5.0",
          "state": {
            "_dom_classes": [],
            "_model_module": "@jupyter-widgets/controls",
            "_model_module_version": "1.5.0",
            "_model_name": "HBoxModel",
            "_view_count": null,
            "_view_module": "@jupyter-widgets/controls",
            "_view_module_version": "1.5.0",
            "_view_name": "HBoxView",
            "box_style": "",
            "children": [
              "IPY_MODEL_8da77b3cc4894675926d03e90502ddaf",
              "IPY_MODEL_ff955ef5f3b84d7cb59665617e5f0b26",
              "IPY_MODEL_76216501cbcd4de79f3e02ca63bc02b1"
            ],
            "layout": "IPY_MODEL_9923b5d9c86140c38ca71be735e3a95f"
          }
        },
        "8da77b3cc4894675926d03e90502ddaf": {
          "model_module": "@jupyter-widgets/controls",
          "model_name": "HTMLModel",
          "model_module_version": "1.5.0",
          "state": {
            "_dom_classes": [],
            "_model_module": "@jupyter-widgets/controls",
            "_model_module_version": "1.5.0",
            "_model_name": "HTMLModel",
            "_view_count": null,
            "_view_module": "@jupyter-widgets/controls",
            "_view_module_version": "1.5.0",
            "_view_name": "HTMLView",
            "description": "",
            "description_tooltip": null,
            "layout": "IPY_MODEL_b13c927a79b6449fa47afb1db616d546",
            "placeholder": "​",
            "style": "IPY_MODEL_bd0e527f99784d79bacdbe5f6cdbf4fe",
            "value": "100%"
          }
        },
        "ff955ef5f3b84d7cb59665617e5f0b26": {
          "model_module": "@jupyter-widgets/controls",
          "model_name": "FloatProgressModel",
          "model_module_version": "1.5.0",
          "state": {
            "_dom_classes": [],
            "_model_module": "@jupyter-widgets/controls",
            "_model_module_version": "1.5.0",
            "_model_name": "FloatProgressModel",
            "_view_count": null,
            "_view_module": "@jupyter-widgets/controls",
            "_view_module_version": "1.5.0",
            "_view_name": "ProgressView",
            "bar_style": "success",
            "description": "",
            "description_tooltip": null,
            "layout": "IPY_MODEL_8eb7f9c3ac194f96bb17fecd07b7d282",
            "max": 10,
            "min": 0,
            "orientation": "horizontal",
            "style": "IPY_MODEL_44dabdc9958543819fb72a0505cd8edc",
            "value": 10
          }
        },
        "76216501cbcd4de79f3e02ca63bc02b1": {
          "model_module": "@jupyter-widgets/controls",
          "model_name": "HTMLModel",
          "model_module_version": "1.5.0",
          "state": {
            "_dom_classes": [],
            "_model_module": "@jupyter-widgets/controls",
            "_model_module_version": "1.5.0",
            "_model_name": "HTMLModel",
            "_view_count": null,
            "_view_module": "@jupyter-widgets/controls",
            "_view_module_version": "1.5.0",
            "_view_name": "HTMLView",
            "description": "",
            "description_tooltip": null,
            "layout": "IPY_MODEL_92024d41077d4de0a921f60d1b7d011f",
            "placeholder": "​",
            "style": "IPY_MODEL_d0d96d2096de41eb81959e6db4ba8eee",
            "value": " 10/10 [06:49&lt;00:00, 40.99s/it]"
          }
        },
        "9923b5d9c86140c38ca71be735e3a95f": {
          "model_module": "@jupyter-widgets/base",
          "model_name": "LayoutModel",
          "model_module_version": "1.2.0",
          "state": {
            "_model_module": "@jupyter-widgets/base",
            "_model_module_version": "1.2.0",
            "_model_name": "LayoutModel",
            "_view_count": null,
            "_view_module": "@jupyter-widgets/base",
            "_view_module_version": "1.2.0",
            "_view_name": "LayoutView",
            "align_content": null,
            "align_items": null,
            "align_self": null,
            "border": null,
            "bottom": null,
            "display": null,
            "flex": null,
            "flex_flow": null,
            "grid_area": null,
            "grid_auto_columns": null,
            "grid_auto_flow": null,
            "grid_auto_rows": null,
            "grid_column": null,
            "grid_gap": null,
            "grid_row": null,
            "grid_template_areas": null,
            "grid_template_columns": null,
            "grid_template_rows": null,
            "height": null,
            "justify_content": null,
            "justify_items": null,
            "left": null,
            "margin": null,
            "max_height": null,
            "max_width": null,
            "min_height": null,
            "min_width": null,
            "object_fit": null,
            "object_position": null,
            "order": null,
            "overflow": null,
            "overflow_x": null,
            "overflow_y": null,
            "padding": null,
            "right": null,
            "top": null,
            "visibility": null,
            "width": null
          }
        },
        "b13c927a79b6449fa47afb1db616d546": {
          "model_module": "@jupyter-widgets/base",
          "model_name": "LayoutModel",
          "model_module_version": "1.2.0",
          "state": {
            "_model_module": "@jupyter-widgets/base",
            "_model_module_version": "1.2.0",
            "_model_name": "LayoutModel",
            "_view_count": null,
            "_view_module": "@jupyter-widgets/base",
            "_view_module_version": "1.2.0",
            "_view_name": "LayoutView",
            "align_content": null,
            "align_items": null,
            "align_self": null,
            "border": null,
            "bottom": null,
            "display": null,
            "flex": null,
            "flex_flow": null,
            "grid_area": null,
            "grid_auto_columns": null,
            "grid_auto_flow": null,
            "grid_auto_rows": null,
            "grid_column": null,
            "grid_gap": null,
            "grid_row": null,
            "grid_template_areas": null,
            "grid_template_columns": null,
            "grid_template_rows": null,
            "height": null,
            "justify_content": null,
            "justify_items": null,
            "left": null,
            "margin": null,
            "max_height": null,
            "max_width": null,
            "min_height": null,
            "min_width": null,
            "object_fit": null,
            "object_position": null,
            "order": null,
            "overflow": null,
            "overflow_x": null,
            "overflow_y": null,
            "padding": null,
            "right": null,
            "top": null,
            "visibility": null,
            "width": null
          }
        },
        "bd0e527f99784d79bacdbe5f6cdbf4fe": {
          "model_module": "@jupyter-widgets/controls",
          "model_name": "DescriptionStyleModel",
          "model_module_version": "1.5.0",
          "state": {
            "_model_module": "@jupyter-widgets/controls",
            "_model_module_version": "1.5.0",
            "_model_name": "DescriptionStyleModel",
            "_view_count": null,
            "_view_module": "@jupyter-widgets/base",
            "_view_module_version": "1.2.0",
            "_view_name": "StyleView",
            "description_width": ""
          }
        },
        "8eb7f9c3ac194f96bb17fecd07b7d282": {
          "model_module": "@jupyter-widgets/base",
          "model_name": "LayoutModel",
          "model_module_version": "1.2.0",
          "state": {
            "_model_module": "@jupyter-widgets/base",
            "_model_module_version": "1.2.0",
            "_model_name": "LayoutModel",
            "_view_count": null,
            "_view_module": "@jupyter-widgets/base",
            "_view_module_version": "1.2.0",
            "_view_name": "LayoutView",
            "align_content": null,
            "align_items": null,
            "align_self": null,
            "border": null,
            "bottom": null,
            "display": null,
            "flex": null,
            "flex_flow": null,
            "grid_area": null,
            "grid_auto_columns": null,
            "grid_auto_flow": null,
            "grid_auto_rows": null,
            "grid_column": null,
            "grid_gap": null,
            "grid_row": null,
            "grid_template_areas": null,
            "grid_template_columns": null,
            "grid_template_rows": null,
            "height": null,
            "justify_content": null,
            "justify_items": null,
            "left": null,
            "margin": null,
            "max_height": null,
            "max_width": null,
            "min_height": null,
            "min_width": null,
            "object_fit": null,
            "object_position": null,
            "order": null,
            "overflow": null,
            "overflow_x": null,
            "overflow_y": null,
            "padding": null,
            "right": null,
            "top": null,
            "visibility": null,
            "width": null
          }
        },
        "44dabdc9958543819fb72a0505cd8edc": {
          "model_module": "@jupyter-widgets/controls",
          "model_name": "ProgressStyleModel",
          "model_module_version": "1.5.0",
          "state": {
            "_model_module": "@jupyter-widgets/controls",
            "_model_module_version": "1.5.0",
            "_model_name": "ProgressStyleModel",
            "_view_count": null,
            "_view_module": "@jupyter-widgets/base",
            "_view_module_version": "1.2.0",
            "_view_name": "StyleView",
            "bar_color": null,
            "description_width": ""
          }
        },
        "92024d41077d4de0a921f60d1b7d011f": {
          "model_module": "@jupyter-widgets/base",
          "model_name": "LayoutModel",
          "model_module_version": "1.2.0",
          "state": {
            "_model_module": "@jupyter-widgets/base",
            "_model_module_version": "1.2.0",
            "_model_name": "LayoutModel",
            "_view_count": null,
            "_view_module": "@jupyter-widgets/base",
            "_view_module_version": "1.2.0",
            "_view_name": "LayoutView",
            "align_content": null,
            "align_items": null,
            "align_self": null,
            "border": null,
            "bottom": null,
            "display": null,
            "flex": null,
            "flex_flow": null,
            "grid_area": null,
            "grid_auto_columns": null,
            "grid_auto_flow": null,
            "grid_auto_rows": null,
            "grid_column": null,
            "grid_gap": null,
            "grid_row": null,
            "grid_template_areas": null,
            "grid_template_columns": null,
            "grid_template_rows": null,
            "height": null,
            "justify_content": null,
            "justify_items": null,
            "left": null,
            "margin": null,
            "max_height": null,
            "max_width": null,
            "min_height": null,
            "min_width": null,
            "object_fit": null,
            "object_position": null,
            "order": null,
            "overflow": null,
            "overflow_x": null,
            "overflow_y": null,
            "padding": null,
            "right": null,
            "top": null,
            "visibility": null,
            "width": null
          }
        },
        "d0d96d2096de41eb81959e6db4ba8eee": {
          "model_module": "@jupyter-widgets/controls",
          "model_name": "DescriptionStyleModel",
          "model_module_version": "1.5.0",
          "state": {
            "_model_module": "@jupyter-widgets/controls",
            "_model_module_version": "1.5.0",
            "_model_name": "DescriptionStyleModel",
            "_view_count": null,
            "_view_module": "@jupyter-widgets/base",
            "_view_module_version": "1.2.0",
            "_view_name": "StyleView",
            "description_width": ""
          }
        },
        "5f104e32a34e4d0c8c978ed0c07dbb6b": {
          "model_module": "@jupyter-widgets/controls",
          "model_name": "HBoxModel",
          "model_module_version": "1.5.0",
          "state": {
            "_dom_classes": [],
            "_model_module": "@jupyter-widgets/controls",
            "_model_module_version": "1.5.0",
            "_model_name": "HBoxModel",
            "_view_count": null,
            "_view_module": "@jupyter-widgets/controls",
            "_view_module_version": "1.5.0",
            "_view_name": "HBoxView",
            "box_style": "",
            "children": [
              "IPY_MODEL_071bfc6cdb054c82bb6b97d085ce40de",
              "IPY_MODEL_7dcedd84168642e8990151df525985ed",
              "IPY_MODEL_07d526e328e94fd3ac30d528396ddba2"
            ],
            "layout": "IPY_MODEL_d3f39022f98546c9b5e0389b6fc60637"
          }
        },
        "071bfc6cdb054c82bb6b97d085ce40de": {
          "model_module": "@jupyter-widgets/controls",
          "model_name": "HTMLModel",
          "model_module_version": "1.5.0",
          "state": {
            "_dom_classes": [],
            "_model_module": "@jupyter-widgets/controls",
            "_model_module_version": "1.5.0",
            "_model_name": "HTMLModel",
            "_view_count": null,
            "_view_module": "@jupyter-widgets/controls",
            "_view_module_version": "1.5.0",
            "_view_name": "HTMLView",
            "description": "",
            "description_tooltip": null,
            "layout": "IPY_MODEL_2420279ad906455780eb1775417c4884",
            "placeholder": "​",
            "style": "IPY_MODEL_1d9d92b236e74393931c2fb443fa4dbc",
            "value": "100%"
          }
        },
        "7dcedd84168642e8990151df525985ed": {
          "model_module": "@jupyter-widgets/controls",
          "model_name": "FloatProgressModel",
          "model_module_version": "1.5.0",
          "state": {
            "_dom_classes": [],
            "_model_module": "@jupyter-widgets/controls",
            "_model_module_version": "1.5.0",
            "_model_name": "FloatProgressModel",
            "_view_count": null,
            "_view_module": "@jupyter-widgets/controls",
            "_view_module_version": "1.5.0",
            "_view_name": "ProgressView",
            "bar_style": "success",
            "description": "",
            "description_tooltip": null,
            "layout": "IPY_MODEL_66b742d0172e4b468ea2e2c8e01c06ff",
            "max": 10,
            "min": 0,
            "orientation": "horizontal",
            "style": "IPY_MODEL_b87f620e92134bea9886d765d6b01c5e",
            "value": 10
          }
        },
        "07d526e328e94fd3ac30d528396ddba2": {
          "model_module": "@jupyter-widgets/controls",
          "model_name": "HTMLModel",
          "model_module_version": "1.5.0",
          "state": {
            "_dom_classes": [],
            "_model_module": "@jupyter-widgets/controls",
            "_model_module_version": "1.5.0",
            "_model_name": "HTMLModel",
            "_view_count": null,
            "_view_module": "@jupyter-widgets/controls",
            "_view_module_version": "1.5.0",
            "_view_name": "HTMLView",
            "description": "",
            "description_tooltip": null,
            "layout": "IPY_MODEL_ac323aa25e2b4561a0a27bd5bca8fc59",
            "placeholder": "​",
            "style": "IPY_MODEL_bdced4f92481421d8facb66ebb817a3f",
            "value": " 10/10 [04:56&lt;00:00, 29.73s/it]"
          }
        },
        "d3f39022f98546c9b5e0389b6fc60637": {
          "model_module": "@jupyter-widgets/base",
          "model_name": "LayoutModel",
          "model_module_version": "1.2.0",
          "state": {
            "_model_module": "@jupyter-widgets/base",
            "_model_module_version": "1.2.0",
            "_model_name": "LayoutModel",
            "_view_count": null,
            "_view_module": "@jupyter-widgets/base",
            "_view_module_version": "1.2.0",
            "_view_name": "LayoutView",
            "align_content": null,
            "align_items": null,
            "align_self": null,
            "border": null,
            "bottom": null,
            "display": null,
            "flex": null,
            "flex_flow": null,
            "grid_area": null,
            "grid_auto_columns": null,
            "grid_auto_flow": null,
            "grid_auto_rows": null,
            "grid_column": null,
            "grid_gap": null,
            "grid_row": null,
            "grid_template_areas": null,
            "grid_template_columns": null,
            "grid_template_rows": null,
            "height": null,
            "justify_content": null,
            "justify_items": null,
            "left": null,
            "margin": null,
            "max_height": null,
            "max_width": null,
            "min_height": null,
            "min_width": null,
            "object_fit": null,
            "object_position": null,
            "order": null,
            "overflow": null,
            "overflow_x": null,
            "overflow_y": null,
            "padding": null,
            "right": null,
            "top": null,
            "visibility": null,
            "width": null
          }
        },
        "2420279ad906455780eb1775417c4884": {
          "model_module": "@jupyter-widgets/base",
          "model_name": "LayoutModel",
          "model_module_version": "1.2.0",
          "state": {
            "_model_module": "@jupyter-widgets/base",
            "_model_module_version": "1.2.0",
            "_model_name": "LayoutModel",
            "_view_count": null,
            "_view_module": "@jupyter-widgets/base",
            "_view_module_version": "1.2.0",
            "_view_name": "LayoutView",
            "align_content": null,
            "align_items": null,
            "align_self": null,
            "border": null,
            "bottom": null,
            "display": null,
            "flex": null,
            "flex_flow": null,
            "grid_area": null,
            "grid_auto_columns": null,
            "grid_auto_flow": null,
            "grid_auto_rows": null,
            "grid_column": null,
            "grid_gap": null,
            "grid_row": null,
            "grid_template_areas": null,
            "grid_template_columns": null,
            "grid_template_rows": null,
            "height": null,
            "justify_content": null,
            "justify_items": null,
            "left": null,
            "margin": null,
            "max_height": null,
            "max_width": null,
            "min_height": null,
            "min_width": null,
            "object_fit": null,
            "object_position": null,
            "order": null,
            "overflow": null,
            "overflow_x": null,
            "overflow_y": null,
            "padding": null,
            "right": null,
            "top": null,
            "visibility": null,
            "width": null
          }
        },
        "1d9d92b236e74393931c2fb443fa4dbc": {
          "model_module": "@jupyter-widgets/controls",
          "model_name": "DescriptionStyleModel",
          "model_module_version": "1.5.0",
          "state": {
            "_model_module": "@jupyter-widgets/controls",
            "_model_module_version": "1.5.0",
            "_model_name": "DescriptionStyleModel",
            "_view_count": null,
            "_view_module": "@jupyter-widgets/base",
            "_view_module_version": "1.2.0",
            "_view_name": "StyleView",
            "description_width": ""
          }
        },
        "66b742d0172e4b468ea2e2c8e01c06ff": {
          "model_module": "@jupyter-widgets/base",
          "model_name": "LayoutModel",
          "model_module_version": "1.2.0",
          "state": {
            "_model_module": "@jupyter-widgets/base",
            "_model_module_version": "1.2.0",
            "_model_name": "LayoutModel",
            "_view_count": null,
            "_view_module": "@jupyter-widgets/base",
            "_view_module_version": "1.2.0",
            "_view_name": "LayoutView",
            "align_content": null,
            "align_items": null,
            "align_self": null,
            "border": null,
            "bottom": null,
            "display": null,
            "flex": null,
            "flex_flow": null,
            "grid_area": null,
            "grid_auto_columns": null,
            "grid_auto_flow": null,
            "grid_auto_rows": null,
            "grid_column": null,
            "grid_gap": null,
            "grid_row": null,
            "grid_template_areas": null,
            "grid_template_columns": null,
            "grid_template_rows": null,
            "height": null,
            "justify_content": null,
            "justify_items": null,
            "left": null,
            "margin": null,
            "max_height": null,
            "max_width": null,
            "min_height": null,
            "min_width": null,
            "object_fit": null,
            "object_position": null,
            "order": null,
            "overflow": null,
            "overflow_x": null,
            "overflow_y": null,
            "padding": null,
            "right": null,
            "top": null,
            "visibility": null,
            "width": null
          }
        },
        "b87f620e92134bea9886d765d6b01c5e": {
          "model_module": "@jupyter-widgets/controls",
          "model_name": "ProgressStyleModel",
          "model_module_version": "1.5.0",
          "state": {
            "_model_module": "@jupyter-widgets/controls",
            "_model_module_version": "1.5.0",
            "_model_name": "ProgressStyleModel",
            "_view_count": null,
            "_view_module": "@jupyter-widgets/base",
            "_view_module_version": "1.2.0",
            "_view_name": "StyleView",
            "bar_color": null,
            "description_width": ""
          }
        },
        "ac323aa25e2b4561a0a27bd5bca8fc59": {
          "model_module": "@jupyter-widgets/base",
          "model_name": "LayoutModel",
          "model_module_version": "1.2.0",
          "state": {
            "_model_module": "@jupyter-widgets/base",
            "_model_module_version": "1.2.0",
            "_model_name": "LayoutModel",
            "_view_count": null,
            "_view_module": "@jupyter-widgets/base",
            "_view_module_version": "1.2.0",
            "_view_name": "LayoutView",
            "align_content": null,
            "align_items": null,
            "align_self": null,
            "border": null,
            "bottom": null,
            "display": null,
            "flex": null,
            "flex_flow": null,
            "grid_area": null,
            "grid_auto_columns": null,
            "grid_auto_flow": null,
            "grid_auto_rows": null,
            "grid_column": null,
            "grid_gap": null,
            "grid_row": null,
            "grid_template_areas": null,
            "grid_template_columns": null,
            "grid_template_rows": null,
            "height": null,
            "justify_content": null,
            "justify_items": null,
            "left": null,
            "margin": null,
            "max_height": null,
            "max_width": null,
            "min_height": null,
            "min_width": null,
            "object_fit": null,
            "object_position": null,
            "order": null,
            "overflow": null,
            "overflow_x": null,
            "overflow_y": null,
            "padding": null,
            "right": null,
            "top": null,
            "visibility": null,
            "width": null
          }
        },
        "bdced4f92481421d8facb66ebb817a3f": {
          "model_module": "@jupyter-widgets/controls",
          "model_name": "DescriptionStyleModel",
          "model_module_version": "1.5.0",
          "state": {
            "_model_module": "@jupyter-widgets/controls",
            "_model_module_version": "1.5.0",
            "_model_name": "DescriptionStyleModel",
            "_view_count": null,
            "_view_module": "@jupyter-widgets/base",
            "_view_module_version": "1.2.0",
            "_view_name": "StyleView",
            "description_width": ""
          }
        },
        "b3b18221f7d44140ac74236c1b4346ce": {
          "model_module": "@jupyter-widgets/controls",
          "model_name": "HBoxModel",
          "model_module_version": "1.5.0",
          "state": {
            "_dom_classes": [],
            "_model_module": "@jupyter-widgets/controls",
            "_model_module_version": "1.5.0",
            "_model_name": "HBoxModel",
            "_view_count": null,
            "_view_module": "@jupyter-widgets/controls",
            "_view_module_version": "1.5.0",
            "_view_name": "HBoxView",
            "box_style": "",
            "children": [
              "IPY_MODEL_50fc793ee8da4cb2a83a70f3ffa2d9f0",
              "IPY_MODEL_ead5da9f961c48c0bd9f3aaa40b4128c",
              "IPY_MODEL_7ddc5a009d9b42ffa8148f38c71dd6c3"
            ],
            "layout": "IPY_MODEL_de5b8c121fd24dc2aff26a8b4eff91ee"
          }
        },
        "50fc793ee8da4cb2a83a70f3ffa2d9f0": {
          "model_module": "@jupyter-widgets/controls",
          "model_name": "HTMLModel",
          "model_module_version": "1.5.0",
          "state": {
            "_dom_classes": [],
            "_model_module": "@jupyter-widgets/controls",
            "_model_module_version": "1.5.0",
            "_model_name": "HTMLModel",
            "_view_count": null,
            "_view_module": "@jupyter-widgets/controls",
            "_view_module_version": "1.5.0",
            "_view_name": "HTMLView",
            "description": "",
            "description_tooltip": null,
            "layout": "IPY_MODEL_50a22541374a4ea39dec1215b8ea9665",
            "placeholder": "​",
            "style": "IPY_MODEL_84b1827689bc48438e92ad17377a71f4",
            "value": "100%"
          }
        },
        "ead5da9f961c48c0bd9f3aaa40b4128c": {
          "model_module": "@jupyter-widgets/controls",
          "model_name": "FloatProgressModel",
          "model_module_version": "1.5.0",
          "state": {
            "_dom_classes": [],
            "_model_module": "@jupyter-widgets/controls",
            "_model_module_version": "1.5.0",
            "_model_name": "FloatProgressModel",
            "_view_count": null,
            "_view_module": "@jupyter-widgets/controls",
            "_view_module_version": "1.5.0",
            "_view_name": "ProgressView",
            "bar_style": "success",
            "description": "",
            "description_tooltip": null,
            "layout": "IPY_MODEL_e8849047915145c5ade55d791a2b37cc",
            "max": 10,
            "min": 0,
            "orientation": "horizontal",
            "style": "IPY_MODEL_0a47f6f02af1463884f298adbb6ad8b0",
            "value": 10
          }
        },
        "7ddc5a009d9b42ffa8148f38c71dd6c3": {
          "model_module": "@jupyter-widgets/controls",
          "model_name": "HTMLModel",
          "model_module_version": "1.5.0",
          "state": {
            "_dom_classes": [],
            "_model_module": "@jupyter-widgets/controls",
            "_model_module_version": "1.5.0",
            "_model_name": "HTMLModel",
            "_view_count": null,
            "_view_module": "@jupyter-widgets/controls",
            "_view_module_version": "1.5.0",
            "_view_name": "HTMLView",
            "description": "",
            "description_tooltip": null,
            "layout": "IPY_MODEL_634948f8c23e47cfa3d7395e2b3fc4ea",
            "placeholder": "​",
            "style": "IPY_MODEL_2f993a6ca99c48cb818988bdaf378835",
            "value": " 10/10 [07:33&lt;00:00, 45.53s/it]"
          }
        },
        "de5b8c121fd24dc2aff26a8b4eff91ee": {
          "model_module": "@jupyter-widgets/base",
          "model_name": "LayoutModel",
          "model_module_version": "1.2.0",
          "state": {
            "_model_module": "@jupyter-widgets/base",
            "_model_module_version": "1.2.0",
            "_model_name": "LayoutModel",
            "_view_count": null,
            "_view_module": "@jupyter-widgets/base",
            "_view_module_version": "1.2.0",
            "_view_name": "LayoutView",
            "align_content": null,
            "align_items": null,
            "align_self": null,
            "border": null,
            "bottom": null,
            "display": null,
            "flex": null,
            "flex_flow": null,
            "grid_area": null,
            "grid_auto_columns": null,
            "grid_auto_flow": null,
            "grid_auto_rows": null,
            "grid_column": null,
            "grid_gap": null,
            "grid_row": null,
            "grid_template_areas": null,
            "grid_template_columns": null,
            "grid_template_rows": null,
            "height": null,
            "justify_content": null,
            "justify_items": null,
            "left": null,
            "margin": null,
            "max_height": null,
            "max_width": null,
            "min_height": null,
            "min_width": null,
            "object_fit": null,
            "object_position": null,
            "order": null,
            "overflow": null,
            "overflow_x": null,
            "overflow_y": null,
            "padding": null,
            "right": null,
            "top": null,
            "visibility": null,
            "width": null
          }
        },
        "50a22541374a4ea39dec1215b8ea9665": {
          "model_module": "@jupyter-widgets/base",
          "model_name": "LayoutModel",
          "model_module_version": "1.2.0",
          "state": {
            "_model_module": "@jupyter-widgets/base",
            "_model_module_version": "1.2.0",
            "_model_name": "LayoutModel",
            "_view_count": null,
            "_view_module": "@jupyter-widgets/base",
            "_view_module_version": "1.2.0",
            "_view_name": "LayoutView",
            "align_content": null,
            "align_items": null,
            "align_self": null,
            "border": null,
            "bottom": null,
            "display": null,
            "flex": null,
            "flex_flow": null,
            "grid_area": null,
            "grid_auto_columns": null,
            "grid_auto_flow": null,
            "grid_auto_rows": null,
            "grid_column": null,
            "grid_gap": null,
            "grid_row": null,
            "grid_template_areas": null,
            "grid_template_columns": null,
            "grid_template_rows": null,
            "height": null,
            "justify_content": null,
            "justify_items": null,
            "left": null,
            "margin": null,
            "max_height": null,
            "max_width": null,
            "min_height": null,
            "min_width": null,
            "object_fit": null,
            "object_position": null,
            "order": null,
            "overflow": null,
            "overflow_x": null,
            "overflow_y": null,
            "padding": null,
            "right": null,
            "top": null,
            "visibility": null,
            "width": null
          }
        },
        "84b1827689bc48438e92ad17377a71f4": {
          "model_module": "@jupyter-widgets/controls",
          "model_name": "DescriptionStyleModel",
          "model_module_version": "1.5.0",
          "state": {
            "_model_module": "@jupyter-widgets/controls",
            "_model_module_version": "1.5.0",
            "_model_name": "DescriptionStyleModel",
            "_view_count": null,
            "_view_module": "@jupyter-widgets/base",
            "_view_module_version": "1.2.0",
            "_view_name": "StyleView",
            "description_width": ""
          }
        },
        "e8849047915145c5ade55d791a2b37cc": {
          "model_module": "@jupyter-widgets/base",
          "model_name": "LayoutModel",
          "model_module_version": "1.2.0",
          "state": {
            "_model_module": "@jupyter-widgets/base",
            "_model_module_version": "1.2.0",
            "_model_name": "LayoutModel",
            "_view_count": null,
            "_view_module": "@jupyter-widgets/base",
            "_view_module_version": "1.2.0",
            "_view_name": "LayoutView",
            "align_content": null,
            "align_items": null,
            "align_self": null,
            "border": null,
            "bottom": null,
            "display": null,
            "flex": null,
            "flex_flow": null,
            "grid_area": null,
            "grid_auto_columns": null,
            "grid_auto_flow": null,
            "grid_auto_rows": null,
            "grid_column": null,
            "grid_gap": null,
            "grid_row": null,
            "grid_template_areas": null,
            "grid_template_columns": null,
            "grid_template_rows": null,
            "height": null,
            "justify_content": null,
            "justify_items": null,
            "left": null,
            "margin": null,
            "max_height": null,
            "max_width": null,
            "min_height": null,
            "min_width": null,
            "object_fit": null,
            "object_position": null,
            "order": null,
            "overflow": null,
            "overflow_x": null,
            "overflow_y": null,
            "padding": null,
            "right": null,
            "top": null,
            "visibility": null,
            "width": null
          }
        },
        "0a47f6f02af1463884f298adbb6ad8b0": {
          "model_module": "@jupyter-widgets/controls",
          "model_name": "ProgressStyleModel",
          "model_module_version": "1.5.0",
          "state": {
            "_model_module": "@jupyter-widgets/controls",
            "_model_module_version": "1.5.0",
            "_model_name": "ProgressStyleModel",
            "_view_count": null,
            "_view_module": "@jupyter-widgets/base",
            "_view_module_version": "1.2.0",
            "_view_name": "StyleView",
            "bar_color": null,
            "description_width": ""
          }
        },
        "634948f8c23e47cfa3d7395e2b3fc4ea": {
          "model_module": "@jupyter-widgets/base",
          "model_name": "LayoutModel",
          "model_module_version": "1.2.0",
          "state": {
            "_model_module": "@jupyter-widgets/base",
            "_model_module_version": "1.2.0",
            "_model_name": "LayoutModel",
            "_view_count": null,
            "_view_module": "@jupyter-widgets/base",
            "_view_module_version": "1.2.0",
            "_view_name": "LayoutView",
            "align_content": null,
            "align_items": null,
            "align_self": null,
            "border": null,
            "bottom": null,
            "display": null,
            "flex": null,
            "flex_flow": null,
            "grid_area": null,
            "grid_auto_columns": null,
            "grid_auto_flow": null,
            "grid_auto_rows": null,
            "grid_column": null,
            "grid_gap": null,
            "grid_row": null,
            "grid_template_areas": null,
            "grid_template_columns": null,
            "grid_template_rows": null,
            "height": null,
            "justify_content": null,
            "justify_items": null,
            "left": null,
            "margin": null,
            "max_height": null,
            "max_width": null,
            "min_height": null,
            "min_width": null,
            "object_fit": null,
            "object_position": null,
            "order": null,
            "overflow": null,
            "overflow_x": null,
            "overflow_y": null,
            "padding": null,
            "right": null,
            "top": null,
            "visibility": null,
            "width": null
          }
        },
        "2f993a6ca99c48cb818988bdaf378835": {
          "model_module": "@jupyter-widgets/controls",
          "model_name": "DescriptionStyleModel",
          "model_module_version": "1.5.0",
          "state": {
            "_model_module": "@jupyter-widgets/controls",
            "_model_module_version": "1.5.0",
            "_model_name": "DescriptionStyleModel",
            "_view_count": null,
            "_view_module": "@jupyter-widgets/base",
            "_view_module_version": "1.2.0",
            "_view_name": "StyleView",
            "description_width": ""
          }
        },
        "08cd9432701e43d1a50de4ca3f8df786": {
          "model_module": "@jupyter-widgets/controls",
          "model_name": "HBoxModel",
          "model_module_version": "1.5.0",
          "state": {
            "_dom_classes": [],
            "_model_module": "@jupyter-widgets/controls",
            "_model_module_version": "1.5.0",
            "_model_name": "HBoxModel",
            "_view_count": null,
            "_view_module": "@jupyter-widgets/controls",
            "_view_module_version": "1.5.0",
            "_view_name": "HBoxView",
            "box_style": "",
            "children": [
              "IPY_MODEL_3120d18ce99243209a5adf0e7e5953a3",
              "IPY_MODEL_0fbfc127cbdc44dab629d89bd40ddee5",
              "IPY_MODEL_8f4add54fee545bd94bd7c2733f7ec77"
            ],
            "layout": "IPY_MODEL_def069f9fe494fa1b457dfc3b90e5212"
          }
        },
        "3120d18ce99243209a5adf0e7e5953a3": {
          "model_module": "@jupyter-widgets/controls",
          "model_name": "HTMLModel",
          "model_module_version": "1.5.0",
          "state": {
            "_dom_classes": [],
            "_model_module": "@jupyter-widgets/controls",
            "_model_module_version": "1.5.0",
            "_model_name": "HTMLModel",
            "_view_count": null,
            "_view_module": "@jupyter-widgets/controls",
            "_view_module_version": "1.5.0",
            "_view_name": "HTMLView",
            "description": "",
            "description_tooltip": null,
            "layout": "IPY_MODEL_d6abe300837249d49795ce5db52de0e8",
            "placeholder": "​",
            "style": "IPY_MODEL_e141e0b345844a27a66e46e949f166ab",
            "value": "100%"
          }
        },
        "0fbfc127cbdc44dab629d89bd40ddee5": {
          "model_module": "@jupyter-widgets/controls",
          "model_name": "FloatProgressModel",
          "model_module_version": "1.5.0",
          "state": {
            "_dom_classes": [],
            "_model_module": "@jupyter-widgets/controls",
            "_model_module_version": "1.5.0",
            "_model_name": "FloatProgressModel",
            "_view_count": null,
            "_view_module": "@jupyter-widgets/controls",
            "_view_module_version": "1.5.0",
            "_view_name": "ProgressView",
            "bar_style": "success",
            "description": "",
            "description_tooltip": null,
            "layout": "IPY_MODEL_8d4eb3f3d96d45b4804ce9503f76b918",
            "max": 10,
            "min": 0,
            "orientation": "horizontal",
            "style": "IPY_MODEL_7b2dfca4214a432aaefc82917d4e5af1",
            "value": 10
          }
        },
        "8f4add54fee545bd94bd7c2733f7ec77": {
          "model_module": "@jupyter-widgets/controls",
          "model_name": "HTMLModel",
          "model_module_version": "1.5.0",
          "state": {
            "_dom_classes": [],
            "_model_module": "@jupyter-widgets/controls",
            "_model_module_version": "1.5.0",
            "_model_name": "HTMLModel",
            "_view_count": null,
            "_view_module": "@jupyter-widgets/controls",
            "_view_module_version": "1.5.0",
            "_view_name": "HTMLView",
            "description": "",
            "description_tooltip": null,
            "layout": "IPY_MODEL_54a47f7609174c0282b69f500e64429f",
            "placeholder": "​",
            "style": "IPY_MODEL_7083cbdb166e421992f5c1b327f690d9",
            "value": " 10/10 [07:34&lt;00:00, 45.58s/it]"
          }
        },
        "def069f9fe494fa1b457dfc3b90e5212": {
          "model_module": "@jupyter-widgets/base",
          "model_name": "LayoutModel",
          "model_module_version": "1.2.0",
          "state": {
            "_model_module": "@jupyter-widgets/base",
            "_model_module_version": "1.2.0",
            "_model_name": "LayoutModel",
            "_view_count": null,
            "_view_module": "@jupyter-widgets/base",
            "_view_module_version": "1.2.0",
            "_view_name": "LayoutView",
            "align_content": null,
            "align_items": null,
            "align_self": null,
            "border": null,
            "bottom": null,
            "display": null,
            "flex": null,
            "flex_flow": null,
            "grid_area": null,
            "grid_auto_columns": null,
            "grid_auto_flow": null,
            "grid_auto_rows": null,
            "grid_column": null,
            "grid_gap": null,
            "grid_row": null,
            "grid_template_areas": null,
            "grid_template_columns": null,
            "grid_template_rows": null,
            "height": null,
            "justify_content": null,
            "justify_items": null,
            "left": null,
            "margin": null,
            "max_height": null,
            "max_width": null,
            "min_height": null,
            "min_width": null,
            "object_fit": null,
            "object_position": null,
            "order": null,
            "overflow": null,
            "overflow_x": null,
            "overflow_y": null,
            "padding": null,
            "right": null,
            "top": null,
            "visibility": null,
            "width": null
          }
        },
        "d6abe300837249d49795ce5db52de0e8": {
          "model_module": "@jupyter-widgets/base",
          "model_name": "LayoutModel",
          "model_module_version": "1.2.0",
          "state": {
            "_model_module": "@jupyter-widgets/base",
            "_model_module_version": "1.2.0",
            "_model_name": "LayoutModel",
            "_view_count": null,
            "_view_module": "@jupyter-widgets/base",
            "_view_module_version": "1.2.0",
            "_view_name": "LayoutView",
            "align_content": null,
            "align_items": null,
            "align_self": null,
            "border": null,
            "bottom": null,
            "display": null,
            "flex": null,
            "flex_flow": null,
            "grid_area": null,
            "grid_auto_columns": null,
            "grid_auto_flow": null,
            "grid_auto_rows": null,
            "grid_column": null,
            "grid_gap": null,
            "grid_row": null,
            "grid_template_areas": null,
            "grid_template_columns": null,
            "grid_template_rows": null,
            "height": null,
            "justify_content": null,
            "justify_items": null,
            "left": null,
            "margin": null,
            "max_height": null,
            "max_width": null,
            "min_height": null,
            "min_width": null,
            "object_fit": null,
            "object_position": null,
            "order": null,
            "overflow": null,
            "overflow_x": null,
            "overflow_y": null,
            "padding": null,
            "right": null,
            "top": null,
            "visibility": null,
            "width": null
          }
        },
        "e141e0b345844a27a66e46e949f166ab": {
          "model_module": "@jupyter-widgets/controls",
          "model_name": "DescriptionStyleModel",
          "model_module_version": "1.5.0",
          "state": {
            "_model_module": "@jupyter-widgets/controls",
            "_model_module_version": "1.5.0",
            "_model_name": "DescriptionStyleModel",
            "_view_count": null,
            "_view_module": "@jupyter-widgets/base",
            "_view_module_version": "1.2.0",
            "_view_name": "StyleView",
            "description_width": ""
          }
        },
        "8d4eb3f3d96d45b4804ce9503f76b918": {
          "model_module": "@jupyter-widgets/base",
          "model_name": "LayoutModel",
          "model_module_version": "1.2.0",
          "state": {
            "_model_module": "@jupyter-widgets/base",
            "_model_module_version": "1.2.0",
            "_model_name": "LayoutModel",
            "_view_count": null,
            "_view_module": "@jupyter-widgets/base",
            "_view_module_version": "1.2.0",
            "_view_name": "LayoutView",
            "align_content": null,
            "align_items": null,
            "align_self": null,
            "border": null,
            "bottom": null,
            "display": null,
            "flex": null,
            "flex_flow": null,
            "grid_area": null,
            "grid_auto_columns": null,
            "grid_auto_flow": null,
            "grid_auto_rows": null,
            "grid_column": null,
            "grid_gap": null,
            "grid_row": null,
            "grid_template_areas": null,
            "grid_template_columns": null,
            "grid_template_rows": null,
            "height": null,
            "justify_content": null,
            "justify_items": null,
            "left": null,
            "margin": null,
            "max_height": null,
            "max_width": null,
            "min_height": null,
            "min_width": null,
            "object_fit": null,
            "object_position": null,
            "order": null,
            "overflow": null,
            "overflow_x": null,
            "overflow_y": null,
            "padding": null,
            "right": null,
            "top": null,
            "visibility": null,
            "width": null
          }
        },
        "7b2dfca4214a432aaefc82917d4e5af1": {
          "model_module": "@jupyter-widgets/controls",
          "model_name": "ProgressStyleModel",
          "model_module_version": "1.5.0",
          "state": {
            "_model_module": "@jupyter-widgets/controls",
            "_model_module_version": "1.5.0",
            "_model_name": "ProgressStyleModel",
            "_view_count": null,
            "_view_module": "@jupyter-widgets/base",
            "_view_module_version": "1.2.0",
            "_view_name": "StyleView",
            "bar_color": null,
            "description_width": ""
          }
        },
        "54a47f7609174c0282b69f500e64429f": {
          "model_module": "@jupyter-widgets/base",
          "model_name": "LayoutModel",
          "model_module_version": "1.2.0",
          "state": {
            "_model_module": "@jupyter-widgets/base",
            "_model_module_version": "1.2.0",
            "_model_name": "LayoutModel",
            "_view_count": null,
            "_view_module": "@jupyter-widgets/base",
            "_view_module_version": "1.2.0",
            "_view_name": "LayoutView",
            "align_content": null,
            "align_items": null,
            "align_self": null,
            "border": null,
            "bottom": null,
            "display": null,
            "flex": null,
            "flex_flow": null,
            "grid_area": null,
            "grid_auto_columns": null,
            "grid_auto_flow": null,
            "grid_auto_rows": null,
            "grid_column": null,
            "grid_gap": null,
            "grid_row": null,
            "grid_template_areas": null,
            "grid_template_columns": null,
            "grid_template_rows": null,
            "height": null,
            "justify_content": null,
            "justify_items": null,
            "left": null,
            "margin": null,
            "max_height": null,
            "max_width": null,
            "min_height": null,
            "min_width": null,
            "object_fit": null,
            "object_position": null,
            "order": null,
            "overflow": null,
            "overflow_x": null,
            "overflow_y": null,
            "padding": null,
            "right": null,
            "top": null,
            "visibility": null,
            "width": null
          }
        },
        "7083cbdb166e421992f5c1b327f690d9": {
          "model_module": "@jupyter-widgets/controls",
          "model_name": "DescriptionStyleModel",
          "model_module_version": "1.5.0",
          "state": {
            "_model_module": "@jupyter-widgets/controls",
            "_model_module_version": "1.5.0",
            "_model_name": "DescriptionStyleModel",
            "_view_count": null,
            "_view_module": "@jupyter-widgets/base",
            "_view_module_version": "1.2.0",
            "_view_name": "StyleView",
            "description_width": ""
          }
        },
        "6bccc2cbcd1d4ff297c12bf7e1643e8d": {
          "model_module": "@jupyter-widgets/controls",
          "model_name": "HBoxModel",
          "model_module_version": "1.5.0",
          "state": {
            "_dom_classes": [],
            "_model_module": "@jupyter-widgets/controls",
            "_model_module_version": "1.5.0",
            "_model_name": "HBoxModel",
            "_view_count": null,
            "_view_module": "@jupyter-widgets/controls",
            "_view_module_version": "1.5.0",
            "_view_name": "HBoxView",
            "box_style": "",
            "children": [
              "IPY_MODEL_fd67ef19047b4a6a8174a9785c1ec576",
              "IPY_MODEL_37e13cd0f2b74e0eb396b4b052fea99d",
              "IPY_MODEL_b0eff1b6949d42419f1fc43fe8547e48"
            ],
            "layout": "IPY_MODEL_249b480b508e4aa4b91a5fd57af41a28"
          }
        },
        "fd67ef19047b4a6a8174a9785c1ec576": {
          "model_module": "@jupyter-widgets/controls",
          "model_name": "HTMLModel",
          "model_module_version": "1.5.0",
          "state": {
            "_dom_classes": [],
            "_model_module": "@jupyter-widgets/controls",
            "_model_module_version": "1.5.0",
            "_model_name": "HTMLModel",
            "_view_count": null,
            "_view_module": "@jupyter-widgets/controls",
            "_view_module_version": "1.5.0",
            "_view_name": "HTMLView",
            "description": "",
            "description_tooltip": null,
            "layout": "IPY_MODEL_b2a2daa336834fd9965f9d177ae25e76",
            "placeholder": "​",
            "style": "IPY_MODEL_73754aac1157489db399ba7aca8512b9",
            "value": "100%"
          }
        },
        "37e13cd0f2b74e0eb396b4b052fea99d": {
          "model_module": "@jupyter-widgets/controls",
          "model_name": "FloatProgressModel",
          "model_module_version": "1.5.0",
          "state": {
            "_dom_classes": [],
            "_model_module": "@jupyter-widgets/controls",
            "_model_module_version": "1.5.0",
            "_model_name": "FloatProgressModel",
            "_view_count": null,
            "_view_module": "@jupyter-widgets/controls",
            "_view_module_version": "1.5.0",
            "_view_name": "ProgressView",
            "bar_style": "success",
            "description": "",
            "description_tooltip": null,
            "layout": "IPY_MODEL_1cb7931dd2e34e2e9c089490f22e6440",
            "max": 10,
            "min": 0,
            "orientation": "horizontal",
            "style": "IPY_MODEL_780acffc848a442b8765afaa1862e035",
            "value": 10
          }
        },
        "b0eff1b6949d42419f1fc43fe8547e48": {
          "model_module": "@jupyter-widgets/controls",
          "model_name": "HTMLModel",
          "model_module_version": "1.5.0",
          "state": {
            "_dom_classes": [],
            "_model_module": "@jupyter-widgets/controls",
            "_model_module_version": "1.5.0",
            "_model_name": "HTMLModel",
            "_view_count": null,
            "_view_module": "@jupyter-widgets/controls",
            "_view_module_version": "1.5.0",
            "_view_name": "HTMLView",
            "description": "",
            "description_tooltip": null,
            "layout": "IPY_MODEL_30d3aef4f21e4aac87070b680cb18aef",
            "placeholder": "​",
            "style": "IPY_MODEL_a7c45083acba42e0adfdddcebb42c971",
            "value": " 10/10 [16:45&lt;00:00, 100.55s/it]"
          }
        },
        "249b480b508e4aa4b91a5fd57af41a28": {
          "model_module": "@jupyter-widgets/base",
          "model_name": "LayoutModel",
          "model_module_version": "1.2.0",
          "state": {
            "_model_module": "@jupyter-widgets/base",
            "_model_module_version": "1.2.0",
            "_model_name": "LayoutModel",
            "_view_count": null,
            "_view_module": "@jupyter-widgets/base",
            "_view_module_version": "1.2.0",
            "_view_name": "LayoutView",
            "align_content": null,
            "align_items": null,
            "align_self": null,
            "border": null,
            "bottom": null,
            "display": null,
            "flex": null,
            "flex_flow": null,
            "grid_area": null,
            "grid_auto_columns": null,
            "grid_auto_flow": null,
            "grid_auto_rows": null,
            "grid_column": null,
            "grid_gap": null,
            "grid_row": null,
            "grid_template_areas": null,
            "grid_template_columns": null,
            "grid_template_rows": null,
            "height": null,
            "justify_content": null,
            "justify_items": null,
            "left": null,
            "margin": null,
            "max_height": null,
            "max_width": null,
            "min_height": null,
            "min_width": null,
            "object_fit": null,
            "object_position": null,
            "order": null,
            "overflow": null,
            "overflow_x": null,
            "overflow_y": null,
            "padding": null,
            "right": null,
            "top": null,
            "visibility": null,
            "width": null
          }
        },
        "b2a2daa336834fd9965f9d177ae25e76": {
          "model_module": "@jupyter-widgets/base",
          "model_name": "LayoutModel",
          "model_module_version": "1.2.0",
          "state": {
            "_model_module": "@jupyter-widgets/base",
            "_model_module_version": "1.2.0",
            "_model_name": "LayoutModel",
            "_view_count": null,
            "_view_module": "@jupyter-widgets/base",
            "_view_module_version": "1.2.0",
            "_view_name": "LayoutView",
            "align_content": null,
            "align_items": null,
            "align_self": null,
            "border": null,
            "bottom": null,
            "display": null,
            "flex": null,
            "flex_flow": null,
            "grid_area": null,
            "grid_auto_columns": null,
            "grid_auto_flow": null,
            "grid_auto_rows": null,
            "grid_column": null,
            "grid_gap": null,
            "grid_row": null,
            "grid_template_areas": null,
            "grid_template_columns": null,
            "grid_template_rows": null,
            "height": null,
            "justify_content": null,
            "justify_items": null,
            "left": null,
            "margin": null,
            "max_height": null,
            "max_width": null,
            "min_height": null,
            "min_width": null,
            "object_fit": null,
            "object_position": null,
            "order": null,
            "overflow": null,
            "overflow_x": null,
            "overflow_y": null,
            "padding": null,
            "right": null,
            "top": null,
            "visibility": null,
            "width": null
          }
        },
        "73754aac1157489db399ba7aca8512b9": {
          "model_module": "@jupyter-widgets/controls",
          "model_name": "DescriptionStyleModel",
          "model_module_version": "1.5.0",
          "state": {
            "_model_module": "@jupyter-widgets/controls",
            "_model_module_version": "1.5.0",
            "_model_name": "DescriptionStyleModel",
            "_view_count": null,
            "_view_module": "@jupyter-widgets/base",
            "_view_module_version": "1.2.0",
            "_view_name": "StyleView",
            "description_width": ""
          }
        },
        "1cb7931dd2e34e2e9c089490f22e6440": {
          "model_module": "@jupyter-widgets/base",
          "model_name": "LayoutModel",
          "model_module_version": "1.2.0",
          "state": {
            "_model_module": "@jupyter-widgets/base",
            "_model_module_version": "1.2.0",
            "_model_name": "LayoutModel",
            "_view_count": null,
            "_view_module": "@jupyter-widgets/base",
            "_view_module_version": "1.2.0",
            "_view_name": "LayoutView",
            "align_content": null,
            "align_items": null,
            "align_self": null,
            "border": null,
            "bottom": null,
            "display": null,
            "flex": null,
            "flex_flow": null,
            "grid_area": null,
            "grid_auto_columns": null,
            "grid_auto_flow": null,
            "grid_auto_rows": null,
            "grid_column": null,
            "grid_gap": null,
            "grid_row": null,
            "grid_template_areas": null,
            "grid_template_columns": null,
            "grid_template_rows": null,
            "height": null,
            "justify_content": null,
            "justify_items": null,
            "left": null,
            "margin": null,
            "max_height": null,
            "max_width": null,
            "min_height": null,
            "min_width": null,
            "object_fit": null,
            "object_position": null,
            "order": null,
            "overflow": null,
            "overflow_x": null,
            "overflow_y": null,
            "padding": null,
            "right": null,
            "top": null,
            "visibility": null,
            "width": null
          }
        },
        "780acffc848a442b8765afaa1862e035": {
          "model_module": "@jupyter-widgets/controls",
          "model_name": "ProgressStyleModel",
          "model_module_version": "1.5.0",
          "state": {
            "_model_module": "@jupyter-widgets/controls",
            "_model_module_version": "1.5.0",
            "_model_name": "ProgressStyleModel",
            "_view_count": null,
            "_view_module": "@jupyter-widgets/base",
            "_view_module_version": "1.2.0",
            "_view_name": "StyleView",
            "bar_color": null,
            "description_width": ""
          }
        },
        "30d3aef4f21e4aac87070b680cb18aef": {
          "model_module": "@jupyter-widgets/base",
          "model_name": "LayoutModel",
          "model_module_version": "1.2.0",
          "state": {
            "_model_module": "@jupyter-widgets/base",
            "_model_module_version": "1.2.0",
            "_model_name": "LayoutModel",
            "_view_count": null,
            "_view_module": "@jupyter-widgets/base",
            "_view_module_version": "1.2.0",
            "_view_name": "LayoutView",
            "align_content": null,
            "align_items": null,
            "align_self": null,
            "border": null,
            "bottom": null,
            "display": null,
            "flex": null,
            "flex_flow": null,
            "grid_area": null,
            "grid_auto_columns": null,
            "grid_auto_flow": null,
            "grid_auto_rows": null,
            "grid_column": null,
            "grid_gap": null,
            "grid_row": null,
            "grid_template_areas": null,
            "grid_template_columns": null,
            "grid_template_rows": null,
            "height": null,
            "justify_content": null,
            "justify_items": null,
            "left": null,
            "margin": null,
            "max_height": null,
            "max_width": null,
            "min_height": null,
            "min_width": null,
            "object_fit": null,
            "object_position": null,
            "order": null,
            "overflow": null,
            "overflow_x": null,
            "overflow_y": null,
            "padding": null,
            "right": null,
            "top": null,
            "visibility": null,
            "width": null
          }
        },
        "a7c45083acba42e0adfdddcebb42c971": {
          "model_module": "@jupyter-widgets/controls",
          "model_name": "DescriptionStyleModel",
          "model_module_version": "1.5.0",
          "state": {
            "_model_module": "@jupyter-widgets/controls",
            "_model_module_version": "1.5.0",
            "_model_name": "DescriptionStyleModel",
            "_view_count": null,
            "_view_module": "@jupyter-widgets/base",
            "_view_module_version": "1.2.0",
            "_view_name": "StyleView",
            "description_width": ""
          }
        },
        "3820d5020ffd4c78b546d26cb0bcd7e0": {
          "model_module": "@jupyter-widgets/controls",
          "model_name": "HBoxModel",
          "model_module_version": "1.5.0",
          "state": {
            "_dom_classes": [],
            "_model_module": "@jupyter-widgets/controls",
            "_model_module_version": "1.5.0",
            "_model_name": "HBoxModel",
            "_view_count": null,
            "_view_module": "@jupyter-widgets/controls",
            "_view_module_version": "1.5.0",
            "_view_name": "HBoxView",
            "box_style": "",
            "children": [
              "IPY_MODEL_6874f8b0654e431e829d570fb5d8f5d1",
              "IPY_MODEL_b1c7730462ec4526bf91490b1a7ea12b",
              "IPY_MODEL_d9df1f54d64748708b374f6e8b91ea1f"
            ],
            "layout": "IPY_MODEL_0fabafa99d1d46a3ab073d64a029c0bc"
          }
        },
        "6874f8b0654e431e829d570fb5d8f5d1": {
          "model_module": "@jupyter-widgets/controls",
          "model_name": "HTMLModel",
          "model_module_version": "1.5.0",
          "state": {
            "_dom_classes": [],
            "_model_module": "@jupyter-widgets/controls",
            "_model_module_version": "1.5.0",
            "_model_name": "HTMLModel",
            "_view_count": null,
            "_view_module": "@jupyter-widgets/controls",
            "_view_module_version": "1.5.0",
            "_view_name": "HTMLView",
            "description": "",
            "description_tooltip": null,
            "layout": "IPY_MODEL_957879f5e47c47d69f99e3f2f2165dd4",
            "placeholder": "​",
            "style": "IPY_MODEL_8c21597e8326478297b0bcde1ecdeb42",
            "value": "100%"
          }
        },
        "b1c7730462ec4526bf91490b1a7ea12b": {
          "model_module": "@jupyter-widgets/controls",
          "model_name": "FloatProgressModel",
          "model_module_version": "1.5.0",
          "state": {
            "_dom_classes": [],
            "_model_module": "@jupyter-widgets/controls",
            "_model_module_version": "1.5.0",
            "_model_name": "FloatProgressModel",
            "_view_count": null,
            "_view_module": "@jupyter-widgets/controls",
            "_view_module_version": "1.5.0",
            "_view_name": "ProgressView",
            "bar_style": "success",
            "description": "",
            "description_tooltip": null,
            "layout": "IPY_MODEL_36a3e69263ce4c209779be70c6d123dc",
            "max": 10,
            "min": 0,
            "orientation": "horizontal",
            "style": "IPY_MODEL_8faca11bae28479b930c1ccc1b419e3d",
            "value": 10
          }
        },
        "d9df1f54d64748708b374f6e8b91ea1f": {
          "model_module": "@jupyter-widgets/controls",
          "model_name": "HTMLModel",
          "model_module_version": "1.5.0",
          "state": {
            "_dom_classes": [],
            "_model_module": "@jupyter-widgets/controls",
            "_model_module_version": "1.5.0",
            "_model_name": "HTMLModel",
            "_view_count": null,
            "_view_module": "@jupyter-widgets/controls",
            "_view_module_version": "1.5.0",
            "_view_name": "HTMLView",
            "description": "",
            "description_tooltip": null,
            "layout": "IPY_MODEL_4135aac2829641dbab2377d72292c3a2",
            "placeholder": "​",
            "style": "IPY_MODEL_8561b7bdd8274722ae980516b680a6c8",
            "value": " 10/10 [08:33&lt;00:00, 51.41s/it]"
          }
        },
        "0fabafa99d1d46a3ab073d64a029c0bc": {
          "model_module": "@jupyter-widgets/base",
          "model_name": "LayoutModel",
          "model_module_version": "1.2.0",
          "state": {
            "_model_module": "@jupyter-widgets/base",
            "_model_module_version": "1.2.0",
            "_model_name": "LayoutModel",
            "_view_count": null,
            "_view_module": "@jupyter-widgets/base",
            "_view_module_version": "1.2.0",
            "_view_name": "LayoutView",
            "align_content": null,
            "align_items": null,
            "align_self": null,
            "border": null,
            "bottom": null,
            "display": null,
            "flex": null,
            "flex_flow": null,
            "grid_area": null,
            "grid_auto_columns": null,
            "grid_auto_flow": null,
            "grid_auto_rows": null,
            "grid_column": null,
            "grid_gap": null,
            "grid_row": null,
            "grid_template_areas": null,
            "grid_template_columns": null,
            "grid_template_rows": null,
            "height": null,
            "justify_content": null,
            "justify_items": null,
            "left": null,
            "margin": null,
            "max_height": null,
            "max_width": null,
            "min_height": null,
            "min_width": null,
            "object_fit": null,
            "object_position": null,
            "order": null,
            "overflow": null,
            "overflow_x": null,
            "overflow_y": null,
            "padding": null,
            "right": null,
            "top": null,
            "visibility": null,
            "width": null
          }
        },
        "957879f5e47c47d69f99e3f2f2165dd4": {
          "model_module": "@jupyter-widgets/base",
          "model_name": "LayoutModel",
          "model_module_version": "1.2.0",
          "state": {
            "_model_module": "@jupyter-widgets/base",
            "_model_module_version": "1.2.0",
            "_model_name": "LayoutModel",
            "_view_count": null,
            "_view_module": "@jupyter-widgets/base",
            "_view_module_version": "1.2.0",
            "_view_name": "LayoutView",
            "align_content": null,
            "align_items": null,
            "align_self": null,
            "border": null,
            "bottom": null,
            "display": null,
            "flex": null,
            "flex_flow": null,
            "grid_area": null,
            "grid_auto_columns": null,
            "grid_auto_flow": null,
            "grid_auto_rows": null,
            "grid_column": null,
            "grid_gap": null,
            "grid_row": null,
            "grid_template_areas": null,
            "grid_template_columns": null,
            "grid_template_rows": null,
            "height": null,
            "justify_content": null,
            "justify_items": null,
            "left": null,
            "margin": null,
            "max_height": null,
            "max_width": null,
            "min_height": null,
            "min_width": null,
            "object_fit": null,
            "object_position": null,
            "order": null,
            "overflow": null,
            "overflow_x": null,
            "overflow_y": null,
            "padding": null,
            "right": null,
            "top": null,
            "visibility": null,
            "width": null
          }
        },
        "8c21597e8326478297b0bcde1ecdeb42": {
          "model_module": "@jupyter-widgets/controls",
          "model_name": "DescriptionStyleModel",
          "model_module_version": "1.5.0",
          "state": {
            "_model_module": "@jupyter-widgets/controls",
            "_model_module_version": "1.5.0",
            "_model_name": "DescriptionStyleModel",
            "_view_count": null,
            "_view_module": "@jupyter-widgets/base",
            "_view_module_version": "1.2.0",
            "_view_name": "StyleView",
            "description_width": ""
          }
        },
        "36a3e69263ce4c209779be70c6d123dc": {
          "model_module": "@jupyter-widgets/base",
          "model_name": "LayoutModel",
          "model_module_version": "1.2.0",
          "state": {
            "_model_module": "@jupyter-widgets/base",
            "_model_module_version": "1.2.0",
            "_model_name": "LayoutModel",
            "_view_count": null,
            "_view_module": "@jupyter-widgets/base",
            "_view_module_version": "1.2.0",
            "_view_name": "LayoutView",
            "align_content": null,
            "align_items": null,
            "align_self": null,
            "border": null,
            "bottom": null,
            "display": null,
            "flex": null,
            "flex_flow": null,
            "grid_area": null,
            "grid_auto_columns": null,
            "grid_auto_flow": null,
            "grid_auto_rows": null,
            "grid_column": null,
            "grid_gap": null,
            "grid_row": null,
            "grid_template_areas": null,
            "grid_template_columns": null,
            "grid_template_rows": null,
            "height": null,
            "justify_content": null,
            "justify_items": null,
            "left": null,
            "margin": null,
            "max_height": null,
            "max_width": null,
            "min_height": null,
            "min_width": null,
            "object_fit": null,
            "object_position": null,
            "order": null,
            "overflow": null,
            "overflow_x": null,
            "overflow_y": null,
            "padding": null,
            "right": null,
            "top": null,
            "visibility": null,
            "width": null
          }
        },
        "8faca11bae28479b930c1ccc1b419e3d": {
          "model_module": "@jupyter-widgets/controls",
          "model_name": "ProgressStyleModel",
          "model_module_version": "1.5.0",
          "state": {
            "_model_module": "@jupyter-widgets/controls",
            "_model_module_version": "1.5.0",
            "_model_name": "ProgressStyleModel",
            "_view_count": null,
            "_view_module": "@jupyter-widgets/base",
            "_view_module_version": "1.2.0",
            "_view_name": "StyleView",
            "bar_color": null,
            "description_width": ""
          }
        },
        "4135aac2829641dbab2377d72292c3a2": {
          "model_module": "@jupyter-widgets/base",
          "model_name": "LayoutModel",
          "model_module_version": "1.2.0",
          "state": {
            "_model_module": "@jupyter-widgets/base",
            "_model_module_version": "1.2.0",
            "_model_name": "LayoutModel",
            "_view_count": null,
            "_view_module": "@jupyter-widgets/base",
            "_view_module_version": "1.2.0",
            "_view_name": "LayoutView",
            "align_content": null,
            "align_items": null,
            "align_self": null,
            "border": null,
            "bottom": null,
            "display": null,
            "flex": null,
            "flex_flow": null,
            "grid_area": null,
            "grid_auto_columns": null,
            "grid_auto_flow": null,
            "grid_auto_rows": null,
            "grid_column": null,
            "grid_gap": null,
            "grid_row": null,
            "grid_template_areas": null,
            "grid_template_columns": null,
            "grid_template_rows": null,
            "height": null,
            "justify_content": null,
            "justify_items": null,
            "left": null,
            "margin": null,
            "max_height": null,
            "max_width": null,
            "min_height": null,
            "min_width": null,
            "object_fit": null,
            "object_position": null,
            "order": null,
            "overflow": null,
            "overflow_x": null,
            "overflow_y": null,
            "padding": null,
            "right": null,
            "top": null,
            "visibility": null,
            "width": null
          }
        },
        "8561b7bdd8274722ae980516b680a6c8": {
          "model_module": "@jupyter-widgets/controls",
          "model_name": "DescriptionStyleModel",
          "model_module_version": "1.5.0",
          "state": {
            "_model_module": "@jupyter-widgets/controls",
            "_model_module_version": "1.5.0",
            "_model_name": "DescriptionStyleModel",
            "_view_count": null,
            "_view_module": "@jupyter-widgets/base",
            "_view_module_version": "1.2.0",
            "_view_name": "StyleView",
            "description_width": ""
          }
        },
        "a3735b1db5f940d385d8da7ccf935c4c": {
          "model_module": "@jupyter-widgets/controls",
          "model_name": "HBoxModel",
          "model_module_version": "1.5.0",
          "state": {
            "_dom_classes": [],
            "_model_module": "@jupyter-widgets/controls",
            "_model_module_version": "1.5.0",
            "_model_name": "HBoxModel",
            "_view_count": null,
            "_view_module": "@jupyter-widgets/controls",
            "_view_module_version": "1.5.0",
            "_view_name": "HBoxView",
            "box_style": "",
            "children": [
              "IPY_MODEL_db24db03deed440194c9c540be06fe0e",
              "IPY_MODEL_b500115f95314824b16e31d6421fe8bb",
              "IPY_MODEL_2b271dd74e774619b776a18900fa9199"
            ],
            "layout": "IPY_MODEL_72780aee7392455bbf15915f0628e1b7"
          }
        },
        "db24db03deed440194c9c540be06fe0e": {
          "model_module": "@jupyter-widgets/controls",
          "model_name": "HTMLModel",
          "model_module_version": "1.5.0",
          "state": {
            "_dom_classes": [],
            "_model_module": "@jupyter-widgets/controls",
            "_model_module_version": "1.5.0",
            "_model_name": "HTMLModel",
            "_view_count": null,
            "_view_module": "@jupyter-widgets/controls",
            "_view_module_version": "1.5.0",
            "_view_name": "HTMLView",
            "description": "",
            "description_tooltip": null,
            "layout": "IPY_MODEL_f9d57729a9ea4fe2863d3f121319d07e",
            "placeholder": "​",
            "style": "IPY_MODEL_084296fecd6348f2a3c316420a318357",
            "value": "100%"
          }
        },
        "b500115f95314824b16e31d6421fe8bb": {
          "model_module": "@jupyter-widgets/controls",
          "model_name": "FloatProgressModel",
          "model_module_version": "1.5.0",
          "state": {
            "_dom_classes": [],
            "_model_module": "@jupyter-widgets/controls",
            "_model_module_version": "1.5.0",
            "_model_name": "FloatProgressModel",
            "_view_count": null,
            "_view_module": "@jupyter-widgets/controls",
            "_view_module_version": "1.5.0",
            "_view_name": "ProgressView",
            "bar_style": "success",
            "description": "",
            "description_tooltip": null,
            "layout": "IPY_MODEL_8f0bc43fd1934abd8cfa4cde50a9d9b1",
            "max": 10,
            "min": 0,
            "orientation": "horizontal",
            "style": "IPY_MODEL_40b3a86f5a9e4ab7b556365ead2d0ee6",
            "value": 10
          }
        },
        "2b271dd74e774619b776a18900fa9199": {
          "model_module": "@jupyter-widgets/controls",
          "model_name": "HTMLModel",
          "model_module_version": "1.5.0",
          "state": {
            "_dom_classes": [],
            "_model_module": "@jupyter-widgets/controls",
            "_model_module_version": "1.5.0",
            "_model_name": "HTMLModel",
            "_view_count": null,
            "_view_module": "@jupyter-widgets/controls",
            "_view_module_version": "1.5.0",
            "_view_name": "HTMLView",
            "description": "",
            "description_tooltip": null,
            "layout": "IPY_MODEL_8f9d4fbdd8e64f38bc100add3f739c57",
            "placeholder": "​",
            "style": "IPY_MODEL_6bbbb71db01e4e1c858b2e1a9eb9ef7f",
            "value": " 10/10 [36:30&lt;00:00, 220.18s/it]"
          }
        },
        "72780aee7392455bbf15915f0628e1b7": {
          "model_module": "@jupyter-widgets/base",
          "model_name": "LayoutModel",
          "model_module_version": "1.2.0",
          "state": {
            "_model_module": "@jupyter-widgets/base",
            "_model_module_version": "1.2.0",
            "_model_name": "LayoutModel",
            "_view_count": null,
            "_view_module": "@jupyter-widgets/base",
            "_view_module_version": "1.2.0",
            "_view_name": "LayoutView",
            "align_content": null,
            "align_items": null,
            "align_self": null,
            "border": null,
            "bottom": null,
            "display": null,
            "flex": null,
            "flex_flow": null,
            "grid_area": null,
            "grid_auto_columns": null,
            "grid_auto_flow": null,
            "grid_auto_rows": null,
            "grid_column": null,
            "grid_gap": null,
            "grid_row": null,
            "grid_template_areas": null,
            "grid_template_columns": null,
            "grid_template_rows": null,
            "height": null,
            "justify_content": null,
            "justify_items": null,
            "left": null,
            "margin": null,
            "max_height": null,
            "max_width": null,
            "min_height": null,
            "min_width": null,
            "object_fit": null,
            "object_position": null,
            "order": null,
            "overflow": null,
            "overflow_x": null,
            "overflow_y": null,
            "padding": null,
            "right": null,
            "top": null,
            "visibility": null,
            "width": null
          }
        },
        "f9d57729a9ea4fe2863d3f121319d07e": {
          "model_module": "@jupyter-widgets/base",
          "model_name": "LayoutModel",
          "model_module_version": "1.2.0",
          "state": {
            "_model_module": "@jupyter-widgets/base",
            "_model_module_version": "1.2.0",
            "_model_name": "LayoutModel",
            "_view_count": null,
            "_view_module": "@jupyter-widgets/base",
            "_view_module_version": "1.2.0",
            "_view_name": "LayoutView",
            "align_content": null,
            "align_items": null,
            "align_self": null,
            "border": null,
            "bottom": null,
            "display": null,
            "flex": null,
            "flex_flow": null,
            "grid_area": null,
            "grid_auto_columns": null,
            "grid_auto_flow": null,
            "grid_auto_rows": null,
            "grid_column": null,
            "grid_gap": null,
            "grid_row": null,
            "grid_template_areas": null,
            "grid_template_columns": null,
            "grid_template_rows": null,
            "height": null,
            "justify_content": null,
            "justify_items": null,
            "left": null,
            "margin": null,
            "max_height": null,
            "max_width": null,
            "min_height": null,
            "min_width": null,
            "object_fit": null,
            "object_position": null,
            "order": null,
            "overflow": null,
            "overflow_x": null,
            "overflow_y": null,
            "padding": null,
            "right": null,
            "top": null,
            "visibility": null,
            "width": null
          }
        },
        "084296fecd6348f2a3c316420a318357": {
          "model_module": "@jupyter-widgets/controls",
          "model_name": "DescriptionStyleModel",
          "model_module_version": "1.5.0",
          "state": {
            "_model_module": "@jupyter-widgets/controls",
            "_model_module_version": "1.5.0",
            "_model_name": "DescriptionStyleModel",
            "_view_count": null,
            "_view_module": "@jupyter-widgets/base",
            "_view_module_version": "1.2.0",
            "_view_name": "StyleView",
            "description_width": ""
          }
        },
        "8f0bc43fd1934abd8cfa4cde50a9d9b1": {
          "model_module": "@jupyter-widgets/base",
          "model_name": "LayoutModel",
          "model_module_version": "1.2.0",
          "state": {
            "_model_module": "@jupyter-widgets/base",
            "_model_module_version": "1.2.0",
            "_model_name": "LayoutModel",
            "_view_count": null,
            "_view_module": "@jupyter-widgets/base",
            "_view_module_version": "1.2.0",
            "_view_name": "LayoutView",
            "align_content": null,
            "align_items": null,
            "align_self": null,
            "border": null,
            "bottom": null,
            "display": null,
            "flex": null,
            "flex_flow": null,
            "grid_area": null,
            "grid_auto_columns": null,
            "grid_auto_flow": null,
            "grid_auto_rows": null,
            "grid_column": null,
            "grid_gap": null,
            "grid_row": null,
            "grid_template_areas": null,
            "grid_template_columns": null,
            "grid_template_rows": null,
            "height": null,
            "justify_content": null,
            "justify_items": null,
            "left": null,
            "margin": null,
            "max_height": null,
            "max_width": null,
            "min_height": null,
            "min_width": null,
            "object_fit": null,
            "object_position": null,
            "order": null,
            "overflow": null,
            "overflow_x": null,
            "overflow_y": null,
            "padding": null,
            "right": null,
            "top": null,
            "visibility": null,
            "width": null
          }
        },
        "40b3a86f5a9e4ab7b556365ead2d0ee6": {
          "model_module": "@jupyter-widgets/controls",
          "model_name": "ProgressStyleModel",
          "model_module_version": "1.5.0",
          "state": {
            "_model_module": "@jupyter-widgets/controls",
            "_model_module_version": "1.5.0",
            "_model_name": "ProgressStyleModel",
            "_view_count": null,
            "_view_module": "@jupyter-widgets/base",
            "_view_module_version": "1.2.0",
            "_view_name": "StyleView",
            "bar_color": null,
            "description_width": ""
          }
        },
        "8f9d4fbdd8e64f38bc100add3f739c57": {
          "model_module": "@jupyter-widgets/base",
          "model_name": "LayoutModel",
          "model_module_version": "1.2.0",
          "state": {
            "_model_module": "@jupyter-widgets/base",
            "_model_module_version": "1.2.0",
            "_model_name": "LayoutModel",
            "_view_count": null,
            "_view_module": "@jupyter-widgets/base",
            "_view_module_version": "1.2.0",
            "_view_name": "LayoutView",
            "align_content": null,
            "align_items": null,
            "align_self": null,
            "border": null,
            "bottom": null,
            "display": null,
            "flex": null,
            "flex_flow": null,
            "grid_area": null,
            "grid_auto_columns": null,
            "grid_auto_flow": null,
            "grid_auto_rows": null,
            "grid_column": null,
            "grid_gap": null,
            "grid_row": null,
            "grid_template_areas": null,
            "grid_template_columns": null,
            "grid_template_rows": null,
            "height": null,
            "justify_content": null,
            "justify_items": null,
            "left": null,
            "margin": null,
            "max_height": null,
            "max_width": null,
            "min_height": null,
            "min_width": null,
            "object_fit": null,
            "object_position": null,
            "order": null,
            "overflow": null,
            "overflow_x": null,
            "overflow_y": null,
            "padding": null,
            "right": null,
            "top": null,
            "visibility": null,
            "width": null
          }
        },
        "6bbbb71db01e4e1c858b2e1a9eb9ef7f": {
          "model_module": "@jupyter-widgets/controls",
          "model_name": "DescriptionStyleModel",
          "model_module_version": "1.5.0",
          "state": {
            "_model_module": "@jupyter-widgets/controls",
            "_model_module_version": "1.5.0",
            "_model_name": "DescriptionStyleModel",
            "_view_count": null,
            "_view_module": "@jupyter-widgets/base",
            "_view_module_version": "1.2.0",
            "_view_name": "StyleView",
            "description_width": ""
          }
        },
        "74ad4dfe6bdc412aa3dc521a4cb763ca": {
          "model_module": "@jupyter-widgets/controls",
          "model_name": "HBoxModel",
          "model_module_version": "1.5.0",
          "state": {
            "_dom_classes": [],
            "_model_module": "@jupyter-widgets/controls",
            "_model_module_version": "1.5.0",
            "_model_name": "HBoxModel",
            "_view_count": null,
            "_view_module": "@jupyter-widgets/controls",
            "_view_module_version": "1.5.0",
            "_view_name": "HBoxView",
            "box_style": "",
            "children": [
              "IPY_MODEL_aacd52cf914143babb3f258f6a92e7e2",
              "IPY_MODEL_834127de6b8a4c0587f3e69f302d026b",
              "IPY_MODEL_e070b45430d34b4486f76f39357ac48e"
            ],
            "layout": "IPY_MODEL_ce1a9ae9d3d947bc952d749cfb90d653"
          }
        },
        "aacd52cf914143babb3f258f6a92e7e2": {
          "model_module": "@jupyter-widgets/controls",
          "model_name": "HTMLModel",
          "model_module_version": "1.5.0",
          "state": {
            "_dom_classes": [],
            "_model_module": "@jupyter-widgets/controls",
            "_model_module_version": "1.5.0",
            "_model_name": "HTMLModel",
            "_view_count": null,
            "_view_module": "@jupyter-widgets/controls",
            "_view_module_version": "1.5.0",
            "_view_name": "HTMLView",
            "description": "",
            "description_tooltip": null,
            "layout": "IPY_MODEL_12bec44abdce4a659ce37282d3b753b0",
            "placeholder": "​",
            "style": "IPY_MODEL_000ed9b618b04153b1afc2d10e515323",
            "value": " 50%"
          }
        },
        "834127de6b8a4c0587f3e69f302d026b": {
          "model_module": "@jupyter-widgets/controls",
          "model_name": "FloatProgressModel",
          "model_module_version": "1.5.0",
          "state": {
            "_dom_classes": [],
            "_model_module": "@jupyter-widgets/controls",
            "_model_module_version": "1.5.0",
            "_model_name": "FloatProgressModel",
            "_view_count": null,
            "_view_module": "@jupyter-widgets/controls",
            "_view_module_version": "1.5.0",
            "_view_name": "ProgressView",
            "bar_style": "danger",
            "description": "",
            "description_tooltip": null,
            "layout": "IPY_MODEL_9de141180b8c443496cae655bc7725eb",
            "max": 30,
            "min": 0,
            "orientation": "horizontal",
            "style": "IPY_MODEL_7013d9cd4bdd4698aac5a4a549c944a2",
            "value": 15
          }
        },
        "e070b45430d34b4486f76f39357ac48e": {
          "model_module": "@jupyter-widgets/controls",
          "model_name": "HTMLModel",
          "model_module_version": "1.5.0",
          "state": {
            "_dom_classes": [],
            "_model_module": "@jupyter-widgets/controls",
            "_model_module_version": "1.5.0",
            "_model_name": "HTMLModel",
            "_view_count": null,
            "_view_module": "@jupyter-widgets/controls",
            "_view_module_version": "1.5.0",
            "_view_name": "HTMLView",
            "description": "",
            "description_tooltip": null,
            "layout": "IPY_MODEL_5cb78ee141fd4122a7ab91511c407900",
            "placeholder": "​",
            "style": "IPY_MODEL_25353c1aa2d24313859b972410600220",
            "value": " 15/30 [12:06&lt;11:24, 45.65s/it]"
          }
        },
        "ce1a9ae9d3d947bc952d749cfb90d653": {
          "model_module": "@jupyter-widgets/base",
          "model_name": "LayoutModel",
          "model_module_version": "1.2.0",
          "state": {
            "_model_module": "@jupyter-widgets/base",
            "_model_module_version": "1.2.0",
            "_model_name": "LayoutModel",
            "_view_count": null,
            "_view_module": "@jupyter-widgets/base",
            "_view_module_version": "1.2.0",
            "_view_name": "LayoutView",
            "align_content": null,
            "align_items": null,
            "align_self": null,
            "border": null,
            "bottom": null,
            "display": null,
            "flex": null,
            "flex_flow": null,
            "grid_area": null,
            "grid_auto_columns": null,
            "grid_auto_flow": null,
            "grid_auto_rows": null,
            "grid_column": null,
            "grid_gap": null,
            "grid_row": null,
            "grid_template_areas": null,
            "grid_template_columns": null,
            "grid_template_rows": null,
            "height": null,
            "justify_content": null,
            "justify_items": null,
            "left": null,
            "margin": null,
            "max_height": null,
            "max_width": null,
            "min_height": null,
            "min_width": null,
            "object_fit": null,
            "object_position": null,
            "order": null,
            "overflow": null,
            "overflow_x": null,
            "overflow_y": null,
            "padding": null,
            "right": null,
            "top": null,
            "visibility": null,
            "width": null
          }
        },
        "12bec44abdce4a659ce37282d3b753b0": {
          "model_module": "@jupyter-widgets/base",
          "model_name": "LayoutModel",
          "model_module_version": "1.2.0",
          "state": {
            "_model_module": "@jupyter-widgets/base",
            "_model_module_version": "1.2.0",
            "_model_name": "LayoutModel",
            "_view_count": null,
            "_view_module": "@jupyter-widgets/base",
            "_view_module_version": "1.2.0",
            "_view_name": "LayoutView",
            "align_content": null,
            "align_items": null,
            "align_self": null,
            "border": null,
            "bottom": null,
            "display": null,
            "flex": null,
            "flex_flow": null,
            "grid_area": null,
            "grid_auto_columns": null,
            "grid_auto_flow": null,
            "grid_auto_rows": null,
            "grid_column": null,
            "grid_gap": null,
            "grid_row": null,
            "grid_template_areas": null,
            "grid_template_columns": null,
            "grid_template_rows": null,
            "height": null,
            "justify_content": null,
            "justify_items": null,
            "left": null,
            "margin": null,
            "max_height": null,
            "max_width": null,
            "min_height": null,
            "min_width": null,
            "object_fit": null,
            "object_position": null,
            "order": null,
            "overflow": null,
            "overflow_x": null,
            "overflow_y": null,
            "padding": null,
            "right": null,
            "top": null,
            "visibility": null,
            "width": null
          }
        },
        "000ed9b618b04153b1afc2d10e515323": {
          "model_module": "@jupyter-widgets/controls",
          "model_name": "DescriptionStyleModel",
          "model_module_version": "1.5.0",
          "state": {
            "_model_module": "@jupyter-widgets/controls",
            "_model_module_version": "1.5.0",
            "_model_name": "DescriptionStyleModel",
            "_view_count": null,
            "_view_module": "@jupyter-widgets/base",
            "_view_module_version": "1.2.0",
            "_view_name": "StyleView",
            "description_width": ""
          }
        },
        "9de141180b8c443496cae655bc7725eb": {
          "model_module": "@jupyter-widgets/base",
          "model_name": "LayoutModel",
          "model_module_version": "1.2.0",
          "state": {
            "_model_module": "@jupyter-widgets/base",
            "_model_module_version": "1.2.0",
            "_model_name": "LayoutModel",
            "_view_count": null,
            "_view_module": "@jupyter-widgets/base",
            "_view_module_version": "1.2.0",
            "_view_name": "LayoutView",
            "align_content": null,
            "align_items": null,
            "align_self": null,
            "border": null,
            "bottom": null,
            "display": null,
            "flex": null,
            "flex_flow": null,
            "grid_area": null,
            "grid_auto_columns": null,
            "grid_auto_flow": null,
            "grid_auto_rows": null,
            "grid_column": null,
            "grid_gap": null,
            "grid_row": null,
            "grid_template_areas": null,
            "grid_template_columns": null,
            "grid_template_rows": null,
            "height": null,
            "justify_content": null,
            "justify_items": null,
            "left": null,
            "margin": null,
            "max_height": null,
            "max_width": null,
            "min_height": null,
            "min_width": null,
            "object_fit": null,
            "object_position": null,
            "order": null,
            "overflow": null,
            "overflow_x": null,
            "overflow_y": null,
            "padding": null,
            "right": null,
            "top": null,
            "visibility": null,
            "width": null
          }
        },
        "7013d9cd4bdd4698aac5a4a549c944a2": {
          "model_module": "@jupyter-widgets/controls",
          "model_name": "ProgressStyleModel",
          "model_module_version": "1.5.0",
          "state": {
            "_model_module": "@jupyter-widgets/controls",
            "_model_module_version": "1.5.0",
            "_model_name": "ProgressStyleModel",
            "_view_count": null,
            "_view_module": "@jupyter-widgets/base",
            "_view_module_version": "1.2.0",
            "_view_name": "StyleView",
            "bar_color": null,
            "description_width": ""
          }
        },
        "5cb78ee141fd4122a7ab91511c407900": {
          "model_module": "@jupyter-widgets/base",
          "model_name": "LayoutModel",
          "model_module_version": "1.2.0",
          "state": {
            "_model_module": "@jupyter-widgets/base",
            "_model_module_version": "1.2.0",
            "_model_name": "LayoutModel",
            "_view_count": null,
            "_view_module": "@jupyter-widgets/base",
            "_view_module_version": "1.2.0",
            "_view_name": "LayoutView",
            "align_content": null,
            "align_items": null,
            "align_self": null,
            "border": null,
            "bottom": null,
            "display": null,
            "flex": null,
            "flex_flow": null,
            "grid_area": null,
            "grid_auto_columns": null,
            "grid_auto_flow": null,
            "grid_auto_rows": null,
            "grid_column": null,
            "grid_gap": null,
            "grid_row": null,
            "grid_template_areas": null,
            "grid_template_columns": null,
            "grid_template_rows": null,
            "height": null,
            "justify_content": null,
            "justify_items": null,
            "left": null,
            "margin": null,
            "max_height": null,
            "max_width": null,
            "min_height": null,
            "min_width": null,
            "object_fit": null,
            "object_position": null,
            "order": null,
            "overflow": null,
            "overflow_x": null,
            "overflow_y": null,
            "padding": null,
            "right": null,
            "top": null,
            "visibility": null,
            "width": null
          }
        },
        "25353c1aa2d24313859b972410600220": {
          "model_module": "@jupyter-widgets/controls",
          "model_name": "DescriptionStyleModel",
          "model_module_version": "1.5.0",
          "state": {
            "_model_module": "@jupyter-widgets/controls",
            "_model_module_version": "1.5.0",
            "_model_name": "DescriptionStyleModel",
            "_view_count": null,
            "_view_module": "@jupyter-widgets/base",
            "_view_module_version": "1.2.0",
            "_view_name": "StyleView",
            "description_width": ""
          }
        }
      }
    }
  },
  "cells": [
    {
      "cell_type": "markdown",
      "source": [
        "# Traductor ENG → SPA en PyTorch\n",
        "\n",
        "Basado en [versión Keras](https://github.com/FIUBA-Posgrado-Inteligencia-Artificial/procesamiento_lenguaje_natural/blob/main/clase_6/jupyter_notebooks/tensorflow/6c%20-%20traductor.ipynb) mostrada en clase."
      ],
      "metadata": {
        "id": "JS7RgO0A5sNF"
      }
    },
    {
      "cell_type": "code",
      "execution_count": 1,
      "metadata": {
        "id": "w2rzAx2F1ytP"
      },
      "outputs": [],
      "source": [
        "import re\n",
        "import gdown\n",
        "import os\n",
        "import gc\n",
        "\n",
        "import numpy as np\n",
        "import pandas as pd\n",
        "import matplotlib.pyplot as plt\n",
        "import seaborn as sns\n",
        "from sklearn.model_selection import train_test_split\n",
        "\n",
        "import torch\n",
        "import torch.nn.functional as F\n",
        "import torch.nn as nn\n",
        "import torch.optim as optim\n",
        "from torch.utils.data import Dataset, DataLoader\n",
        "\n",
        "from tensorflow.keras.preprocessing.text import Tokenizer\n",
        "from torch.nn.utils.rnn import pad_sequence\n",
        "from tqdm.notebook import tqdm"
      ]
    },
    {
      "cell_type": "code",
      "source": [
        "device = torch.device('cuda' if torch.cuda.is_available() else 'cpu')\n",
        "\n",
        "print(f\"Using device: {str(device).upper()}\")"
      ],
      "metadata": {
        "colab": {
          "base_uri": "https://localhost:8080/"
        },
        "id": "toMnNXNP57hc",
        "outputId": "79740570-a94a-4162-af8f-a3f7f45ae792"
      },
      "execution_count": 2,
      "outputs": [
        {
          "output_type": "stream",
          "name": "stdout",
          "text": [
            "Using device: CUDA\n"
          ]
        }
      ]
    },
    {
      "cell_type": "markdown",
      "source": [
        "# Datos\n"
      ],
      "metadata": {
        "id": "g63M5SakXtq4"
      }
    },
    {
      "cell_type": "code",
      "source": [
        "# descarga de datos\n",
        "if os.access('spa-eng', os.F_OK) is False:\n",
        "    if os.access('spa-eng.zip', os.F_OK) is False:\n",
        "        !curl -L -o 'spa-eng.zip' 'http://storage.googleapis.com/download.tensorflow.org/data/spa-eng.zip'\n",
        "    !unzip -q spa-eng.zip\n",
        "else:\n",
        "    print(\"El dataset ya se encuentra descargado\")"
      ],
      "metadata": {
        "colab": {
          "base_uri": "https://localhost:8080/"
        },
        "id": "oBFshcGwPFIP",
        "outputId": "59153a86-4495-47be-8ba7-ed6cc7e30eee"
      },
      "execution_count": 3,
      "outputs": [
        {
          "output_type": "stream",
          "name": "stdout",
          "text": [
            "  % Total    % Received % Xferd  Average Speed   Time    Time     Time  Current\n",
            "                                 Dload  Upload   Total   Spent    Left  Speed\n",
            "100 2576k  100 2576k    0     0  1107k      0  0:00:02  0:00:02 --:--:-- 1107k\n"
          ]
        }
      ]
    },
    {
      "cell_type": "code",
      "source": [
        "# levantamos los datos\n",
        "data = pd.read_csv('spa-eng/spa.txt',sep='\\t', names=['eng','spa'])\n",
        "\n",
        "data"
      ],
      "metadata": {
        "colab": {
          "base_uri": "https://localhost:8080/",
          "height": 424
        },
        "id": "mP01MEJVYV-P",
        "outputId": "ee0babd3-e1fd-4746-e8df-18b21115730c"
      },
      "execution_count": 4,
      "outputs": [
        {
          "output_type": "execute_result",
          "data": {
            "text/plain": [
              "                                                      eng  \\\n",
              "0                                                     Go.   \n",
              "1                                                     Go.   \n",
              "2                                                     Go.   \n",
              "3                                                     Go.   \n",
              "4                                                     Hi.   \n",
              "...                                                   ...   \n",
              "118959  There are four main causes of alcohol-related ...   \n",
              "118960  There are mothers and fathers who will lie awa...   \n",
              "118961  A carbon footprint is the amount of carbon dio...   \n",
              "118962  Since there are usually multiple websites on a...   \n",
              "118963  If you want to sound like a native speaker, yo...   \n",
              "\n",
              "                                                      spa  \n",
              "0                                                     Ve.  \n",
              "1                                                   Vete.  \n",
              "2                                                   Vaya.  \n",
              "3                                                 Váyase.  \n",
              "4                                                   Hola.  \n",
              "...                                                   ...  \n",
              "118959  Hay cuatro causas principales de muertes relac...  \n",
              "118960  Hay madres y padres que se quedan despiertos d...  \n",
              "118961  Una huella de carbono es la cantidad de contam...  \n",
              "118962  Como suele haber varias páginas web sobre cual...  \n",
              "118963  Si quieres sonar como un hablante nativo, debe...  \n",
              "\n",
              "[118964 rows x 2 columns]"
            ],
            "text/html": [
              "\n",
              "  <div id=\"df-8785734c-48cc-4d51-9e2c-204ca5001ca2\" class=\"colab-df-container\">\n",
              "    <div>\n",
              "<style scoped>\n",
              "    .dataframe tbody tr th:only-of-type {\n",
              "        vertical-align: middle;\n",
              "    }\n",
              "\n",
              "    .dataframe tbody tr th {\n",
              "        vertical-align: top;\n",
              "    }\n",
              "\n",
              "    .dataframe thead th {\n",
              "        text-align: right;\n",
              "    }\n",
              "</style>\n",
              "<table border=\"1\" class=\"dataframe\">\n",
              "  <thead>\n",
              "    <tr style=\"text-align: right;\">\n",
              "      <th></th>\n",
              "      <th>eng</th>\n",
              "      <th>spa</th>\n",
              "    </tr>\n",
              "  </thead>\n",
              "  <tbody>\n",
              "    <tr>\n",
              "      <th>0</th>\n",
              "      <td>Go.</td>\n",
              "      <td>Ve.</td>\n",
              "    </tr>\n",
              "    <tr>\n",
              "      <th>1</th>\n",
              "      <td>Go.</td>\n",
              "      <td>Vete.</td>\n",
              "    </tr>\n",
              "    <tr>\n",
              "      <th>2</th>\n",
              "      <td>Go.</td>\n",
              "      <td>Vaya.</td>\n",
              "    </tr>\n",
              "    <tr>\n",
              "      <th>3</th>\n",
              "      <td>Go.</td>\n",
              "      <td>Váyase.</td>\n",
              "    </tr>\n",
              "    <tr>\n",
              "      <th>4</th>\n",
              "      <td>Hi.</td>\n",
              "      <td>Hola.</td>\n",
              "    </tr>\n",
              "    <tr>\n",
              "      <th>...</th>\n",
              "      <td>...</td>\n",
              "      <td>...</td>\n",
              "    </tr>\n",
              "    <tr>\n",
              "      <th>118959</th>\n",
              "      <td>There are four main causes of alcohol-related ...</td>\n",
              "      <td>Hay cuatro causas principales de muertes relac...</td>\n",
              "    </tr>\n",
              "    <tr>\n",
              "      <th>118960</th>\n",
              "      <td>There are mothers and fathers who will lie awa...</td>\n",
              "      <td>Hay madres y padres que se quedan despiertos d...</td>\n",
              "    </tr>\n",
              "    <tr>\n",
              "      <th>118961</th>\n",
              "      <td>A carbon footprint is the amount of carbon dio...</td>\n",
              "      <td>Una huella de carbono es la cantidad de contam...</td>\n",
              "    </tr>\n",
              "    <tr>\n",
              "      <th>118962</th>\n",
              "      <td>Since there are usually multiple websites on a...</td>\n",
              "      <td>Como suele haber varias páginas web sobre cual...</td>\n",
              "    </tr>\n",
              "    <tr>\n",
              "      <th>118963</th>\n",
              "      <td>If you want to sound like a native speaker, yo...</td>\n",
              "      <td>Si quieres sonar como un hablante nativo, debe...</td>\n",
              "    </tr>\n",
              "  </tbody>\n",
              "</table>\n",
              "<p>118964 rows × 2 columns</p>\n",
              "</div>\n",
              "    <div class=\"colab-df-buttons\">\n",
              "\n",
              "  <div class=\"colab-df-container\">\n",
              "    <button class=\"colab-df-convert\" onclick=\"convertToInteractive('df-8785734c-48cc-4d51-9e2c-204ca5001ca2')\"\n",
              "            title=\"Convert this dataframe to an interactive table.\"\n",
              "            style=\"display:none;\">\n",
              "\n",
              "  <svg xmlns=\"http://www.w3.org/2000/svg\" height=\"24px\" viewBox=\"0 -960 960 960\">\n",
              "    <path d=\"M120-120v-720h720v720H120Zm60-500h600v-160H180v160Zm220 220h160v-160H400v160Zm0 220h160v-160H400v160ZM180-400h160v-160H180v160Zm440 0h160v-160H620v160ZM180-180h160v-160H180v160Zm440 0h160v-160H620v160Z\"/>\n",
              "  </svg>\n",
              "    </button>\n",
              "\n",
              "  <style>\n",
              "    .colab-df-container {\n",
              "      display:flex;\n",
              "      gap: 12px;\n",
              "    }\n",
              "\n",
              "    .colab-df-convert {\n",
              "      background-color: #E8F0FE;\n",
              "      border: none;\n",
              "      border-radius: 50%;\n",
              "      cursor: pointer;\n",
              "      display: none;\n",
              "      fill: #1967D2;\n",
              "      height: 32px;\n",
              "      padding: 0 0 0 0;\n",
              "      width: 32px;\n",
              "    }\n",
              "\n",
              "    .colab-df-convert:hover {\n",
              "      background-color: #E2EBFA;\n",
              "      box-shadow: 0px 1px 2px rgba(60, 64, 67, 0.3), 0px 1px 3px 1px rgba(60, 64, 67, 0.15);\n",
              "      fill: #174EA6;\n",
              "    }\n",
              "\n",
              "    .colab-df-buttons div {\n",
              "      margin-bottom: 4px;\n",
              "    }\n",
              "\n",
              "    [theme=dark] .colab-df-convert {\n",
              "      background-color: #3B4455;\n",
              "      fill: #D2E3FC;\n",
              "    }\n",
              "\n",
              "    [theme=dark] .colab-df-convert:hover {\n",
              "      background-color: #434B5C;\n",
              "      box-shadow: 0px 1px 3px 1px rgba(0, 0, 0, 0.15);\n",
              "      filter: drop-shadow(0px 1px 2px rgba(0, 0, 0, 0.3));\n",
              "      fill: #FFFFFF;\n",
              "    }\n",
              "  </style>\n",
              "\n",
              "    <script>\n",
              "      const buttonEl =\n",
              "        document.querySelector('#df-8785734c-48cc-4d51-9e2c-204ca5001ca2 button.colab-df-convert');\n",
              "      buttonEl.style.display =\n",
              "        google.colab.kernel.accessAllowed ? 'block' : 'none';\n",
              "\n",
              "      async function convertToInteractive(key) {\n",
              "        const element = document.querySelector('#df-8785734c-48cc-4d51-9e2c-204ca5001ca2');\n",
              "        const dataTable =\n",
              "          await google.colab.kernel.invokeFunction('convertToInteractive',\n",
              "                                                    [key], {});\n",
              "        if (!dataTable) return;\n",
              "\n",
              "        const docLinkHtml = 'Like what you see? Visit the ' +\n",
              "          '<a target=\"_blank\" href=https://colab.research.google.com/notebooks/data_table.ipynb>data table notebook</a>'\n",
              "          + ' to learn more about interactive tables.';\n",
              "        element.innerHTML = '';\n",
              "        dataTable['output_type'] = 'display_data';\n",
              "        await google.colab.output.renderOutput(dataTable, element);\n",
              "        const docLink = document.createElement('div');\n",
              "        docLink.innerHTML = docLinkHtml;\n",
              "        element.appendChild(docLink);\n",
              "      }\n",
              "    </script>\n",
              "  </div>\n",
              "\n",
              "\n",
              "    <div id=\"df-2072d5be-6060-4fe2-8934-7fa0f2c463e7\">\n",
              "      <button class=\"colab-df-quickchart\" onclick=\"quickchart('df-2072d5be-6060-4fe2-8934-7fa0f2c463e7')\"\n",
              "                title=\"Suggest charts\"\n",
              "                style=\"display:none;\">\n",
              "\n",
              "<svg xmlns=\"http://www.w3.org/2000/svg\" height=\"24px\"viewBox=\"0 0 24 24\"\n",
              "     width=\"24px\">\n",
              "    <g>\n",
              "        <path d=\"M19 3H5c-1.1 0-2 .9-2 2v14c0 1.1.9 2 2 2h14c1.1 0 2-.9 2-2V5c0-1.1-.9-2-2-2zM9 17H7v-7h2v7zm4 0h-2V7h2v10zm4 0h-2v-4h2v4z\"/>\n",
              "    </g>\n",
              "</svg>\n",
              "      </button>\n",
              "\n",
              "<style>\n",
              "  .colab-df-quickchart {\n",
              "      --bg-color: #E8F0FE;\n",
              "      --fill-color: #1967D2;\n",
              "      --hover-bg-color: #E2EBFA;\n",
              "      --hover-fill-color: #174EA6;\n",
              "      --disabled-fill-color: #AAA;\n",
              "      --disabled-bg-color: #DDD;\n",
              "  }\n",
              "\n",
              "  [theme=dark] .colab-df-quickchart {\n",
              "      --bg-color: #3B4455;\n",
              "      --fill-color: #D2E3FC;\n",
              "      --hover-bg-color: #434B5C;\n",
              "      --hover-fill-color: #FFFFFF;\n",
              "      --disabled-bg-color: #3B4455;\n",
              "      --disabled-fill-color: #666;\n",
              "  }\n",
              "\n",
              "  .colab-df-quickchart {\n",
              "    background-color: var(--bg-color);\n",
              "    border: none;\n",
              "    border-radius: 50%;\n",
              "    cursor: pointer;\n",
              "    display: none;\n",
              "    fill: var(--fill-color);\n",
              "    height: 32px;\n",
              "    padding: 0;\n",
              "    width: 32px;\n",
              "  }\n",
              "\n",
              "  .colab-df-quickchart:hover {\n",
              "    background-color: var(--hover-bg-color);\n",
              "    box-shadow: 0 1px 2px rgba(60, 64, 67, 0.3), 0 1px 3px 1px rgba(60, 64, 67, 0.15);\n",
              "    fill: var(--button-hover-fill-color);\n",
              "  }\n",
              "\n",
              "  .colab-df-quickchart-complete:disabled,\n",
              "  .colab-df-quickchart-complete:disabled:hover {\n",
              "    background-color: var(--disabled-bg-color);\n",
              "    fill: var(--disabled-fill-color);\n",
              "    box-shadow: none;\n",
              "  }\n",
              "\n",
              "  .colab-df-spinner {\n",
              "    border: 2px solid var(--fill-color);\n",
              "    border-color: transparent;\n",
              "    border-bottom-color: var(--fill-color);\n",
              "    animation:\n",
              "      spin 1s steps(1) infinite;\n",
              "  }\n",
              "\n",
              "  @keyframes spin {\n",
              "    0% {\n",
              "      border-color: transparent;\n",
              "      border-bottom-color: var(--fill-color);\n",
              "      border-left-color: var(--fill-color);\n",
              "    }\n",
              "    20% {\n",
              "      border-color: transparent;\n",
              "      border-left-color: var(--fill-color);\n",
              "      border-top-color: var(--fill-color);\n",
              "    }\n",
              "    30% {\n",
              "      border-color: transparent;\n",
              "      border-left-color: var(--fill-color);\n",
              "      border-top-color: var(--fill-color);\n",
              "      border-right-color: var(--fill-color);\n",
              "    }\n",
              "    40% {\n",
              "      border-color: transparent;\n",
              "      border-right-color: var(--fill-color);\n",
              "      border-top-color: var(--fill-color);\n",
              "    }\n",
              "    60% {\n",
              "      border-color: transparent;\n",
              "      border-right-color: var(--fill-color);\n",
              "    }\n",
              "    80% {\n",
              "      border-color: transparent;\n",
              "      border-right-color: var(--fill-color);\n",
              "      border-bottom-color: var(--fill-color);\n",
              "    }\n",
              "    90% {\n",
              "      border-color: transparent;\n",
              "      border-bottom-color: var(--fill-color);\n",
              "    }\n",
              "  }\n",
              "</style>\n",
              "\n",
              "      <script>\n",
              "        async function quickchart(key) {\n",
              "          const quickchartButtonEl =\n",
              "            document.querySelector('#' + key + ' button');\n",
              "          quickchartButtonEl.disabled = true;  // To prevent multiple clicks.\n",
              "          quickchartButtonEl.classList.add('colab-df-spinner');\n",
              "          try {\n",
              "            const charts = await google.colab.kernel.invokeFunction(\n",
              "                'suggestCharts', [key], {});\n",
              "          } catch (error) {\n",
              "            console.error('Error during call to suggestCharts:', error);\n",
              "          }\n",
              "          quickchartButtonEl.classList.remove('colab-df-spinner');\n",
              "          quickchartButtonEl.classList.add('colab-df-quickchart-complete');\n",
              "        }\n",
              "        (() => {\n",
              "          let quickchartButtonEl =\n",
              "            document.querySelector('#df-2072d5be-6060-4fe2-8934-7fa0f2c463e7 button');\n",
              "          quickchartButtonEl.style.display =\n",
              "            google.colab.kernel.accessAllowed ? 'block' : 'none';\n",
              "        })();\n",
              "      </script>\n",
              "    </div>\n",
              "\n",
              "  <div id=\"id_32366656-aa9e-4356-89a6-3c011db68e69\">\n",
              "    <style>\n",
              "      .colab-df-generate {\n",
              "        background-color: #E8F0FE;\n",
              "        border: none;\n",
              "        border-radius: 50%;\n",
              "        cursor: pointer;\n",
              "        display: none;\n",
              "        fill: #1967D2;\n",
              "        height: 32px;\n",
              "        padding: 0 0 0 0;\n",
              "        width: 32px;\n",
              "      }\n",
              "\n",
              "      .colab-df-generate:hover {\n",
              "        background-color: #E2EBFA;\n",
              "        box-shadow: 0px 1px 2px rgba(60, 64, 67, 0.3), 0px 1px 3px 1px rgba(60, 64, 67, 0.15);\n",
              "        fill: #174EA6;\n",
              "      }\n",
              "\n",
              "      [theme=dark] .colab-df-generate {\n",
              "        background-color: #3B4455;\n",
              "        fill: #D2E3FC;\n",
              "      }\n",
              "\n",
              "      [theme=dark] .colab-df-generate:hover {\n",
              "        background-color: #434B5C;\n",
              "        box-shadow: 0px 1px 3px 1px rgba(0, 0, 0, 0.15);\n",
              "        filter: drop-shadow(0px 1px 2px rgba(0, 0, 0, 0.3));\n",
              "        fill: #FFFFFF;\n",
              "      }\n",
              "    </style>\n",
              "    <button class=\"colab-df-generate\" onclick=\"generateWithVariable('data')\"\n",
              "            title=\"Generate code using this dataframe.\"\n",
              "            style=\"display:none;\">\n",
              "\n",
              "  <svg xmlns=\"http://www.w3.org/2000/svg\" height=\"24px\"viewBox=\"0 0 24 24\"\n",
              "       width=\"24px\">\n",
              "    <path d=\"M7,19H8.4L18.45,9,17,7.55,7,17.6ZM5,21V16.75L18.45,3.32a2,2,0,0,1,2.83,0l1.4,1.43a1.91,1.91,0,0,1,.58,1.4,1.91,1.91,0,0,1-.58,1.4L9.25,21ZM18.45,9,17,7.55Zm-12,3A5.31,5.31,0,0,0,4.9,8.1,5.31,5.31,0,0,0,1,6.5,5.31,5.31,0,0,0,4.9,4.9,5.31,5.31,0,0,0,6.5,1,5.31,5.31,0,0,0,8.1,4.9,5.31,5.31,0,0,0,12,6.5,5.46,5.46,0,0,0,6.5,12Z\"/>\n",
              "  </svg>\n",
              "    </button>\n",
              "    <script>\n",
              "      (() => {\n",
              "      const buttonEl =\n",
              "        document.querySelector('#id_32366656-aa9e-4356-89a6-3c011db68e69 button.colab-df-generate');\n",
              "      buttonEl.style.display =\n",
              "        google.colab.kernel.accessAllowed ? 'block' : 'none';\n",
              "\n",
              "      buttonEl.onclick = () => {\n",
              "        google.colab.notebook.generateWithVariable('data');\n",
              "      }\n",
              "      })();\n",
              "    </script>\n",
              "  </div>\n",
              "\n",
              "    </div>\n",
              "  </div>\n"
            ],
            "application/vnd.google.colaboratory.intrinsic+json": {
              "type": "dataframe",
              "variable_name": "data"
            }
          },
          "metadata": {},
          "execution_count": 4
        }
      ]
    },
    {
      "cell_type": "code",
      "source": [
        "data.eng.tail().tolist()"
      ],
      "metadata": {
        "colab": {
          "base_uri": "https://localhost:8080/"
        },
        "id": "FGo87X-JaLBO",
        "outputId": "973c1b37-f1b7-4790-e31b-e917d6a9c490"
      },
      "execution_count": 5,
      "outputs": [
        {
          "output_type": "execute_result",
          "data": {
            "text/plain": [
              "['There are four main causes of alcohol-related death. Injury from car accidents or violence is one. Diseases like cirrhosis of the liver, cancer, heart and blood system diseases are the others.',\n",
              " \"There are mothers and fathers who will lie awake after the children fall asleep and wonder how they'll make the mortgage, or pay their doctor's bills, or save enough for their child's college education.\",\n",
              " 'A carbon footprint is the amount of carbon dioxide pollution that we produce as a result of our activities. Some people try to reduce their carbon footprint because they are concerned about climate change.',\n",
              " 'Since there are usually multiple websites on any given topic, I usually just click the back button when I arrive on any webpage that has pop-up advertising. I just go to the next page found by Google and hope for something less irritating.',\n",
              " 'If you want to sound like a native speaker, you must be willing to practice saying the same sentence over and over in the same way that banjo players practice the same phrase over and over until they can play it correctly and at the desired tempo.']"
            ]
          },
          "metadata": {},
          "execution_count": 5
        }
      ]
    },
    {
      "cell_type": "code",
      "source": [
        "# a ver las longitudes...\n",
        "data.eng.str.len().plot()"
      ],
      "metadata": {
        "colab": {
          "base_uri": "https://localhost:8080/",
          "height": 448
        },
        "id": "GsESqTpqYrmt",
        "outputId": "043cedf3-6544-45d8-8fd8-fb71223de52a"
      },
      "execution_count": 6,
      "outputs": [
        {
          "output_type": "execute_result",
          "data": {
            "text/plain": [
              "<Axes: >"
            ]
          },
          "metadata": {},
          "execution_count": 6
        },
        {
          "output_type": "display_data",
          "data": {
            "text/plain": [
              "<Figure size 640x480 with 1 Axes>"
            ],
            "image/png": "[encoded data removed]"
          },
          "metadata": {}
        }
      ]
    },
    {
      "cell_type": "code",
      "source": [
        "# a ver esa distribución de longitudes, parecen casi outliers los últimos\n",
        "sns.ecdfplot(data.eng.str.len())"
      ],
      "metadata": {
        "colab": {
          "base_uri": "https://localhost:8080/",
          "height": 473
        },
        "id": "o4Z_RHFkZx9s",
        "outputId": "1e3eae9f-7fc6-4e09-84a5-61fc05000bc0"
      },
      "execution_count": 7,
      "outputs": [
        {
          "output_type": "execute_result",
          "data": {
            "text/plain": [
              "<Axes: xlabel='eng', ylabel='Proportion'>"
            ]
          },
          "metadata": {},
          "execution_count": 7
        },
        {
          "output_type": "display_data",
          "data": {
            "text/plain": [
              "<Figure size 640x480 with 1 Axes>"
            ],
            "image/png": "[encoded data removed]"
          },
          "metadata": {}
        }
      ]
    },
    {
      "cell_type": "markdown",
      "source": [
        "* Están aprox. ordenadas por longitud, por lo que hay que hacer shuffling para romper esto.\n",
        "* La gran mayoría de las observaciones tienen longitud menor a 100 caracteres, no parece tener mucho sentido soportar secuencias tan largas si son tan raras."
      ],
      "metadata": {
        "id": "8_Eoc3qoZ5P9"
      }
    },
    {
      "cell_type": "code",
      "source": [
        "# dropeamos las rows con longitud excesiva\n",
        "MAX_CHAR_LEN_SEQS = 100\n",
        "\n",
        "data_truncated_len = data[data.map(len).max(axis=1) <= MAX_CHAR_LEN_SEQS].copy().reset_index(drop=True)\n",
        "\n",
        "data_truncated_len"
      ],
      "metadata": {
        "colab": {
          "base_uri": "https://localhost:8080/",
          "height": 424
        },
        "id": "ryDLBOIVZqws",
        "outputId": "8bb9d551-f1a9-4a50-ce63-2ab449e8cf5c"
      },
      "execution_count": 8,
      "outputs": [
        {
          "output_type": "execute_result",
          "data": {
            "text/plain": [
              "                                                      eng  \\\n",
              "0                                                     Go.   \n",
              "1                                                     Go.   \n",
              "2                                                     Go.   \n",
              "3                                                     Go.   \n",
              "4                                                     Hi.   \n",
              "...                                                   ...   \n",
              "118640  I don't quite believe it when I hear someone c...   \n",
              "118641  If you spend too much time in the sun without ...   \n",
              "118642  One of the greatest secrets of happiness is mo...   \n",
              "118643  That knife wasn't sharp and I couldn't cut the...   \n",
              "118644  Tom was unsure what Mary would be like and he ...   \n",
              "\n",
              "                                                      spa  \n",
              "0                                                     Ve.  \n",
              "1                                                   Vete.  \n",
              "2                                                   Vaya.  \n",
              "3                                                 Váyase.  \n",
              "4                                                   Hola.  \n",
              "...                                                   ...  \n",
              "118640  No termino de creer cuando alguien afirma que ...  \n",
              "118641  Si pasas demasiado tiempo al sol sin ponerte p...  \n",
              "118642  Uno de los grandes secretos de la felicidad es...  \n",
              "118643  Ese cuchillo no estaba afilado y no podía cort...  \n",
              "118644  Tom no estaba seguro de cómo sería María y se ...  \n",
              "\n",
              "[118645 rows x 2 columns]"
            ],
            "text/html": [
              "\n",
              "  <div id=\"df-d8b2f8d2-f755-4d1f-abe4-41c826fbdde9\" class=\"colab-df-container\">\n",
              "    <div>\n",
              "<style scoped>\n",
              "    .dataframe tbody tr th:only-of-type {\n",
              "        vertical-align: middle;\n",
              "    }\n",
              "\n",
              "    .dataframe tbody tr th {\n",
              "        vertical-align: top;\n",
              "    }\n",
              "\n",
              "    .dataframe thead th {\n",
              "        text-align: right;\n",
              "    }\n",
              "</style>\n",
              "<table border=\"1\" class=\"dataframe\">\n",
              "  <thead>\n",
              "    <tr style=\"text-align: right;\">\n",
              "      <th></th>\n",
              "      <th>eng</th>\n",
              "      <th>spa</th>\n",
              "    </tr>\n",
              "  </thead>\n",
              "  <tbody>\n",
              "    <tr>\n",
              "      <th>0</th>\n",
              "      <td>Go.</td>\n",
              "      <td>Ve.</td>\n",
              "    </tr>\n",
              "    <tr>\n",
              "      <th>1</th>\n",
              "      <td>Go.</td>\n",
              "      <td>Vete.</td>\n",
              "    </tr>\n",
              "    <tr>\n",
              "      <th>2</th>\n",
              "      <td>Go.</td>\n",
              "      <td>Vaya.</td>\n",
              "    </tr>\n",
              "    <tr>\n",
              "      <th>3</th>\n",
              "      <td>Go.</td>\n",
              "      <td>Váyase.</td>\n",
              "    </tr>\n",
              "    <tr>\n",
              "      <th>4</th>\n",
              "      <td>Hi.</td>\n",
              "      <td>Hola.</td>\n",
              "    </tr>\n",
              "    <tr>\n",
              "      <th>...</th>\n",
              "      <td>...</td>\n",
              "      <td>...</td>\n",
              "    </tr>\n",
              "    <tr>\n",
              "      <th>118640</th>\n",
              "      <td>I don't quite believe it when I hear someone c...</td>\n",
              "      <td>No termino de creer cuando alguien afirma que ...</td>\n",
              "    </tr>\n",
              "    <tr>\n",
              "      <th>118641</th>\n",
              "      <td>If you spend too much time in the sun without ...</td>\n",
              "      <td>Si pasas demasiado tiempo al sol sin ponerte p...</td>\n",
              "    </tr>\n",
              "    <tr>\n",
              "      <th>118642</th>\n",
              "      <td>One of the greatest secrets of happiness is mo...</td>\n",
              "      <td>Uno de los grandes secretos de la felicidad es...</td>\n",
              "    </tr>\n",
              "    <tr>\n",
              "      <th>118643</th>\n",
              "      <td>That knife wasn't sharp and I couldn't cut the...</td>\n",
              "      <td>Ese cuchillo no estaba afilado y no podía cort...</td>\n",
              "    </tr>\n",
              "    <tr>\n",
              "      <th>118644</th>\n",
              "      <td>Tom was unsure what Mary would be like and he ...</td>\n",
              "      <td>Tom no estaba seguro de cómo sería María y se ...</td>\n",
              "    </tr>\n",
              "  </tbody>\n",
              "</table>\n",
              "<p>118645 rows × 2 columns</p>\n",
              "</div>\n",
              "    <div class=\"colab-df-buttons\">\n",
              "\n",
              "  <div class=\"colab-df-container\">\n",
              "    <button class=\"colab-df-convert\" onclick=\"convertToInteractive('df-d8b2f8d2-f755-4d1f-abe4-41c826fbdde9')\"\n",
              "            title=\"Convert this dataframe to an interactive table.\"\n",
              "            style=\"display:none;\">\n",
              "\n",
              "  <svg xmlns=\"http://www.w3.org/2000/svg\" height=\"24px\" viewBox=\"0 -960 960 960\">\n",
              "    <path d=\"M120-120v-720h720v720H120Zm60-500h600v-160H180v160Zm220 220h160v-160H400v160Zm0 220h160v-160H400v160ZM180-400h160v-160H180v160Zm440 0h160v-160H620v160ZM180-180h160v-160H180v160Zm440 0h160v-160H620v160Z\"/>\n",
              "  </svg>\n",
              "    </button>\n",
              "\n",
              "  <style>\n",
              "    .colab-df-container {\n",
              "      display:flex;\n",
              "      gap: 12px;\n",
              "    }\n",
              "\n",
              "    .colab-df-convert {\n",
              "      background-color: #E8F0FE;\n",
              "      border: none;\n",
              "      border-radius: 50%;\n",
              "      cursor: pointer;\n",
              "      display: none;\n",
              "      fill: #1967D2;\n",
              "      height: 32px;\n",
              "      padding: 0 0 0 0;\n",
              "      width: 32px;\n",
              "    }\n",
              "\n",
              "    .colab-df-convert:hover {\n",
              "      background-color: #E2EBFA;\n",
              "      box-shadow: 0px 1px 2px rgba(60, 64, 67, 0.3), 0px 1px 3px 1px rgba(60, 64, 67, 0.15);\n",
              "      fill: #174EA6;\n",
              "    }\n",
              "\n",
              "    .colab-df-buttons div {\n",
              "      margin-bottom: 4px;\n",
              "    }\n",
              "\n",
              "    [theme=dark] .colab-df-convert {\n",
              "      background-color: #3B4455;\n",
              "      fill: #D2E3FC;\n",
              "    }\n",
              "\n",
              "    [theme=dark] .colab-df-convert:hover {\n",
              "      background-color: #434B5C;\n",
              "      box-shadow: 0px 1px 3px 1px rgba(0, 0, 0, 0.15);\n",
              "      filter: drop-shadow(0px 1px 2px rgba(0, 0, 0, 0.3));\n",
              "      fill: #FFFFFF;\n",
              "    }\n",
              "  </style>\n",
              "\n",
              "    <script>\n",
              "      const buttonEl =\n",
              "        document.querySelector('#df-d8b2f8d2-f755-4d1f-abe4-41c826fbdde9 button.colab-df-convert');\n",
              "      buttonEl.style.display =\n",
              "        google.colab.kernel.accessAllowed ? 'block' : 'none';\n",
              "\n",
              "      async function convertToInteractive(key) {\n",
              "        const element = document.querySelector('#df-d8b2f8d2-f755-4d1f-abe4-41c826fbdde9');\n",
              "        const dataTable =\n",
              "          await google.colab.kernel.invokeFunction('convertToInteractive',\n",
              "                                                    [key], {});\n",
              "        if (!dataTable) return;\n",
              "\n",
              "        const docLinkHtml = 'Like what you see? Visit the ' +\n",
              "          '<a target=\"_blank\" href=https://colab.research.google.com/notebooks/data_table.ipynb>data table notebook</a>'\n",
              "          + ' to learn more about interactive tables.';\n",
              "        element.innerHTML = '';\n",
              "        dataTable['output_type'] = 'display_data';\n",
              "        await google.colab.output.renderOutput(dataTable, element);\n",
              "        const docLink = document.createElement('div');\n",
              "        docLink.innerHTML = docLinkHtml;\n",
              "        element.appendChild(docLink);\n",
              "      }\n",
              "    </script>\n",
              "  </div>\n",
              "\n",
              "\n",
              "    <div id=\"df-fccf7399-8c60-452a-b6fc-5596920dde1f\">\n",
              "      <button class=\"colab-df-quickchart\" onclick=\"quickchart('df-fccf7399-8c60-452a-b6fc-5596920dde1f')\"\n",
              "                title=\"Suggest charts\"\n",
              "                style=\"display:none;\">\n",
              "\n",
              "<svg xmlns=\"http://www.w3.org/2000/svg\" height=\"24px\"viewBox=\"0 0 24 24\"\n",
              "     width=\"24px\">\n",
              "    <g>\n",
              "        <path d=\"M19 3H5c-1.1 0-2 .9-2 2v14c0 1.1.9 2 2 2h14c1.1 0 2-.9 2-2V5c0-1.1-.9-2-2-2zM9 17H7v-7h2v7zm4 0h-2V7h2v10zm4 0h-2v-4h2v4z\"/>\n",
              "    </g>\n",
              "</svg>\n",
              "      </button>\n",
              "\n",
              "<style>\n",
              "  .colab-df-quickchart {\n",
              "      --bg-color: #E8F0FE;\n",
              "      --fill-color: #1967D2;\n",
              "      --hover-bg-color: #E2EBFA;\n",
              "      --hover-fill-color: #174EA6;\n",
              "      --disabled-fill-color: #AAA;\n",
              "      --disabled-bg-color: #DDD;\n",
              "  }\n",
              "\n",
              "  [theme=dark] .colab-df-quickchart {\n",
              "      --bg-color: #3B4455;\n",
              "      --fill-color: #D2E3FC;\n",
              "      --hover-bg-color: #434B5C;\n",
              "      --hover-fill-color: #FFFFFF;\n",
              "      --disabled-bg-color: #3B4455;\n",
              "      --disabled-fill-color: #666;\n",
              "  }\n",
              "\n",
              "  .colab-df-quickchart {\n",
              "    background-color: var(--bg-color);\n",
              "    border: none;\n",
              "    border-radius: 50%;\n",
              "    cursor: pointer;\n",
              "    display: none;\n",
              "    fill: var(--fill-color);\n",
              "    height: 32px;\n",
              "    padding: 0;\n",
              "    width: 32px;\n",
              "  }\n",
              "\n",
              "  .colab-df-quickchart:hover {\n",
              "    background-color: var(--hover-bg-color);\n",
              "    box-shadow: 0 1px 2px rgba(60, 64, 67, 0.3), 0 1px 3px 1px rgba(60, 64, 67, 0.15);\n",
              "    fill: var(--button-hover-fill-color);\n",
              "  }\n",
              "\n",
              "  .colab-df-quickchart-complete:disabled,\n",
              "  .colab-df-quickchart-complete:disabled:hover {\n",
              "    background-color: var(--disabled-bg-color);\n",
              "    fill: var(--disabled-fill-color);\n",
              "    box-shadow: none;\n",
              "  }\n",
              "\n",
              "  .colab-df-spinner {\n",
              "    border: 2px solid var(--fill-color);\n",
              "    border-color: transparent;\n",
              "    border-bottom-color: var(--fill-color);\n",
              "    animation:\n",
              "      spin 1s steps(1) infinite;\n",
              "  }\n",
              "\n",
              "  @keyframes spin {\n",
              "    0% {\n",
              "      border-color: transparent;\n",
              "      border-bottom-color: var(--fill-color);\n",
              "      border-left-color: var(--fill-color);\n",
              "    }\n",
              "    20% {\n",
              "      border-color: transparent;\n",
              "      border-left-color: var(--fill-color);\n",
              "      border-top-color: var(--fill-color);\n",
              "    }\n",
              "    30% {\n",
              "      border-color: transparent;\n",
              "      border-left-color: var(--fill-color);\n",
              "      border-top-color: var(--fill-color);\n",
              "      border-right-color: var(--fill-color);\n",
              "    }\n",
              "    40% {\n",
              "      border-color: transparent;\n",
              "      border-right-color: var(--fill-color);\n",
              "      border-top-color: var(--fill-color);\n",
              "    }\n",
              "    60% {\n",
              "      border-color: transparent;\n",
              "      border-right-color: var(--fill-color);\n",
              "    }\n",
              "    80% {\n",
              "      border-color: transparent;\n",
              "      border-right-color: var(--fill-color);\n",
              "      border-bottom-color: var(--fill-color);\n",
              "    }\n",
              "    90% {\n",
              "      border-color: transparent;\n",
              "      border-bottom-color: var(--fill-color);\n",
              "    }\n",
              "  }\n",
              "</style>\n",
              "\n",
              "      <script>\n",
              "        async function quickchart(key) {\n",
              "          const quickchartButtonEl =\n",
              "            document.querySelector('#' + key + ' button');\n",
              "          quickchartButtonEl.disabled = true;  // To prevent multiple clicks.\n",
              "          quickchartButtonEl.classList.add('colab-df-spinner');\n",
              "          try {\n",
              "            const charts = await google.colab.kernel.invokeFunction(\n",
              "                'suggestCharts', [key], {});\n",
              "          } catch (error) {\n",
              "            console.error('Error during call to suggestCharts:', error);\n",
              "          }\n",
              "          quickchartButtonEl.classList.remove('colab-df-spinner');\n",
              "          quickchartButtonEl.classList.add('colab-df-quickchart-complete');\n",
              "        }\n",
              "        (() => {\n",
              "          let quickchartButtonEl =\n",
              "            document.querySelector('#df-fccf7399-8c60-452a-b6fc-5596920dde1f button');\n",
              "          quickchartButtonEl.style.display =\n",
              "            google.colab.kernel.accessAllowed ? 'block' : 'none';\n",
              "        })();\n",
              "      </script>\n",
              "    </div>\n",
              "\n",
              "  <div id=\"id_ee304bc4-e8f8-4eb3-aa30-0179df50aa83\">\n",
              "    <style>\n",
              "      .colab-df-generate {\n",
              "        background-color: #E8F0FE;\n",
              "        border: none;\n",
              "        border-radius: 50%;\n",
              "        cursor: pointer;\n",
              "        display: none;\n",
              "        fill: #1967D2;\n",
              "        height: 32px;\n",
              "        padding: 0 0 0 0;\n",
              "        width: 32px;\n",
              "      }\n",
              "\n",
              "      .colab-df-generate:hover {\n",
              "        background-color: #E2EBFA;\n",
              "        box-shadow: 0px 1px 2px rgba(60, 64, 67, 0.3), 0px 1px 3px 1px rgba(60, 64, 67, 0.15);\n",
              "        fill: #174EA6;\n",
              "      }\n",
              "\n",
              "      [theme=dark] .colab-df-generate {\n",
              "        background-color: #3B4455;\n",
              "        fill: #D2E3FC;\n",
              "      }\n",
              "\n",
              "      [theme=dark] .colab-df-generate:hover {\n",
              "        background-color: #434B5C;\n",
              "        box-shadow: 0px 1px 3px 1px rgba(0, 0, 0, 0.15);\n",
              "        filter: drop-shadow(0px 1px 2px rgba(0, 0, 0, 0.3));\n",
              "        fill: #FFFFFF;\n",
              "      }\n",
              "    </style>\n",
              "    <button class=\"colab-df-generate\" onclick=\"generateWithVariable('data_truncated_len')\"\n",
              "            title=\"Generate code using this dataframe.\"\n",
              "            style=\"display:none;\">\n",
              "\n",
              "  <svg xmlns=\"http://www.w3.org/2000/svg\" height=\"24px\"viewBox=\"0 0 24 24\"\n",
              "       width=\"24px\">\n",
              "    <path d=\"M7,19H8.4L18.45,9,17,7.55,7,17.6ZM5,21V16.75L18.45,3.32a2,2,0,0,1,2.83,0l1.4,1.43a1.91,1.91,0,0,1,.58,1.4,1.91,1.91,0,0,1-.58,1.4L9.25,21ZM18.45,9,17,7.55Zm-12,3A5.31,5.31,0,0,0,4.9,8.1,5.31,5.31,0,0,0,1,6.5,5.31,5.31,0,0,0,4.9,4.9,5.31,5.31,0,0,0,6.5,1,5.31,5.31,0,0,0,8.1,4.9,5.31,5.31,0,0,0,12,6.5,5.46,5.46,0,0,0,6.5,12Z\"/>\n",
              "  </svg>\n",
              "    </button>\n",
              "    <script>\n",
              "      (() => {\n",
              "      const buttonEl =\n",
              "        document.querySelector('#id_ee304bc4-e8f8-4eb3-aa30-0179df50aa83 button.colab-df-generate');\n",
              "      buttonEl.style.display =\n",
              "        google.colab.kernel.accessAllowed ? 'block' : 'none';\n",
              "\n",
              "      buttonEl.onclick = () => {\n",
              "        google.colab.notebook.generateWithVariable('data_truncated_len');\n",
              "      }\n",
              "      })();\n",
              "    </script>\n",
              "  </div>\n",
              "\n",
              "    </div>\n",
              "  </div>\n"
            ],
            "application/vnd.google.colaboratory.intrinsic+json": {
              "type": "dataframe",
              "variable_name": "data_truncated_len"
            }
          },
          "metadata": {},
          "execution_count": 8
        }
      ]
    },
    {
      "cell_type": "markdown",
      "source": [
        "# Tokenización"
      ],
      "metadata": {
        "id": "6iKaRhX4cx7s"
      }
    },
    {
      "cell_type": "code",
      "source": [
        "FILTERS_SPA = '!\"#$%&()*+,-./:;=¿?@[\\\\]^_`{|}~\\t\\n'\n",
        "MAX_VOCAB_SIZE = 16000\n",
        "BOS_TOKEN = '<bos>'\n",
        "EOS_TOKEN = '<eos>'"
      ],
      "metadata": {
        "id": "ScD_aasOcNeS"
      },
      "execution_count": 9,
      "outputs": []
    },
    {
      "cell_type": "code",
      "source": [
        "tk_in = Tokenizer(num_words=MAX_VOCAB_SIZE)\n",
        "tk_in.fit_on_texts(data_truncated_len.eng.tolist())\n",
        "\n",
        "input_indices_seqs = tk_in.texts_to_sequences(data_truncated_len.eng.tolist())\n",
        "\n",
        "word2idx_in = tk_in.word_index\n",
        "idx2word_in = {v:k for k,v in word2idx_in.items()}\n",
        "\n",
        "max_input_len = max(map(len, input_indices_seqs))\n",
        "\n",
        "print(\"Palabras en el vocabulario:\", len(word2idx_in))\n",
        "print(\"Sentencia de entrada más larga:\", max_input_len)"
      ],
      "metadata": {
        "colab": {
          "base_uri": "https://localhost:8080/"
        },
        "id": "-9paskJ_iw1o",
        "outputId": "36107e79-6940-4240-e902-ae2a7cbbf930"
      },
      "execution_count": 10,
      "outputs": [
        {
          "output_type": "stream",
          "name": "stdout",
          "text": [
            "Palabras en el vocabulario: 13381\n",
            "Sentencia de entrada más larga: 22\n"
          ]
        }
      ]
    },
    {
      "cell_type": "code",
      "source": [
        "tk_out = Tokenizer(num_words=MAX_VOCAB_SIZE, filters=FILTERS_SPA)\n",
        "tk_out.fit_on_texts([BOS_TOKEN, EOS_TOKEN]+data_truncated_len.spa.tolist())\n",
        "\n",
        "output_indices_seqs = tk_out.texts_to_sequences(data_truncated_len.spa.tolist())\n",
        "\n",
        "word2idx_out = tk_out.word_index\n",
        "idx2word_out = {v:k for k,v in word2idx_out.items()}\n",
        "\n",
        "#num_words_out= min(len(word2idx_out) + 1, MAX_VOCAB_SIZE)\n",
        "\n",
        "print(\"Palabras en el vocabulario:\", len(word2idx_out)+1)\n",
        "print(\"Sentencia de entrada más larga:\", max(map(len, output_indices_seqs)))"
      ],
      "metadata": {
        "colab": {
          "base_uri": "https://localhost:8080/"
        },
        "id": "3RpWs-NgiwxO",
        "outputId": "b590bd9d-9f40-486d-a4cd-68a89656fb28"
      },
      "execution_count": 11,
      "outputs": [
        {
          "output_type": "stream",
          "name": "stdout",
          "text": [
            "Palabras en el vocabulario: 26104\n",
            "Sentencia de entrada más larga: 21\n"
          ]
        }
      ]
    },
    {
      "cell_type": "code",
      "source": [
        "# agregamos a todas las secuencias de salida un <BOS> al principio y un <EOS> al final\n",
        "BOS_IDX = word2idx_out[BOS_TOKEN]\n",
        "EOS_IDX = word2idx_out[EOS_TOKEN]\n",
        "\n",
        "output_indices_seq_bos_eos = [[BOS_IDX]+seq+[EOS_IDX] for seq in output_indices_seqs]"
      ],
      "metadata": {
        "id": "Mb1cokq4S-SE"
      },
      "execution_count": 12,
      "outputs": []
    },
    {
      "cell_type": "code",
      "source": [
        "# hacemos un split train-valid de 80-20 como en clase, aplicamos shuffling\n",
        "TEST_SZ = 0.2\n",
        "\n",
        "train_tokens_in, test_tokens_in, train_tokens_out, test_tokens_out = train_test_split(\n",
        "    input_indices_seqs,\n",
        "    output_indices_seq_bos_eos,\n",
        "    test_size=TEST_SZ,\n",
        "    shuffle=True,\n",
        "    random_state=13,\n",
        ")"
      ],
      "metadata": {
        "id": "ZQxvgBEzSrpO"
      },
      "execution_count": 13,
      "outputs": []
    },
    {
      "cell_type": "markdown",
      "source": [
        "# Embeddings\n",
        "\n",
        "Se utilizan los de fastText"
      ],
      "metadata": {
        "id": "rJZVfKr9qnIJ"
      }
    },
    {
      "cell_type": "code",
      "source": [
        "# descarga de embeddings\n",
        "if not os.path.exists('cc.en.300.vec'):\n",
        "    !wget https://dl.fbaipublicfiles.com/fasttext/vectors-crawl/cc.en.300.vec.gz\n",
        "    !gunzip cc.en.300.vec.gz\n",
        "\n",
        "if not os.path.exists('cc.es.300.vec'):\n",
        "    !wget https://dl.fbaipublicfiles.com/fasttext/vectors-crawl/cc.es.300.vec.gz\n",
        "    !gunzip cc.es.300.vec.gz"
      ],
      "metadata": {
        "id": "U3QYObmNiwsn",
        "colab": {
          "base_uri": "https://localhost:8080/"
        },
        "outputId": "c5f4d71f-4feb-4831-9b31-c328147988d4"
      },
      "execution_count": 14,
      "outputs": [
        {
          "output_type": "stream",
          "name": "stdout",
          "text": [
            "--2025-10-07 15:33:23--  https://dl.fbaipublicfiles.com/fasttext/vectors-crawl/cc.en.300.vec.gz\n",
            "Resolving dl.fbaipublicfiles.com (dl.fbaipublicfiles.com)... 13.35.37.123, 13.35.37.111, 13.35.37.84, ...\n",
            "Connecting to dl.fbaipublicfiles.com (dl.fbaipublicfiles.com)|13.35.37.123|:443... connected.\n",
            "HTTP request sent, awaiting response... 200 OK\n",
            "Length: 1325960915 (1.2G) [binary/octet-stream]\n",
            "Saving to: ‘cc.en.300.vec.gz’\n",
            "\n",
            "cc.en.300.vec.gz    100%[===================>]   1.23G   246MB/s    in 5.1s    \n",
            "\n",
            "2025-10-07 15:33:28 (247 MB/s) - ‘cc.en.300.vec.gz’ saved [1325960915/1325960915]\n",
            "\n",
            "--2025-10-07 15:33:59--  https://dl.fbaipublicfiles.com/fasttext/vectors-crawl/cc.es.300.vec.gz\n",
            "Resolving dl.fbaipublicfiles.com (dl.fbaipublicfiles.com)... 108.157.254.121, 108.157.254.124, 108.157.254.102, ...\n",
            "Connecting to dl.fbaipublicfiles.com (dl.fbaipublicfiles.com)|108.157.254.121|:443... connected.\n",
            "HTTP request sent, awaiting response... 200 OK\n",
            "Length: 1285580896 (1.2G) [binary/octet-stream]\n",
            "Saving to: ‘cc.es.300.vec.gz’\n",
            "\n",
            "cc.es.300.vec.gz    100%[===================>]   1.20G   253MB/s    in 5.1s    \n",
            "\n",
            "2025-10-07 15:34:04 (239 MB/s) - ‘cc.es.300.vec.gz’ saved [1285580896/1285580896]\n",
            "\n"
          ]
        }
      ]
    },
    {
      "cell_type": "code",
      "source": [
        "# nota: GPT-produced\n",
        "\n",
        "def load_restricted_fasttext_vectors(path, vocab):\n",
        "    \"\"\"\n",
        "    Load FastText vectors from a .vec file, keeping only words in vocab.\n",
        "    Returns: dict[word] = vector, and vector_dim\n",
        "    \"\"\"\n",
        "    vocab = set(vocab)\n",
        "    vectors = {}\n",
        "    dim = None\n",
        "\n",
        "    with open(path, 'r', encoding='utf-8', errors='ignore') as f:\n",
        "        header = f.readline()\n",
        "        for line in f:\n",
        "            parts = line.rstrip().split(' ')\n",
        "            word = parts[0]\n",
        "            if word in vocab:\n",
        "                vec = np.asarray(parts[1:], dtype=np.float32)\n",
        "                dim = len(vec)\n",
        "                vectors[word] = vec\n",
        "    return vectors, dim\n",
        "\n",
        "\n",
        "def build_embedding_matrix(vocab_size, stoi, vectors, dim):\n",
        "    \"\"\"\n",
        "    Build embedding matrix aligned with vocab indices.\n",
        "    Missing words get random initialization.\n",
        "    \"\"\"\n",
        "    matrix = np.zeros((vocab_size, dim), dtype=np.float32)\n",
        "    missing = 0\n",
        "    for word, idx in stoi.items():\n",
        "        if word in vectors:\n",
        "            matrix[idx] = vectors[word]\n",
        "        else:\n",
        "            matrix[idx] = np.random.normal(scale=0.6, size=(dim,))\n",
        "            missing += 1\n",
        "    print(f\"Missing {missing}/{vocab_size} ({missing/vocab_size*100:.1f}%) words\")\n",
        "    return matrix"
      ],
      "metadata": {
        "id": "SsPlCOgEiwqU"
      },
      "execution_count": 15,
      "outputs": []
    },
    {
      "cell_type": "code",
      "source": [
        "# levantamos solo los vectores necesarios\n",
        "eng_vectors, dim_en = load_restricted_fasttext_vectors(\"cc.en.300.vec\", list(word2idx_in.keys()))\n",
        "spa_vectors, dim_es = load_restricted_fasttext_vectors(\"cc.es.300.vec\", list(word2idx_out.keys()))"
      ],
      "metadata": {
        "id": "O9oUBL5iiwmf"
      },
      "execution_count": 16,
      "outputs": []
    },
    {
      "cell_type": "code",
      "source": [
        "# armamos las matrices de embeddings\n",
        "eng_matrix = build_embedding_matrix(len(word2idx_in)+1, word2idx_in, eng_vectors, dim_en)\n",
        "spa_matrix = build_embedding_matrix(len(word2idx_out)+1, word2idx_out, spa_vectors, dim_es)"
      ],
      "metadata": {
        "colab": {
          "base_uri": "https://localhost:8080/"
        },
        "id": "VyjV-cgiiwj7",
        "outputId": "d134d5ec-a342-4647-bc48-7bb50522c448"
      },
      "execution_count": 17,
      "outputs": [
        {
          "output_type": "stream",
          "name": "stdout",
          "text": [
            "Missing 465/13382 (3.5%) words\n",
            "Missing 927/26104 (3.6%) words\n"
          ]
        }
      ]
    },
    {
      "cell_type": "code",
      "source": [
        "# generamos los modulos de Pytorch y congelamos los pesos\n",
        "eng_embedding = nn.Embedding.from_pretrained(torch.tensor(eng_matrix), freeze=True)\n",
        "spa_embedding = nn.Embedding.from_pretrained(torch.tensor(spa_matrix), freeze=True)"
      ],
      "metadata": {
        "id": "pmIjj-YAiwhm"
      },
      "execution_count": 18,
      "outputs": []
    },
    {
      "cell_type": "code",
      "source": [
        "# mostramos dimensiones\n",
        "for m in (eng_embedding, spa_embedding):\n",
        "    print(m.weight.shape)"
      ],
      "metadata": {
        "colab": {
          "base_uri": "https://localhost:8080/"
        },
        "id": "Ri-m_ksyxHXi",
        "outputId": "396c533d-85ee-43c2-bc39-0861578012fb"
      },
      "execution_count": 19,
      "outputs": [
        {
          "output_type": "stream",
          "name": "stdout",
          "text": [
            "torch.Size([13382, 300])\n",
            "torch.Size([26104, 300])\n"
          ]
        }
      ]
    },
    {
      "cell_type": "markdown",
      "source": [
        "# Dataset"
      ],
      "metadata": {
        "id": "JMgWMGfTUpGN"
      }
    },
    {
      "cell_type": "code",
      "source": [
        "# util para hacer padding y conversion\n",
        "def unify_pad(input: list[list[int]], padding_side: str, dtype=torch.int32) -> torch.Tensor:\n",
        "    return pad_sequence(\n",
        "        [torch.tensor(x, dtype=dtype) for x in input],\n",
        "        padding_side=padding_side,\n",
        "        batch_first=True\n",
        "    )"
      ],
      "metadata": {
        "id": "incMst7VXYdV"
      },
      "execution_count": 20,
      "outputs": []
    },
    {
      "cell_type": "code",
      "source": [
        "class SeqPairDataset(Dataset):\n",
        "    def __init__(self, in_seqs, out_seqs, dynamic_truncate=True):\n",
        "        assert len(in_seqs)==len(out_seqs), \"in & out lengths should be the same!\"\n",
        "        self.in_seqs = unify_pad(in_seqs, 'left')\n",
        "        self.out_seqs = unify_pad(out_seqs, 'right')\n",
        "        self.dynamic_truncate = dynamic_truncate\n",
        "\n",
        "    def __len__(self):\n",
        "        return len(self.in_seqs)\n",
        "\n",
        "    def __getitem__(self, idx):\n",
        "        in_seqs = self.in_seqs[idx]\n",
        "        out_seqs = self.out_seqs[idx]\n",
        "\n",
        "        if not self.dynamic_truncate:\n",
        "            return in_seqs, out_seqs\n",
        "\n",
        "        # si ninguna es max_seq_len, se reduce para ahorrar tiempo\n",
        "        # Nota: en un array bool, argmax devuelve el primer indice distinto de 0\n",
        "        # pero no existe argmax para bools entonces hay que pasarlo a byte\n",
        "        # Caveat: si no hay ninguno, devuelve 0, pero eso se puede evitar...\n",
        "        # ...pidiendo que haya al menos un True en el array (con un .any())\n",
        "\n",
        "        ## input\n",
        "        conds = (in_seqs != 0).any(axis=0)\n",
        "        if conds.any().item():\n",
        "            first_non_zero_idx_in = conds.byte().argmax().item()\n",
        "\n",
        "            if first_non_zero_idx_in > 0:\n",
        "                in_seqs = in_seqs[:, first_non_zero_idx_in:]\n",
        "\n",
        "        ## output\n",
        "        conds = (out_seqs == 0).all(axis=0)\n",
        "        if conds.any().item():\n",
        "            first_all_zero_idx_out = conds.byte().argmax().item()\n",
        "\n",
        "            if first_all_zero_idx_out < (out_seqs.shape[1] - 1):\n",
        "                out_seqs = out_seqs[:, :first_all_zero_idx_out]\n",
        "\n",
        "        return in_seqs, out_seqs"
      ],
      "metadata": {
        "id": "ONj2MCo6Uqu2"
      },
      "execution_count": 21,
      "outputs": []
    },
    {
      "cell_type": "code",
      "source": [
        "train_ds = SeqPairDataset(train_tokens_in, train_tokens_out)\n",
        "test_ds = SeqPairDataset(test_tokens_in, test_tokens_out)"
      ],
      "metadata": {
        "id": "fMQ42UzXbYGc"
      },
      "execution_count": 22,
      "outputs": []
    },
    {
      "cell_type": "code",
      "source": [
        "# mostramos shapes\n",
        "sample_indices = [0,1,6,7]\n",
        "\n",
        "for idx in sample_indices:\n",
        "    print([x.shape for x in train_ds[[idx]]])\n",
        "\n",
        "print(\"total:\",[x.shape for x in train_ds[sample_indices]])"
      ],
      "metadata": {
        "colab": {
          "base_uri": "https://localhost:8080/"
        },
        "id": "rq63L9OIb9Ii",
        "outputId": "a2363e8c-9bde-411b-e953-ac869c65163c"
      },
      "execution_count": 23,
      "outputs": [
        {
          "output_type": "stream",
          "name": "stdout",
          "text": [
            "[torch.Size([1, 3]), torch.Size([1, 6])]\n",
            "[torch.Size([1, 4]), torch.Size([1, 5])]\n",
            "[torch.Size([1, 6]), torch.Size([1, 7])]\n",
            "[torch.Size([1, 15]), torch.Size([1, 13])]\n",
            "total: [torch.Size([4, 15]), torch.Size([4, 13])]\n"
          ]
        }
      ]
    },
    {
      "cell_type": "code",
      "source": [
        "TRAIN_BATCH_SZ = 512\n",
        "TEST_BATCH_SZ = 1024\n",
        "\n",
        "train_dl = DataLoader(\n",
        "    train_ds,\n",
        "    batch_size=TRAIN_BATCH_SZ,\n",
        "    shuffle=True,\n",
        "    num_workers=1,\n",
        "    pin_memory=True\n",
        ")\n",
        "\n",
        "test_dl = DataLoader(\n",
        "    test_ds,\n",
        "    batch_size=TEST_BATCH_SZ,\n",
        "    shuffle=False,\n",
        "    num_workers=1,\n",
        "    pin_memory=True\n",
        ")"
      ],
      "metadata": {
        "id": "IrgOVKoxNS0Q"
      },
      "execution_count": 24,
      "outputs": []
    },
    {
      "cell_type": "markdown",
      "source": [
        "# Modelo"
      ],
      "metadata": {
        "id": "kPTEQ2WZxdSg"
      }
    },
    {
      "cell_type": "markdown",
      "source": [
        "Separamos en encoder y decoder, observar que el decoder devuelve logits, NO probs (no se aplica softmax)."
      ],
      "metadata": {
        "id": "yRDXzfhGAdAw"
      }
    },
    {
      "cell_type": "code",
      "source": [
        "class Encoder(nn.Module):\n",
        "    def __init__(self, embedding_matrix, **lstm_args):\n",
        "        super().__init__()\n",
        "\n",
        "        self.embeddings = embedding_matrix\n",
        "\n",
        "        # nos aseguramos que esté freezeada\n",
        "        self.embeddings.weight.requires_grad = False\n",
        "\n",
        "        # para que sea mas claro\n",
        "        embed_dim = embedding_matrix.embedding_dim\n",
        "        vocab_size = embedding_matrix.num_embeddings\n",
        "\n",
        "        self.lstm = nn.LSTM(\n",
        "            input_size=embed_dim,\n",
        "            batch_first=True,\n",
        "            **lstm_args\n",
        "        )\n",
        "\n",
        "    def forward(self, input_tokens):\n",
        "        embeddings = self.embeddings(input_tokens)\n",
        "\n",
        "        # descartamos el output\n",
        "        _ , state = self.lstm(embeddings)\n",
        "\n",
        "        return state"
      ],
      "metadata": {
        "id": "9iP7z511iwc8"
      },
      "execution_count": 25,
      "outputs": []
    },
    {
      "cell_type": "code",
      "source": [
        "class Decoder(nn.Module):\n",
        "    def __init__(self, embedding_matrix, head=None, **lstm_args):\n",
        "        super().__init__()\n",
        "\n",
        "        self.embeddings = embedding_matrix\n",
        "\n",
        "        # nos aseguramos que esté freezeada\n",
        "        self.embeddings.weight.requires_grad = False\n",
        "\n",
        "        # para que sea mas claro\n",
        "        embed_dim = embedding_matrix.embedding_dim\n",
        "        vocab_size = embedding_matrix.num_embeddings\n",
        "\n",
        "        # embeddings -> state\n",
        "        self.lstm = nn.LSTM(\n",
        "            input_size=embed_dim,\n",
        "            batch_first=True,\n",
        "            **lstm_args\n",
        "        )\n",
        "\n",
        "        # state -> indice del token\n",
        "        self.head = nn.Linear(self.lstm.hidden_size, vocab_size) if head is None else head\n",
        "\n",
        "    def forward(self, input_tokens, prev_state, last_only=False):\n",
        "        embeddings = self.embeddings(input_tokens)\n",
        "\n",
        "        lstm_out, state = self.lstm(embeddings, prev_state)\n",
        "\n",
        "        if last_only:\n",
        "            lstm_out = lstm_out[:,-1,:] if lstm_out.ndim == 3 else lstm_out[-1,:]\n",
        "\n",
        "        head_out = self.head(lstm_out)\n",
        "\n",
        "        return head_out, state"
      ],
      "metadata": {
        "id": "qZtoVx_93IDe"
      },
      "execution_count": 51,
      "outputs": []
    },
    {
      "cell_type": "code",
      "source": [
        "# training util\n",
        "class Seq2Seq(nn.Module):\n",
        "    def __init__(self, encoder, decoder):\n",
        "        super().__init__()\n",
        "\n",
        "        self.encoder = encoder\n",
        "        self.decoder = decoder\n",
        "\n",
        "    def forward(self, input_tokens, output_tokens):\n",
        "\n",
        "        # encoder last state\n",
        "        encoder_state = self.encoder(input_tokens)\n",
        "\n",
        "        # teacher forcing para training, se asume que <BOS> and <EOS> ya están:\n",
        "        decoder_input = output_tokens[:,:-1]\n",
        "\n",
        "        # al decoder le hacemos un forward sin last_only\n",
        "        logits, _ = self.decoder(decoder_input, encoder_state, False)\n",
        "\n",
        "        return logits"
      ],
      "metadata": {
        "id": "XpCMiGD8JIpx"
      },
      "execution_count": 52,
      "outputs": []
    },
    {
      "cell_type": "markdown",
      "source": [
        "Instanciamos uno para mostrar"
      ],
      "metadata": {
        "id": "onfnAml1Aa4Y"
      }
    },
    {
      "cell_type": "code",
      "source": [
        "lstm_args = dict(\n",
        "    hidden_size = 128,      # LSTM WIDTH\n",
        "    num_layers = 1,         # N LAYERS\n",
        ")\n",
        "\n",
        "enc1 = Encoder(\n",
        "    eng_embedding,\n",
        "    **lstm_args\n",
        ")\n",
        "\n",
        "dec1 = Decoder(\n",
        "    spa_embedding,\n",
        "    **lstm_args\n",
        ")\n",
        "\n",
        "s2s_1 = Seq2Seq(enc1,dec1).to(device)\n",
        "s2s_1"
      ],
      "metadata": {
        "colab": {
          "base_uri": "https://localhost:8080/"
        },
        "id": "3nQ8-__cIMQ6",
        "outputId": "09f281ee-efd7-4eff-cde8-3dc41b9aa922"
      },
      "execution_count": 28,
      "outputs": [
        {
          "output_type": "execute_result",
          "data": {
            "text/plain": [
              "Seq2Seq(\n",
              "  (encoder): Encoder(\n",
              "    (embeddings): Embedding(13382, 300)\n",
              "    (lstm): LSTM(300, 128, batch_first=True)\n",
              "  )\n",
              "  (decoder): Decoder(\n",
              "    (embeddings): Embedding(26104, 300)\n",
              "    (lstm): LSTM(300, 128, batch_first=True)\n",
              "    (head): Linear(in_features=128, out_features=26104, bias=True)\n",
              "  )\n",
              ")"
            ]
          },
          "metadata": {},
          "execution_count": 28
        }
      ]
    },
    {
      "cell_type": "markdown",
      "source": [
        "Mostramos uso"
      ],
      "metadata": {
        "id": "dlE2YMAVRwvz"
      }
    },
    {
      "cell_type": "code",
      "source": [
        "sample_indices = [0,1,25]\n",
        "\n",
        "sample_in, sample_out = train_ds[sample_indices]\n",
        "\n",
        "sample_in.shape, sample_out.shape"
      ],
      "metadata": {
        "colab": {
          "base_uri": "https://localhost:8080/"
        },
        "id": "Dhi_G1FTykCt",
        "outputId": "aa0d49c2-d460-4295-ae57-413fc8b65c30"
      },
      "execution_count": 29,
      "outputs": [
        {
          "output_type": "execute_result",
          "data": {
            "text/plain": [
              "(torch.Size([3, 8]), torch.Size([3, 9]))"
            ]
          },
          "metadata": {},
          "execution_count": 29
        }
      ]
    },
    {
      "cell_type": "code",
      "source": [
        "# pasamos por el modelo\n",
        "res = s2s_1(sample_in.to(device), sample_out.to(device)).cpu()\n",
        "res.shape"
      ],
      "metadata": {
        "colab": {
          "base_uri": "https://localhost:8080/"
        },
        "id": "XT4RauxRzLAE",
        "outputId": "be9db285-c573-4a19-dca3-811d44ce52ed"
      },
      "execution_count": 30,
      "outputs": [
        {
          "output_type": "execute_result",
          "data": {
            "text/plain": [
              "torch.Size([3, 8, 26104])"
            ]
          },
          "metadata": {},
          "execution_count": 30
        }
      ]
    },
    {
      "cell_type": "markdown",
      "source": [
        "Como se observa, la salida es de forma `(batch_sz, output_seq_len - 1, out_vocab_sz)`"
      ],
      "metadata": {
        "id": "1szqo30TTGwf"
      }
    },
    {
      "cell_type": "code",
      "source": [
        "# tomamos el argmax por vocab\n",
        "res.max(dim=-1).indices.shape"
      ],
      "metadata": {
        "colab": {
          "base_uri": "https://localhost:8080/"
        },
        "id": "tGnqGScFU6G0",
        "outputId": "2e5e4c6c-5867-481a-ea25-a121dd4737ca"
      },
      "execution_count": 31,
      "outputs": [
        {
          "output_type": "execute_result",
          "data": {
            "text/plain": [
              "torch.Size([3, 8])"
            ]
          },
          "metadata": {},
          "execution_count": 31
        }
      ]
    },
    {
      "cell_type": "code",
      "source": [
        "res.size(-1)"
      ],
      "metadata": {
        "colab": {
          "base_uri": "https://localhost:8080/"
        },
        "id": "XHI2S-eWabZd",
        "outputId": "7acefbaf-9f5c-4fed-8bea-934a16916dcf"
      },
      "execution_count": 32,
      "outputs": [
        {
          "output_type": "execute_result",
          "data": {
            "text/plain": [
              "26104"
            ]
          },
          "metadata": {},
          "execution_count": 32
        }
      ]
    },
    {
      "cell_type": "markdown",
      "source": [
        "# Train"
      ],
      "metadata": {
        "id": "DfOIg3woT8Ok"
      }
    },
    {
      "cell_type": "code",
      "source": [
        "# util\n",
        "def eval_model(model, test_dataloader, device):\n",
        "    model.eval()\n",
        "    with torch.no_grad():\n",
        "        total_tokens = 0\n",
        "        total_loss = 0.0\n",
        "        total_correct = 0\n",
        "\n",
        "        for batch_input_tokens, batch_output_tokens in test_dataloader:\n",
        "            # omit <BOS>\n",
        "            expected_output_tokens = batch_output_tokens[:,1:]\n",
        "\n",
        "            # predict\n",
        "            logits = model(\n",
        "                batch_input_tokens.to(device),\n",
        "                batch_output_tokens.to(device)\n",
        "            )\n",
        "\n",
        "            # cross entropy por token\n",
        "            loss = F.cross_entropy(\n",
        "                logits.reshape(-1, logits.shape[-1]),\n",
        "                expected_output_tokens.reshape(-1).long().to(device),\n",
        "                ignore_index=0, # omitir padding\n",
        "                reduction='sum'\n",
        "            ).cpu()\n",
        "\n",
        "            mask = expected_output_tokens != 0\n",
        "            total_loss += loss.item()\n",
        "            total_tokens += mask.sum().item()\n",
        "            total_correct += ((logits.argmax(dim=-1).cpu() == expected_output_tokens) & mask).sum().item()\n",
        "\n",
        "    return dict(\n",
        "        valid_loss= total_loss / total_tokens,\n",
        "        valid_acc= total_correct / total_tokens\n",
        "    )\n",
        "\n",
        "# mostramos uso\n",
        "eval_model(s2s_1, test_dl, device)"
      ],
      "metadata": {
        "colab": {
          "base_uri": "https://localhost:8080/"
        },
        "id": "4Wjd7mAgUaY5",
        "outputId": "79eca35d-ae5d-43b6-c28a-72931a9a9d89"
      },
      "execution_count": 33,
      "outputs": [
        {
          "output_type": "execute_result",
          "data": {
            "text/plain": [
              "{'valid_loss': 10.176859218735816, 'valid_acc': 6.051986564589827e-06}"
            ]
          },
          "metadata": {},
          "execution_count": 33
        }
      ]
    },
    {
      "cell_type": "code",
      "source": [
        "# borramos el modelo\n",
        "del s2s_1\n",
        "gc.collect()\n",
        "torch.cuda.empty_cache()"
      ],
      "metadata": {
        "id": "MfSKdVUPg6JJ"
      },
      "execution_count": 34,
      "outputs": []
    },
    {
      "cell_type": "code",
      "source": [
        "# utils\n",
        "def train_one_epoch(model, optimizer, train_dl, device):\n",
        "    total_tokens = 0\n",
        "    total_loss = 0.0\n",
        "\n",
        "    for batch_input_tokens, batch_output_tokens in train_dl:\n",
        "        # reset de gradientes\n",
        "        optimizer.zero_grad()\n",
        "\n",
        "        # omit <BOS>\n",
        "        expected_output_tokens = batch_output_tokens[:,1:].long().to(device)\n",
        "\n",
        "        # predict\n",
        "        logits = model(\n",
        "            batch_input_tokens.to(device),\n",
        "            batch_output_tokens.to(device)\n",
        "        )\n",
        "\n",
        "        # cross entropy por token\n",
        "        loss = F.cross_entropy(\n",
        "            logits.reshape(-1, logits.shape[-1]),\n",
        "            expected_output_tokens.reshape(-1),\n",
        "            ignore_index=0, # omitir padding\n",
        "            reduction='sum'\n",
        "        )\n",
        "\n",
        "        valid_tokens = (expected_output_tokens != 0).sum().item()\n",
        "        batch_loss = loss / valid_tokens\n",
        "\n",
        "        batch_loss.backward()\n",
        "        optimizer.step()\n",
        "\n",
        "        total_loss += loss.item()\n",
        "        total_tokens += valid_tokens\n",
        "\n",
        "    return dict(\n",
        "        train_loss= total_loss / total_tokens\n",
        "    )"
      ],
      "metadata": {
        "id": "vjVowixuiwat"
      },
      "execution_count": 35,
      "outputs": []
    },
    {
      "cell_type": "code",
      "source": [
        "# utils\n",
        "def train(model, optimizer, train_dl, test_dl, device, epochs, patience, save_name, save_min_acc=0.0):\n",
        "    saved_ckp = False\n",
        "    best_val = 999\n",
        "    cur_patience = patience\n",
        "    historics = []\n",
        "    fname = f\"{save_name}.pt\"\n",
        "    for epoch in tqdm(range(epochs),total=epochs):\n",
        "        model.train()\n",
        "        train_stats = train_one_epoch(model, optimizer, train_dl, device)\n",
        "        valid_stats = eval_model(model, test_dl, device)\n",
        "        print(f\"Epoch {epoch+1:>3}/{epochs:>3}: \"\n",
        "              f\"train_loss={train_stats['train_loss']:.3f}, \"\n",
        "              f\"valid_loss={valid_stats['valid_loss']:.3f}, \"\n",
        "              f\"valid_acc={valid_stats['valid_acc']:.3f}\")\n",
        "        historics.append(train_stats | valid_stats)\n",
        "\n",
        "        if valid_stats['valid_loss'] < best_val:\n",
        "            print(f\"New best at epoch {epoch+1}\")\n",
        "            cur_patience = patience\n",
        "            best_val = valid_stats['valid_loss']\n",
        "\n",
        "            if valid_stats['valid_acc'] > save_min_acc:\n",
        "                torch.save(model.state_dict(), fname)\n",
        "                print(f\"Saved checkpoint at\", fname)\n",
        "                saved_ckp = True\n",
        "\n",
        "        else:\n",
        "            cur_patience -= 1\n",
        "            if cur_patience < 0:\n",
        "                print(f\"Breaking due to exhausted patience at epoch {epoch+1}\")\n",
        "                break\n",
        "\n",
        "    # if never saved, save once\n",
        "    if not saved_ckp:\n",
        "        torch.save(model.state_dict(), fname)\n",
        "        print(f\"Saving final result at\", fname)\n",
        "\n",
        "    return pd.DataFrame(historics)"
      ],
      "metadata": {
        "id": "IQ1rHaEKiwYk"
      },
      "execution_count": 36,
      "outputs": []
    },
    {
      "cell_type": "code",
      "source": [
        "# un util más para iterar rápido\n",
        "def run_experiment(lstm_cfg, optim_cfg, dataloaders, device, epochs, patience, name, save_min_acc=0, decoder_head=None):\n",
        "    train_dl, test_dl = dataloaders\n",
        "\n",
        "    model = Seq2Seq(\n",
        "        encoder = Encoder(eng_embedding, **lstm_cfg),\n",
        "        decoder = Decoder(spa_embedding, head=decoder_head, **lstm_cfg)\n",
        "    ).to(device)\n",
        "\n",
        "    opt = optim.Adam(\n",
        "        [p for p in model.parameters() if p.requires_grad],\n",
        "        **optim_cfg,\n",
        "    )\n",
        "\n",
        "    result = train(model, opt, train_dl, test_dl, device, epochs, patience, name, save_min_acc)\n",
        "\n",
        "    # borramos el modelo, si hace falta lo levantamos\n",
        "    del model, opt\n",
        "    gc.collect()\n",
        "    torch.cuda.empty_cache()\n",
        "\n",
        "    return dict(\n",
        "        name = name,\n",
        "        results = result,\n",
        "    )"
      ],
      "metadata": {
        "id": "mjSxBoGvOaxc"
      },
      "execution_count": 53,
      "outputs": []
    },
    {
      "cell_type": "markdown",
      "source": [
        "## Experimentos"
      ],
      "metadata": {
        "id": "K62PcBmuPnLs"
      }
    },
    {
      "cell_type": "markdown",
      "source": [
        "### Baseline"
      ],
      "metadata": {
        "id": "6jOBPjSnQHsD"
      }
    },
    {
      "cell_type": "code",
      "source": [
        "# baseline\n",
        "baseline = run_experiment(\n",
        "    lstm_cfg=dict(hidden_size = 128, num_layers = 1),\n",
        "    optim_cfg=dict(lr=1e-3),\n",
        "    dataloaders=(train_dl, test_dl),\n",
        "    device=device,\n",
        "    epochs=30,\n",
        "    patience=4,\n",
        "    name='baseline',\n",
        "    save_min_acc=0.5\n",
        ")"
      ],
      "metadata": {
        "colab": {
          "base_uri": "https://localhost:8080/",
          "height": 1000,
          "referenced_widgets": [
            "712846f494b546078dbc36385c7d10e5",
            "3bd9c70bb5fc4e148afa411aa9f0008a",
            "8f402885de964287a9bd12ed5f917b7f",
            "592414d4860b4154b29a2ba2676bc65a",
            "d362e384b5ba4ed9a34d31a47a20cb2a",
            "86f9b66b1e2843b0b22980af0bebaa74",
            "dc26bb31c5db45b1b27a0266f6334b71",
            "264195b0bedd4e2490f29e7745dfef29",
            "fdef1f30d9af48fd9d2b47bb01124d8f",
            "2e676fabb9884a7aac40c954a5cf6752",
            "f71df3a9d4c84f2bb1b3507ee2952c85"
          ]
        },
        "id": "VG3j2o2vPl6O",
        "outputId": "d3fba134-4b38-405b-b14d-a24e5fdf96af"
      },
      "execution_count": 38,
      "outputs": [
        {
          "output_type": "display_data",
          "data": {
            "text/plain": [
              "  0%|          | 0/30 [00:00<?, ?it/s]"
            ],
            "application/vnd.jupyter.widget-view+json": {
              "version_major": 2,
              "version_minor": 0,
              "model_id": "712846f494b546078dbc36385c7d10e5"
            }
          },
          "metadata": {}
        },
        {
          "output_type": "stream",
          "name": "stdout",
          "text": [
            "Epoch   1/ 30: train_loss=6.407, valid_loss=5.818, valid_acc=0.177\n",
            "New best at epoch 1\n",
            "Epoch   2/ 30: train_loss=5.626, valid_loss=5.459, valid_acc=0.201\n",
            "New best at epoch 2\n",
            "Epoch   3/ 30: train_loss=5.266, valid_loss=5.112, valid_acc=0.238\n",
            "New best at epoch 3\n",
            "Epoch   4/ 30: train_loss=4.919, valid_loss=4.803, valid_acc=0.267\n",
            "New best at epoch 4\n",
            "Epoch   5/ 30: train_loss=4.629, valid_loss=4.558, valid_acc=0.290\n",
            "New best at epoch 5\n",
            "Epoch   6/ 30: train_loss=4.396, valid_loss=4.361, valid_acc=0.307\n",
            "New best at epoch 6\n",
            "Epoch   7/ 30: train_loss=4.202, valid_loss=4.201, valid_acc=0.321\n",
            "New best at epoch 7\n",
            "Epoch   8/ 30: train_loss=4.034, valid_loss=4.055, valid_acc=0.332\n",
            "New best at epoch 8\n",
            "Epoch   9/ 30: train_loss=3.888, valid_loss=3.928, valid_acc=0.345\n",
            "New best at epoch 9\n",
            "Epoch  10/ 30: train_loss=3.751, valid_loss=3.818, valid_acc=0.357\n",
            "New best at epoch 10\n",
            "Epoch  11/ 30: train_loss=3.624, valid_loss=3.702, valid_acc=0.370\n",
            "New best at epoch 11\n",
            "Epoch  12/ 30: train_loss=3.501, valid_loss=3.604, valid_acc=0.379\n",
            "New best at epoch 12\n",
            "Epoch  13/ 30: train_loss=3.385, valid_loss=3.502, valid_acc=0.390\n",
            "New best at epoch 13\n",
            "Epoch  14/ 30: train_loss=3.272, valid_loss=3.409, valid_acc=0.401\n",
            "New best at epoch 14\n",
            "Epoch  15/ 30: train_loss=3.166, valid_loss=3.321, valid_acc=0.410\n",
            "New best at epoch 15\n",
            "Epoch  16/ 30: train_loss=3.065, valid_loss=3.246, valid_acc=0.419\n",
            "New best at epoch 16\n",
            "Epoch  17/ 30: train_loss=2.970, valid_loss=3.171, valid_acc=0.428\n",
            "New best at epoch 17\n",
            "Epoch  18/ 30: train_loss=2.881, valid_loss=3.100, valid_acc=0.437\n",
            "New best at epoch 18\n",
            "Epoch  19/ 30: train_loss=2.797, valid_loss=3.037, valid_acc=0.445\n",
            "New best at epoch 19\n",
            "Epoch  20/ 30: train_loss=2.721, valid_loss=2.978, valid_acc=0.452\n",
            "New best at epoch 20\n",
            "Epoch  21/ 30: train_loss=2.647, valid_loss=2.928, valid_acc=0.458\n",
            "New best at epoch 21\n",
            "Epoch  22/ 30: train_loss=2.580, valid_loss=2.879, valid_acc=0.464\n",
            "New best at epoch 22\n",
            "Epoch  23/ 30: train_loss=2.516, valid_loss=2.836, valid_acc=0.470\n",
            "New best at epoch 23\n",
            "Epoch  24/ 30: train_loss=2.456, valid_loss=2.794, valid_acc=0.474\n",
            "New best at epoch 24\n",
            "Epoch  25/ 30: train_loss=2.399, valid_loss=2.767, valid_acc=0.477\n",
            "New best at epoch 25\n",
            "Epoch  26/ 30: train_loss=2.346, valid_loss=2.723, valid_acc=0.485\n",
            "New best at epoch 26\n",
            "Epoch  27/ 30: train_loss=2.294, valid_loss=2.688, valid_acc=0.490\n",
            "New best at epoch 27\n",
            "Epoch  28/ 30: train_loss=2.246, valid_loss=2.662, valid_acc=0.493\n",
            "New best at epoch 28\n",
            "Epoch  29/ 30: train_loss=2.201, valid_loss=2.629, valid_acc=0.498\n",
            "New best at epoch 29\n",
            "Epoch  30/ 30: train_loss=2.157, valid_loss=2.604, valid_acc=0.503\n",
            "New best at epoch 30\n",
            "Saved checkpoint at baseline.pt\n"
          ]
        }
      ]
    },
    {
      "cell_type": "code",
      "source": [
        "ax = baseline['results'].plot(xlabel='epoch', ylabel='metric')\n",
        "plt.show()"
      ],
      "metadata": {
        "colab": {
          "base_uri": "https://localhost:8080/",
          "height": 449
        },
        "id": "VWT9VqRNYooH",
        "outputId": "5d0ca4c6-6903-40dd-af15-8cfee2929dbb"
      },
      "execution_count": 39,
      "outputs": [
        {
          "output_type": "display_data",
          "data": {
            "text/plain": [
              "<Figure size 640x480 with 1 Axes>"
            ],
            "image/png": "[encoded data removed]"
          },
          "metadata": {}
        }
      ]
    },
    {
      "cell_type": "markdown",
      "source": [
        "El resultado es bueno, probablemente mejoraría un poco más con un entrenamiento más largo pero tampoco tanto. Probamos con una variante más ancha y una variante más profunda para comparar. Usamos runs más cortos para ver si son esquemas prometedores."
      ],
      "metadata": {
        "id": "3gFA_PPJWVa_"
      }
    },
    {
      "cell_type": "markdown",
      "source": [
        "### Más neuronas por capa recurrente"
      ],
      "metadata": {
        "id": "_fkW2uZLWpTO"
      }
    },
    {
      "cell_type": "code",
      "source": [
        "# 2x ancho\n",
        "wider = run_experiment(\n",
        "    lstm_cfg=dict(hidden_size = 256, num_layers = 1),\n",
        "    optim_cfg=dict(lr=1e-3),\n",
        "    dataloaders=(train_dl, test_dl),\n",
        "    device=device,\n",
        "    epochs=10,\n",
        "    patience=4,\n",
        "    name='wider',\n",
        "    save_min_acc=0.6\n",
        ")"
      ],
      "metadata": {
        "id": "4I-yNNFWiwK6",
        "colab": {
          "base_uri": "https://localhost:8080/",
          "height": 424,
          "referenced_widgets": [
            "89cc87f02df0422ebe0557b9496b823c",
            "8da77b3cc4894675926d03e90502ddaf",
            "ff955ef5f3b84d7cb59665617e5f0b26",
            "76216501cbcd4de79f3e02ca63bc02b1",
            "9923b5d9c86140c38ca71be735e3a95f",
            "b13c927a79b6449fa47afb1db616d546",
            "bd0e527f99784d79bacdbe5f6cdbf4fe",
            "8eb7f9c3ac194f96bb17fecd07b7d282",
            "44dabdc9958543819fb72a0505cd8edc",
            "92024d41077d4de0a921f60d1b7d011f",
            "d0d96d2096de41eb81959e6db4ba8eee"
          ]
        },
        "outputId": "305ec9f4-1bc9-46a7-ebac-d1439f7b3320"
      },
      "execution_count": 40,
      "outputs": [
        {
          "output_type": "display_data",
          "data": {
            "text/plain": [
              "  0%|          | 0/10 [00:00<?, ?it/s]"
            ],
            "application/vnd.jupyter.widget-view+json": {
              "version_major": 2,
              "version_minor": 0,
              "model_id": "89cc87f02df0422ebe0557b9496b823c"
            }
          },
          "metadata": {}
        },
        {
          "output_type": "stream",
          "name": "stdout",
          "text": [
            "Epoch   1/ 10: train_loss=6.190, valid_loss=5.655, valid_acc=0.189\n",
            "New best at epoch 1\n",
            "Epoch   2/ 10: train_loss=5.311, valid_loss=5.005, valid_acc=0.252\n",
            "New best at epoch 2\n",
            "Epoch   3/ 10: train_loss=4.725, valid_loss=4.543, valid_acc=0.292\n",
            "New best at epoch 3\n",
            "Epoch   4/ 10: train_loss=4.310, valid_loss=4.213, valid_acc=0.320\n",
            "New best at epoch 4\n",
            "Epoch   5/ 10: train_loss=3.994, valid_loss=3.949, valid_acc=0.346\n",
            "New best at epoch 5\n",
            "Epoch   6/ 10: train_loss=3.729, valid_loss=3.732, valid_acc=0.368\n",
            "New best at epoch 6\n",
            "Epoch   7/ 10: train_loss=3.501, valid_loss=3.541, valid_acc=0.389\n",
            "New best at epoch 7\n",
            "Epoch   8/ 10: train_loss=3.298, valid_loss=3.384, valid_acc=0.403\n",
            "New best at epoch 8\n",
            "Epoch   9/ 10: train_loss=3.114, valid_loss=3.233, valid_acc=0.422\n",
            "New best at epoch 9\n",
            "Epoch  10/ 10: train_loss=2.948, valid_loss=3.107, valid_acc=0.436\n",
            "New best at epoch 10\n",
            "Saving final result at wider.pt\n"
          ]
        }
      ]
    },
    {
      "cell_type": "code",
      "source": [
        "ax = wider['results'].plot(xlabel='epoch', ylabel='metric')\n",
        "plt.show()"
      ],
      "metadata": {
        "id": "BTsoX1iaiwI3",
        "colab": {
          "base_uri": "https://localhost:8080/",
          "height": 449
        },
        "outputId": "fc1a5b4d-740e-442a-e1b3-b84e8ca09abf"
      },
      "execution_count": 41,
      "outputs": [
        {
          "output_type": "display_data",
          "data": {
            "text/plain": [
              "<Figure size 640x480 with 1 Axes>"
            ],
            "image/png": "[encoded data removed]"
          },
          "metadata": {}
        }
      ]
    },
    {
      "cell_type": "markdown",
      "source": [
        "### Más capas"
      ],
      "metadata": {
        "id": "k2sBHLmwbWf2"
      }
    },
    {
      "cell_type": "code",
      "source": [
        "deeper = run_experiment(\n",
        "    lstm_cfg=dict(hidden_size = 128, num_layers = 2),\n",
        "    optim_cfg=dict(lr=1e-3),\n",
        "    dataloaders=(train_dl, test_dl),\n",
        "    device=device,\n",
        "    epochs=10,\n",
        "    patience=4,\n",
        "    name='deeper',\n",
        "    save_min_acc=0.6\n",
        ")"
      ],
      "metadata": {
        "id": "8brA7XqkiwGy",
        "colab": {
          "base_uri": "https://localhost:8080/",
          "height": 424,
          "referenced_widgets": [
            "5f104e32a34e4d0c8c978ed0c07dbb6b",
            "071bfc6cdb054c82bb6b97d085ce40de",
            "7dcedd84168642e8990151df525985ed",
            "07d526e328e94fd3ac30d528396ddba2",
            "d3f39022f98546c9b5e0389b6fc60637",
            "2420279ad906455780eb1775417c4884",
            "1d9d92b236e74393931c2fb443fa4dbc",
            "66b742d0172e4b468ea2e2c8e01c06ff",
            "b87f620e92134bea9886d765d6b01c5e",
            "ac323aa25e2b4561a0a27bd5bca8fc59",
            "bdced4f92481421d8facb66ebb817a3f"
          ]
        },
        "outputId": "ecbc01dd-f1d4-47ac-bf3a-7db96ef96758"
      },
      "execution_count": 42,
      "outputs": [
        {
          "output_type": "display_data",
          "data": {
            "text/plain": [
              "  0%|          | 0/10 [00:00<?, ?it/s]"
            ],
            "application/vnd.jupyter.widget-view+json": {
              "version_major": 2,
              "version_minor": 0,
              "model_id": "5f104e32a34e4d0c8c978ed0c07dbb6b"
            }
          },
          "metadata": {}
        },
        {
          "output_type": "stream",
          "name": "stdout",
          "text": [
            "Epoch   1/ 10: train_loss=6.389, valid_loss=5.866, valid_acc=0.174\n",
            "New best at epoch 1\n",
            "Epoch   2/ 10: train_loss=5.761, valid_loss=5.671, valid_acc=0.199\n",
            "New best at epoch 2\n",
            "Epoch   3/ 10: train_loss=5.499, valid_loss=5.330, valid_acc=0.228\n",
            "New best at epoch 3\n",
            "Epoch   4/ 10: train_loss=5.106, valid_loss=4.948, valid_acc=0.258\n",
            "New best at epoch 4\n",
            "Epoch   5/ 10: train_loss=4.746, valid_loss=4.637, valid_acc=0.284\n",
            "New best at epoch 5\n",
            "Epoch   6/ 10: train_loss=4.443, valid_loss=4.371, valid_acc=0.311\n",
            "New best at epoch 6\n",
            "Epoch   7/ 10: train_loss=4.191, valid_loss=4.155, valid_acc=0.336\n",
            "New best at epoch 7\n",
            "Epoch   8/ 10: train_loss=3.972, valid_loss=3.963, valid_acc=0.354\n",
            "New best at epoch 8\n",
            "Epoch   9/ 10: train_loss=3.775, valid_loss=3.789, valid_acc=0.371\n",
            "New best at epoch 9\n",
            "Epoch  10/ 10: train_loss=3.596, valid_loss=3.644, valid_acc=0.387\n",
            "New best at epoch 10\n",
            "Saving final result at deeper.pt\n"
          ]
        }
      ]
    },
    {
      "cell_type": "code",
      "source": [
        "ax = deeper['results'].plot(xlabel='epoch', ylabel='metric')\n",
        "plt.show()"
      ],
      "metadata": {
        "colab": {
          "base_uri": "https://localhost:8080/",
          "height": 449
        },
        "id": "1P8Btrhucya2",
        "outputId": "ac5125e9-4c1d-4d9d-9445-5b76033235c5"
      },
      "execution_count": 43,
      "outputs": [
        {
          "output_type": "display_data",
          "data": {
            "text/plain": [
              "<Figure size 640x480 with 1 Axes>"
            ],
            "image/png": "[encoded data removed]"
          },
          "metadata": {}
        }
      ]
    },
    {
      "cell_type": "code",
      "source": [
        "# comparamos valid_acc de los 3\n",
        "fig, ax = plt.subplots(figsize=(7,4))\n",
        "for res in (baseline, wider, deeper):\n",
        "    ax.plot(res['results']['valid_acc'], label=res['name'])\n",
        "ax.set_ylabel('accuracy @ test')\n",
        "ax.set_xlabel('epoch')\n",
        "plt.legend(loc='lower right')\n",
        "plt.tight_layout()"
      ],
      "metadata": {
        "id": "s5xqPSSkiwEN",
        "colab": {
          "base_uri": "https://localhost:8080/",
          "height": 407
        },
        "outputId": "498af75d-cf50-4cd4-e9db-92f6f72949de"
      },
      "execution_count": 44,
      "outputs": [
        {
          "output_type": "display_data",
          "data": {
            "text/plain": [
              "<Figure size 700x400 with 1 Axes>"
            ],
            "image/png": "[encoded data removed]"
          },
          "metadata": {}
        }
      ]
    },
    {
      "cell_type": "markdown",
      "source": [
        "* Ninguna de las 3 variantes cayó en overfitting, aunque es verdad que solo el baseline se entrenó por 30 epochs, las otras solo por 10.\n",
        "* Definitivamente un mayor ancho mejora la performance. Aún así se debe tener en cuenta que la dimensión de embeddings es 300, por lo que más de 256 (usando potencias de 2) ya la excede.\n",
        "* Mayor profundidad no pareciera mejorar, aunque sí se observa una curva más pronunciada.\n",
        "\n",
        "Se prueba con más ancho y más profundidad. Si overfittea, agregamos dropout."
      ],
      "metadata": {
        "id": "VuvMEYuJcm2-"
      }
    },
    {
      "cell_type": "code",
      "source": [
        "wider_deeper = run_experiment(\n",
        "    lstm_cfg=dict(hidden_size = 256, num_layers = 2),\n",
        "    optim_cfg=dict(lr=1e-3),\n",
        "    dataloaders=(train_dl, test_dl),\n",
        "    device=device,\n",
        "    epochs=10,\n",
        "    patience=4,\n",
        "    name='wider_deeper',\n",
        "    save_min_acc=0.6\n",
        ")"
      ],
      "metadata": {
        "id": "vXJs2aRfiwCM",
        "colab": {
          "base_uri": "https://localhost:8080/",
          "height": 424,
          "referenced_widgets": [
            "b3b18221f7d44140ac74236c1b4346ce",
            "50fc793ee8da4cb2a83a70f3ffa2d9f0",
            "ead5da9f961c48c0bd9f3aaa40b4128c",
            "7ddc5a009d9b42ffa8148f38c71dd6c3",
            "de5b8c121fd24dc2aff26a8b4eff91ee",
            "50a22541374a4ea39dec1215b8ea9665",
            "84b1827689bc48438e92ad17377a71f4",
            "e8849047915145c5ade55d791a2b37cc",
            "0a47f6f02af1463884f298adbb6ad8b0",
            "634948f8c23e47cfa3d7395e2b3fc4ea",
            "2f993a6ca99c48cb818988bdaf378835"
          ]
        },
        "outputId": "587a5967-f87b-4974-cfcc-9fec3d07709a"
      },
      "execution_count": 45,
      "outputs": [
        {
          "output_type": "display_data",
          "data": {
            "text/plain": [
              "  0%|          | 0/10 [00:00<?, ?it/s]"
            ],
            "application/vnd.jupyter.widget-view+json": {
              "version_major": 2,
              "version_minor": 0,
              "model_id": "b3b18221f7d44140ac74236c1b4346ce"
            }
          },
          "metadata": {}
        },
        {
          "output_type": "stream",
          "name": "stdout",
          "text": [
            "Epoch   1/ 10: train_loss=6.210, valid_loss=5.828, valid_acc=0.183\n",
            "New best at epoch 1\n",
            "Epoch   2/ 10: train_loss=5.654, valid_loss=5.475, valid_acc=0.218\n",
            "New best at epoch 2\n",
            "Epoch   3/ 10: train_loss=5.211, valid_loss=4.988, valid_acc=0.259\n",
            "New best at epoch 3\n",
            "Epoch   4/ 10: train_loss=4.708, valid_loss=4.520, valid_acc=0.305\n",
            "New best at epoch 4\n",
            "Epoch   5/ 10: train_loss=4.250, valid_loss=4.139, valid_acc=0.337\n",
            "New best at epoch 5\n",
            "Epoch   6/ 10: train_loss=3.882, valid_loss=3.826, valid_acc=0.369\n",
            "New best at epoch 6\n",
            "Epoch   7/ 10: train_loss=3.578, valid_loss=3.572, valid_acc=0.397\n",
            "New best at epoch 7\n",
            "Epoch   8/ 10: train_loss=3.317, valid_loss=3.365, valid_acc=0.416\n",
            "New best at epoch 8\n",
            "Epoch   9/ 10: train_loss=3.089, valid_loss=3.187, valid_acc=0.436\n",
            "New best at epoch 9\n",
            "Epoch  10/ 10: train_loss=2.891, valid_loss=3.031, valid_acc=0.454\n",
            "New best at epoch 10\n",
            "Saving final result at wider_deeper.pt\n"
          ]
        }
      ]
    },
    {
      "cell_type": "code",
      "source": [
        "fig, ax = plt.subplots(figsize=(7,4))\n",
        "for res in (baseline, wider, deeper, wider_deeper):\n",
        "    ax.plot(res['results']['valid_acc'], label=res['name'])\n",
        "ax.set_ylabel('accuracy @ test')\n",
        "ax.set_xlabel('epoch')\n",
        "plt.legend(loc='lower right')\n",
        "plt.tight_layout()"
      ],
      "metadata": {
        "id": "fCnuokS1iwAH",
        "colab": {
          "base_uri": "https://localhost:8080/",
          "height": 407
        },
        "outputId": "27cb6e24-424b-4c3e-d5f0-5697d123b6d8"
      },
      "execution_count": 46,
      "outputs": [
        {
          "output_type": "display_data",
          "data": {
            "text/plain": [
              "<Figure size 700x400 with 1 Axes>"
            ],
            "image/png": "[encoded data removed]"
          },
          "metadata": {}
        }
      ]
    },
    {
      "cell_type": "markdown",
      "source": [
        "Efectivamente mejora, aprende más rápido (como wider) y la curva es más pronunciada (como deeper). Probamos con más learning rate a ver si lo tolera, luego pasamos a más ancho y profundidad."
      ],
      "metadata": {
        "id": "P8K5yFLCuOqF"
      }
    },
    {
      "cell_type": "code",
      "source": [
        "wd_lr_x5 = run_experiment(\n",
        "    lstm_cfg=dict(hidden_size = 256, num_layers = 2),\n",
        "    optim_cfg=dict(lr=5e-3),\n",
        "    dataloaders=(train_dl, test_dl),\n",
        "    device=device,\n",
        "    epochs=10,\n",
        "    patience=4,\n",
        "    name='wd_lr_x5',\n",
        "    save_min_acc=0.6\n",
        ")"
      ],
      "metadata": {
        "id": "fEg0j6y1iv90",
        "colab": {
          "base_uri": "https://localhost:8080/",
          "height": 424,
          "referenced_widgets": [
            "08cd9432701e43d1a50de4ca3f8df786",
            "3120d18ce99243209a5adf0e7e5953a3",
            "0fbfc127cbdc44dab629d89bd40ddee5",
            "8f4add54fee545bd94bd7c2733f7ec77",
            "def069f9fe494fa1b457dfc3b90e5212",
            "d6abe300837249d49795ce5db52de0e8",
            "e141e0b345844a27a66e46e949f166ab",
            "8d4eb3f3d96d45b4804ce9503f76b918",
            "7b2dfca4214a432aaefc82917d4e5af1",
            "54a47f7609174c0282b69f500e64429f",
            "7083cbdb166e421992f5c1b327f690d9"
          ]
        },
        "outputId": "e7b5a584-a954-4754-9bbe-d963ab8d0288"
      },
      "execution_count": 47,
      "outputs": [
        {
          "output_type": "display_data",
          "data": {
            "text/plain": [
              "  0%|          | 0/10 [00:00<?, ?it/s]"
            ],
            "application/vnd.jupyter.widget-view+json": {
              "version_major": 2,
              "version_minor": 0,
              "model_id": "08cd9432701e43d1a50de4ca3f8df786"
            }
          },
          "metadata": {}
        },
        {
          "output_type": "stream",
          "name": "stdout",
          "text": [
            "Epoch   1/ 10: train_loss=6.099, valid_loss=5.747, valid_acc=0.188\n",
            "New best at epoch 1\n",
            "Epoch   2/ 10: train_loss=5.319, valid_loss=4.863, valid_acc=0.261\n",
            "New best at epoch 2\n",
            "Epoch   3/ 10: train_loss=4.320, valid_loss=3.935, valid_acc=0.348\n",
            "New best at epoch 3\n",
            "Epoch   4/ 10: train_loss=3.511, valid_loss=3.322, valid_acc=0.416\n",
            "New best at epoch 4\n",
            "Epoch   5/ 10: train_loss=2.941, valid_loss=2.948, valid_acc=0.462\n",
            "New best at epoch 5\n",
            "Epoch   6/ 10: train_loss=2.522, valid_loss=2.684, valid_acc=0.499\n",
            "New best at epoch 6\n",
            "Epoch   7/ 10: train_loss=2.194, valid_loss=2.496, valid_acc=0.529\n",
            "New best at epoch 7\n",
            "Epoch   8/ 10: train_loss=1.935, valid_loss=2.377, valid_acc=0.547\n",
            "New best at epoch 8\n",
            "Epoch   9/ 10: train_loss=1.725, valid_loss=2.300, valid_acc=0.561\n",
            "New best at epoch 9\n",
            "Epoch  10/ 10: train_loss=1.554, valid_loss=2.245, valid_acc=0.573\n",
            "New best at epoch 10\n",
            "Saving final result at wd_lr_x5.pt\n"
          ]
        }
      ]
    },
    {
      "cell_type": "markdown",
      "source": [
        "Mejoró mucho, aunque es verdad que estamos usando un batch size grande y los modelos son bastante \"shallow\"."
      ],
      "metadata": {
        "id": "iaxOugZNwLwd"
      }
    },
    {
      "cell_type": "code",
      "source": [
        "# wider-deeper con 2x width\n",
        "w2d = run_experiment(\n",
        "    lstm_cfg=dict(hidden_size = 512, num_layers = 2),\n",
        "    optim_cfg=dict(lr=5e-3),\n",
        "    dataloaders=(train_dl, test_dl),\n",
        "    device=device,\n",
        "    epochs=10,\n",
        "    patience=4,\n",
        "    name='w2d',\n",
        "    save_min_acc=1\n",
        ")"
      ],
      "metadata": {
        "id": "HgRMdJWziv7I",
        "colab": {
          "base_uri": "https://localhost:8080/",
          "height": 406,
          "referenced_widgets": [
            "6bccc2cbcd1d4ff297c12bf7e1643e8d",
            "fd67ef19047b4a6a8174a9785c1ec576",
            "37e13cd0f2b74e0eb396b4b052fea99d",
            "b0eff1b6949d42419f1fc43fe8547e48",
            "249b480b508e4aa4b91a5fd57af41a28",
            "b2a2daa336834fd9965f9d177ae25e76",
            "73754aac1157489db399ba7aca8512b9",
            "1cb7931dd2e34e2e9c089490f22e6440",
            "780acffc848a442b8765afaa1862e035",
            "30d3aef4f21e4aac87070b680cb18aef",
            "a7c45083acba42e0adfdddcebb42c971"
          ]
        },
        "outputId": "fb18e7ca-c173-406e-9e5b-e2db17182ef5"
      },
      "execution_count": 48,
      "outputs": [
        {
          "output_type": "display_data",
          "data": {
            "text/plain": [
              "  0%|          | 0/10 [00:00<?, ?it/s]"
            ],
            "application/vnd.jupyter.widget-view+json": {
              "version_major": 2,
              "version_minor": 0,
              "model_id": "6bccc2cbcd1d4ff297c12bf7e1643e8d"
            }
          },
          "metadata": {}
        },
        {
          "output_type": "stream",
          "name": "stdout",
          "text": [
            "Epoch   1/ 10: train_loss=5.612, valid_loss=4.852, valid_acc=0.222\n",
            "New best at epoch 1\n",
            "Epoch   2/ 10: train_loss=4.421, valid_loss=4.218, valid_acc=0.283\n",
            "New best at epoch 2\n",
            "Epoch   3/ 10: train_loss=3.750, valid_loss=3.702, valid_acc=0.345\n",
            "New best at epoch 3\n",
            "Epoch   4/ 10: train_loss=3.168, valid_loss=3.331, valid_acc=0.402\n",
            "New best at epoch 4\n",
            "Epoch   5/ 10: train_loss=2.706, valid_loss=3.102, valid_acc=0.436\n",
            "New best at epoch 5\n",
            "Epoch   6/ 10: train_loss=2.350, valid_loss=2.949, valid_acc=0.462\n",
            "New best at epoch 6\n",
            "Epoch   7/ 10: train_loss=2.059, valid_loss=2.863, valid_acc=0.482\n",
            "New best at epoch 7\n",
            "Epoch   8/ 10: train_loss=1.819, valid_loss=2.825, valid_acc=0.492\n",
            "New best at epoch 8\n",
            "Epoch   9/ 10: train_loss=1.619, valid_loss=2.814, valid_acc=0.502\n",
            "New best at epoch 9\n",
            "Epoch  10/ 10: train_loss=1.452, valid_loss=2.814, valid_acc=0.508\n",
            "Saving final result at w2d.pt\n"
          ]
        }
      ]
    },
    {
      "cell_type": "code",
      "source": [
        "# wider-deeper con 2x depth\n",
        "wd2 = run_experiment(\n",
        "    lstm_cfg=dict(hidden_size = 256, num_layers = 3),\n",
        "    optim_cfg=dict(lr=5e-3),\n",
        "    dataloaders=(train_dl, test_dl),\n",
        "    device=device,\n",
        "    epochs=10,\n",
        "    patience=4,\n",
        "    name='wd2',\n",
        "    save_min_acc=1\n",
        ")"
      ],
      "metadata": {
        "id": "R90tXTs9nuFx",
        "colab": {
          "base_uri": "https://localhost:8080/",
          "height": 424,
          "referenced_widgets": [
            "3820d5020ffd4c78b546d26cb0bcd7e0",
            "6874f8b0654e431e829d570fb5d8f5d1",
            "b1c7730462ec4526bf91490b1a7ea12b",
            "d9df1f54d64748708b374f6e8b91ea1f",
            "0fabafa99d1d46a3ab073d64a029c0bc",
            "957879f5e47c47d69f99e3f2f2165dd4",
            "8c21597e8326478297b0bcde1ecdeb42",
            "36a3e69263ce4c209779be70c6d123dc",
            "8faca11bae28479b930c1ccc1b419e3d",
            "4135aac2829641dbab2377d72292c3a2",
            "8561b7bdd8274722ae980516b680a6c8"
          ]
        },
        "outputId": "20f73a61-01d8-4575-f395-c2b9c16f923e"
      },
      "execution_count": 49,
      "outputs": [
        {
          "output_type": "display_data",
          "data": {
            "text/plain": [
              "  0%|          | 0/10 [00:00<?, ?it/s]"
            ],
            "application/vnd.jupyter.widget-view+json": {
              "version_major": 2,
              "version_minor": 0,
              "model_id": "3820d5020ffd4c78b546d26cb0bcd7e0"
            }
          },
          "metadata": {}
        },
        {
          "output_type": "stream",
          "name": "stdout",
          "text": [
            "Epoch   1/ 10: train_loss=6.191, valid_loss=5.984, valid_acc=0.173\n",
            "New best at epoch 1\n",
            "Epoch   2/ 10: train_loss=5.555, valid_loss=5.050, valid_acc=0.224\n",
            "New best at epoch 2\n",
            "Epoch   3/ 10: train_loss=4.527, valid_loss=4.218, valid_acc=0.300\n",
            "New best at epoch 3\n",
            "Epoch   4/ 10: train_loss=3.870, valid_loss=3.752, valid_acc=0.354\n",
            "New best at epoch 4\n",
            "Epoch   5/ 10: train_loss=3.402, valid_loss=3.410, valid_acc=0.396\n",
            "New best at epoch 5\n",
            "Epoch   6/ 10: train_loss=3.015, valid_loss=3.144, valid_acc=0.432\n",
            "New best at epoch 6\n",
            "Epoch   7/ 10: train_loss=2.708, valid_loss=2.958, valid_acc=0.459\n",
            "New best at epoch 7\n",
            "Epoch   8/ 10: train_loss=2.453, valid_loss=2.829, valid_acc=0.479\n",
            "New best at epoch 8\n",
            "Epoch   9/ 10: train_loss=2.241, valid_loss=2.721, valid_acc=0.498\n",
            "New best at epoch 9\n",
            "Epoch  10/ 10: train_loss=2.058, valid_loss=2.651, valid_acc=0.510\n",
            "New best at epoch 10\n",
            "Saving final result at wd2.pt\n"
          ]
        }
      ]
    },
    {
      "cell_type": "code",
      "source": [
        "fig, ax = plt.subplots(figsize=(7,4))\n",
        "for res in (wider_deeper, wd_lr_x5, w2d, wd2):\n",
        "    ax.plot(res['results']['valid_acc'], label=res['name'])\n",
        "ax.set_ylabel('accuracy @ test')\n",
        "ax.set_xlabel('epoch')\n",
        "plt.legend(loc='lower right')\n",
        "plt.tight_layout()"
      ],
      "metadata": {
        "colab": {
          "base_uri": "https://localhost:8080/",
          "height": 407
        },
        "id": "7rPPckHDyp0Y",
        "outputId": "2262f738-e8ab-4ccf-a30a-39448acc7875"
      },
      "execution_count": 50,
      "outputs": [
        {
          "output_type": "display_data",
          "data": {
            "text/plain": [
              "<Figure size 700x400 with 1 Axes>"
            ],
            "image/png": "[encoded data removed]"
          },
          "metadata": {}
        }
      ]
    },
    {
      "cell_type": "markdown",
      "source": [
        "* Agregar una capa más no pareció mejorar.\n",
        "* Duplicar la cantidad de neuronas por capa mejora, pero a costo de enlentecer mucho cada epoch.\n",
        "* Aumentar el learning rate fue muy productivo, pero al escalar más los modelos (w2d y wd2) parece que 5e-3 es mucho.\n",
        "\n",
        "Se está volviendo muy lento cada experimento. No se muestra en esta versión del notebook, pero se probaron combinaciones de mayor ancho y/o mayor profundidad sobre test runs de 10 epochs. Las conclusiones fueron:\n",
        "\n",
        "* Al aumentar la escala hace falta volver a bajar el learning rate, sino no logra aprender. Probablemente requiriese un scheduler.\n",
        "* Dropout no ayuda porque no hay overfitting.\n",
        "* Aumentar el ancho sigue aportando, pero también es el principal factor de aumento en tiempo de entrenamiento: para 10 epochs y 2 capas, hidden_size de 512 son 15 minutos, si pasa a 768 son 25.\n",
        "* Aumentar la cantidad de capas no parece mejorar mucho, al menos en los primeros epochs. Probablemente tenga un máximo \"asintótico\" más alto, i.e. tarda más en aprender pero termina absorbiendo más información.\n",
        "* Las mejoras en ningún caso eran significativas respecto de `w2d` a 10 epochs, pero sí los runs eran mucho más lentos.\n",
        "\n",
        "Antes de seguir, probamos con agrandar el head como forma de \"aprovechar mejor\" la información comprimida en las capas recurrentes. Por supuesto, ello implica un aumento enorme en la cantidad de parámetros entrenables."
      ],
      "metadata": {
        "id": "SjQYSqfazGJJ"
      }
    },
    {
      "cell_type": "code",
      "source": [
        "# armamos head especial, usando el típico 2-layer MLP block\n",
        "\n",
        "cfg = dict(hidden_size = 256, num_layers = 2)\n",
        "interm_sz = 2048\n",
        "dec_head = nn.Sequential(\n",
        "    nn.Linear(cfg['hidden_size'], interm_sz),\n",
        "    nn.ReLU(),\n",
        "    nn.Linear(interm_sz, spa_embedding.num_embeddings)\n",
        ")\n",
        "\n",
        "head2 = run_experiment(\n",
        "    lstm_cfg=cfg,\n",
        "    decoder_head=dec_head,\n",
        "    optim_cfg=dict(lr=2e-3),\n",
        "    dataloaders=(train_dl, test_dl),\n",
        "    device=device,\n",
        "    epochs=10,\n",
        "    patience=4,\n",
        "    name='head2',\n",
        "    save_min_acc=1\n",
        ")"
      ],
      "metadata": {
        "id": "Si_Xyk10Zwju",
        "colab": {
          "base_uri": "https://localhost:8080/",
          "height": 353,
          "referenced_widgets": [
            "a3735b1db5f940d385d8da7ccf935c4c",
            "db24db03deed440194c9c540be06fe0e",
            "b500115f95314824b16e31d6421fe8bb",
            "2b271dd74e774619b776a18900fa9199",
            "72780aee7392455bbf15915f0628e1b7",
            "f9d57729a9ea4fe2863d3f121319d07e",
            "084296fecd6348f2a3c316420a318357",
            "8f0bc43fd1934abd8cfa4cde50a9d9b1",
            "40b3a86f5a9e4ab7b556365ead2d0ee6",
            "8f9d4fbdd8e64f38bc100add3f739c57",
            "6bbbb71db01e4e1c858b2e1a9eb9ef7f"
          ]
        },
        "outputId": "c9fddb39-5de5-4122-93e3-174739a2c665"
      },
      "execution_count": 55,
      "outputs": [
        {
          "output_type": "display_data",
          "data": {
            "text/plain": [
              "  0%|          | 0/10 [00:00<?, ?it/s]"
            ],
            "application/vnd.jupyter.widget-view+json": {
              "version_major": 2,
              "version_minor": 0,
              "model_id": "a3735b1db5f940d385d8da7ccf935c4c"
            }
          },
          "metadata": {}
        },
        {
          "output_type": "stream",
          "name": "stdout",
          "text": [
            "Epoch   1/ 10: train_loss=5.550, valid_loss=4.575, valid_acc=0.282\n",
            "New best at epoch 1\n",
            "Epoch   2/ 10: train_loss=3.918, valid_loss=3.494, valid_acc=0.392\n",
            "New best at epoch 2\n",
            "Epoch   3/ 10: train_loss=2.910, valid_loss=2.865, valid_acc=0.475\n",
            "New best at epoch 3\n",
            "Epoch   4/ 10: train_loss=2.203, valid_loss=2.531, valid_acc=0.530\n",
            "New best at epoch 4\n",
            "Epoch   5/ 10: train_loss=1.722, valid_loss=2.406, valid_acc=0.562\n",
            "New best at epoch 5\n",
            "Epoch   6/ 10: train_loss=1.383, valid_loss=2.365, valid_acc=0.582\n",
            "New best at epoch 6\n",
            "Epoch   7/ 10: train_loss=1.143, valid_loss=2.381, valid_acc=0.593\n",
            "Epoch   8/ 10: train_loss=0.962, valid_loss=2.479, valid_acc=0.603\n",
            "Epoch   9/ 10: train_loss=0.820, valid_loss=2.497, valid_acc=0.607\n",
            "Epoch  10/ 10: train_loss=0.708, valid_loss=2.576, valid_acc=0.609\n",
            "Saving final result at head2.pt\n"
          ]
        }
      ]
    },
    {
      "cell_type": "markdown",
      "source": [
        "Si bien tiene resultados prometedores, en términos de tiempo tardó mucho más en obtener la misma performance que wd con learning rate aumentado."
      ],
      "metadata": {
        "id": "49OevpBDvn2I"
      }
    },
    {
      "cell_type": "code",
      "source": [
        "gc.collect()\n",
        "torch.cuda.empty_cache()"
      ],
      "metadata": {
        "id": "GGJBJ1ccCqNi"
      },
      "execution_count": 56,
      "outputs": []
    },
    {
      "cell_type": "markdown",
      "source": [
        "Hacemos un run \"largo\" con wd-lr5"
      ],
      "metadata": {
        "id": "LbVsxzbAwSEY"
      }
    },
    {
      "cell_type": "code",
      "source": [
        "wd_lr5_longer = run_experiment(\n",
        "    lstm_cfg=dict(hidden_size = 256, num_layers = 2),\n",
        "    optim_cfg=dict(lr=5e-3),\n",
        "    dataloaders=(train_dl, test_dl),\n",
        "    device=device,\n",
        "    epochs=30,\n",
        "    patience=4,\n",
        "    name='wd_lr5_longer',\n",
        "    save_min_acc=0.6\n",
        ")"
      ],
      "metadata": {
        "id": "B_jUQ43JzF1R",
        "colab": {
          "base_uri": "https://localhost:8080/",
          "height": 567,
          "referenced_widgets": [
            "74ad4dfe6bdc412aa3dc521a4cb763ca",
            "aacd52cf914143babb3f258f6a92e7e2",
            "834127de6b8a4c0587f3e69f302d026b",
            "e070b45430d34b4486f76f39357ac48e",
            "ce1a9ae9d3d947bc952d749cfb90d653",
            "12bec44abdce4a659ce37282d3b753b0",
            "000ed9b618b04153b1afc2d10e515323",
            "9de141180b8c443496cae655bc7725eb",
            "7013d9cd4bdd4698aac5a4a549c944a2",
            "5cb78ee141fd4122a7ab91511c407900",
            "25353c1aa2d24313859b972410600220"
          ]
        },
        "outputId": "9a9693fb-0b6e-41de-c2f3-3e7e4987cace"
      },
      "execution_count": 57,
      "outputs": [
        {
          "output_type": "display_data",
          "data": {
            "text/plain": [
              "  0%|          | 0/30 [00:00<?, ?it/s]"
            ],
            "application/vnd.jupyter.widget-view+json": {
              "version_major": 2,
              "version_minor": 0,
              "model_id": "74ad4dfe6bdc412aa3dc521a4cb763ca"
            }
          },
          "metadata": {}
        },
        {
          "output_type": "stream",
          "name": "stdout",
          "text": [
            "Epoch   1/ 30: train_loss=5.957, valid_loss=5.377, valid_acc=0.225\n",
            "New best at epoch 1\n",
            "Epoch   2/ 30: train_loss=4.765, valid_loss=4.238, valid_acc=0.317\n",
            "New best at epoch 2\n",
            "Epoch   3/ 30: train_loss=3.747, valid_loss=3.456, valid_acc=0.401\n",
            "New best at epoch 3\n",
            "Epoch   4/ 30: train_loss=3.040, valid_loss=2.987, valid_acc=0.458\n",
            "New best at epoch 4\n",
            "Epoch   5/ 30: train_loss=2.536, valid_loss=2.650, valid_acc=0.502\n",
            "New best at epoch 5\n",
            "Epoch   6/ 30: train_loss=2.163, valid_loss=2.445, valid_acc=0.533\n",
            "New best at epoch 6\n",
            "Epoch   7/ 30: train_loss=1.882, valid_loss=2.321, valid_acc=0.553\n",
            "New best at epoch 7\n",
            "Epoch   8/ 30: train_loss=1.662, valid_loss=2.239, valid_acc=0.569\n",
            "New best at epoch 8\n",
            "Epoch   9/ 30: train_loss=1.481, valid_loss=2.192, valid_acc=0.578\n",
            "New best at epoch 9\n",
            "Epoch  10/ 30: train_loss=1.332, valid_loss=2.164, valid_acc=0.587\n",
            "New best at epoch 10\n",
            "Epoch  11/ 30: train_loss=1.206, valid_loss=2.155, valid_acc=0.592\n",
            "New best at epoch 11\n",
            "Epoch  12/ 30: train_loss=1.096, valid_loss=2.158, valid_acc=0.594\n",
            "Epoch  13/ 30: train_loss=1.000, valid_loss=2.175, valid_acc=0.597\n",
            "Epoch  14/ 30: train_loss=0.915, valid_loss=2.198, valid_acc=0.596\n",
            "Epoch  15/ 30: train_loss=0.840, valid_loss=2.211, valid_acc=0.596\n",
            "Epoch  16/ 30: train_loss=0.770, valid_loss=2.252, valid_acc=0.596\n",
            "Breaking due to exhausted patience at epoch 16\n",
            "Saving final result at wd_lr5_longer.pt\n"
          ]
        }
      ]
    },
    {
      "cell_type": "code",
      "source": [
        "fig, ax = plt.subplots(figsize=(7,4))\n",
        "for res in (baseline, wd_lr_x5, head2, wd_lr5_longer):\n",
        "    ax.plot(res['results']['valid_acc'], label=res['name'])\n",
        "ax.set_ylabel('accuracy @ test')\n",
        "ax.set_xlabel('epoch')\n",
        "plt.legend(loc='lower right')\n",
        "plt.tight_layout()"
      ],
      "metadata": {
        "id": "GRajAiVNzFwZ",
        "colab": {
          "base_uri": "https://localhost:8080/",
          "height": 407
        },
        "outputId": "c751f183-3431-409a-8a0a-293163ab7015",
        "collapsed": true
      },
      "execution_count": 59,
      "outputs": [
        {
          "output_type": "display_data",
          "data": {
            "text/plain": [
              "<Figure size 700x400 with 1 Axes>"
            ],
            "image/png": "[encoded data removed]"
          },
          "metadata": {}
        }
      ]
    },
    {
      "cell_type": "code",
      "source": [
        "# lo volvemos a levantar, seteamos en eval y mandamos a device\n",
        "name = 'wd_lr5_longer'\n",
        "lstm_cfg = dict(hidden_size = 256, num_layers = 2)\n",
        "\n",
        "model = Seq2Seq(\n",
        "        encoder = Encoder(eng_embedding, **lstm_cfg),\n",
        "        decoder = Decoder(spa_embedding, **lstm_cfg)\n",
        ")\n",
        "\n",
        "model.load_state_dict(torch.load(f\"{name}.pt\", weights_only=True))\n",
        "model.to(device)\n",
        "model.eval()\n",
        "model"
      ],
      "metadata": {
        "id": "hMTZdpVAZwhH",
        "colab": {
          "base_uri": "https://localhost:8080/"
        },
        "outputId": "33591158-bb76-4fe4-c90f-4220eee4cbfd"
      },
      "execution_count": 62,
      "outputs": [
        {
          "output_type": "execute_result",
          "data": {
            "text/plain": [
              "Seq2Seq(\n",
              "  (encoder): Encoder(\n",
              "    (embeddings): Embedding(13382, 300)\n",
              "    (lstm): LSTM(300, 256, num_layers=2, batch_first=True)\n",
              "  )\n",
              "  (decoder): Decoder(\n",
              "    (embeddings): Embedding(26104, 300)\n",
              "    (lstm): LSTM(300, 256, num_layers=2, batch_first=True)\n",
              "    (head): Linear(in_features=256, out_features=26104, bias=True)\n",
              "  )\n",
              ")"
            ]
          },
          "metadata": {},
          "execution_count": 62
        }
      ]
    },
    {
      "cell_type": "markdown",
      "source": [
        "# Generación de secuencias"
      ],
      "metadata": {
        "id": "U3mA-NFUoJ4B"
      }
    },
    {
      "cell_type": "code",
      "source": [
        "class Translator:\n",
        "    def __init__(self, encoder, decoder,\n",
        "                 max_seq_len_in, max_seq_len_out,\n",
        "                 tokenizer_in, idx2word_out,\n",
        "                 bos_idx, eos_idx,\n",
        "                 top_p=0.9, temp=1.0, top_k=1000):\n",
        "        self.encoder = encoder\n",
        "        self.decoder = decoder\n",
        "        self.top_p = top_p\n",
        "        self.top_k = top_k\n",
        "        self.temp = temp\n",
        "        self.max_seq_len_in = max_seq_len_in\n",
        "        self.max_seq_len_out = max_seq_len_out\n",
        "        self.bos_idx = bos_idx\n",
        "        self.eos_idx = eos_idx\n",
        "        self.tk_in = tokenizer_in\n",
        "        self.idx2word_out = idx2word_out\n",
        "\n",
        "    def tokenize_in(self, text_in: str) -> torch.Tensor:\n",
        "        tokens_in = self.tk_in.texts_to_sequences([text_in])[0]\n",
        "        return torch.tensor(tokens_in[:self.max_seq_len_in], dtype=int, device=device)\n",
        "\n",
        "    def detokenize_out(self, tokens_in: list[int]) -> str:\n",
        "        return \" \".join(self.idx2word_out[idx] for idx in tokens_in)\n",
        "\n",
        "    def generate(self, input: torch.Tensor):\n",
        "        with torch.no_grad():\n",
        "            output_idx = self.bos_idx\n",
        "            prev_state = self.encoder(input.to(device))\n",
        "\n",
        "            output_seq = []\n",
        "\n",
        "            while len(output_seq) < self.max_seq_len_out:\n",
        "                logits, prev_state = self.decoder(torch.tensor([output_idx], dtype=int, device=device), prev_state)\n",
        "\n",
        "                # flatten logits\n",
        "                logits = logits.flatten()\n",
        "\n",
        "                values, indices = torch.topk(logits, k=self.top_k)\n",
        "\n",
        "                probs = F.softmax(values / self.temp, dim=-1)\n",
        "\n",
        "                cutoff = 1 + torch.searchsorted(probs.cumsum(dim=-1), self.top_p)\n",
        "\n",
        "                top_p_probs = probs[:cutoff] / probs[:cutoff].sum()\n",
        "\n",
        "                output_idx = indices[torch.multinomial(top_p_probs,1)].item()\n",
        "\n",
        "                if output_idx == self.eos_idx:\n",
        "                    break\n",
        "\n",
        "                output_seq.append(output_idx)\n",
        "\n",
        "        return output_seq\n",
        "\n",
        "    def translate(self, text: str) -> str:\n",
        "        tokens_in = self.tokenize_in(text)\n",
        "\n",
        "        tokens_out = self.generate(tokens_in)\n",
        "\n",
        "        return self.detokenize_out(tokens_out)"
      ],
      "metadata": {
        "id": "M5Jy-PwKoLP9"
      },
      "execution_count": 186,
      "outputs": []
    },
    {
      "cell_type": "code",
      "source": [
        "trl = Translator(\n",
        "    encoder=model.encoder,\n",
        "    decoder=model.decoder,\n",
        "    max_seq_len_in=max(map(len, input_indices_seqs)),\n",
        "    max_seq_len_out=max(map(len, output_indices_seqs)),\n",
        "    tokenizer_in=tk_in,\n",
        "    idx2word_out=idx2word_out,\n",
        "    bos_idx=BOS_IDX,\n",
        "    eos_idx=EOS_IDX,\n",
        "    top_p=0.9,\n",
        "    temp=1,\n",
        "    top_k=500\n",
        ")"
      ],
      "metadata": {
        "id": "AjIKlYO10Dbq"
      },
      "execution_count": 203,
      "outputs": []
    },
    {
      "cell_type": "markdown",
      "source": [
        "Generamos varios sampleos para cada oración"
      ],
      "metadata": {
        "id": "SgHCPHNq9G00"
      }
    },
    {
      "cell_type": "markdown",
      "source": [
        "### Ejemplo 1"
      ],
      "metadata": {
        "id": "1hF_cU1C9xyJ"
      }
    },
    {
      "cell_type": "code",
      "source": [
        "INPUT_SEQ = 'my name is pablo'\n",
        "N_SEQS = 5\n",
        "\n",
        "for n in range(N_SEQS):\n",
        "    print(trl.translate(INPUT_SEQ))"
      ],
      "metadata": {
        "colab": {
          "base_uri": "https://localhost:8080/"
        },
        "id": "RREw4q_w9LlA",
        "outputId": "d4be954f-0013-4fd8-f033-2a327bcb3757"
      },
      "execution_count": 204,
      "outputs": [
        {
          "output_type": "stream",
          "name": "stdout",
          "text": [
            "mi nombre es\n",
            "mi nombre es\n",
            "mi nombre es suyo\n",
            "mi nombre es\n",
            "mi nombre es\n"
          ]
        }
      ]
    },
    {
      "cell_type": "markdown",
      "source": [
        "No sabe la palabra \"pablo\", pero el resto en general lo traduce bien."
      ],
      "metadata": {
        "id": "LgVLj0hG9ivu"
      }
    },
    {
      "cell_type": "markdown",
      "source": [
        "### Ejemplo 2"
      ],
      "metadata": {
        "id": "TMXbSjb49zAt"
      }
    },
    {
      "cell_type": "code",
      "source": [
        "INPUT_SEQ = 'i like playing tennis'\n",
        "N_SEQS = 5\n",
        "\n",
        "for n in range(N_SEQS):\n",
        "    print(trl.translate(INPUT_SEQ))"
      ],
      "metadata": {
        "colab": {
          "base_uri": "https://localhost:8080/"
        },
        "id": "rPQu_Oqv9VPr",
        "outputId": "b3b0df23-3726-434f-d35a-cfc34cc8a43f"
      },
      "execution_count": 205,
      "outputs": [
        {
          "output_type": "stream",
          "name": "stdout",
          "text": [
            "me gusta jugar al tenis\n",
            "me gusta jugar al tenis\n",
            "me gusta tocar el tenis\n",
            "me gusta jugar al tenis\n",
            "me gusta jugar al tenis\n"
          ]
        }
      ]
    },
    {
      "cell_type": "markdown",
      "source": [
        "En general traduce bien la oración."
      ],
      "metadata": {
        "id": "oL9FG2y49uIC"
      }
    },
    {
      "cell_type": "markdown",
      "source": [
        "### Ejemplo 3"
      ],
      "metadata": {
        "id": "iriX9MoK92nD"
      }
    },
    {
      "cell_type": "code",
      "source": [
        "INPUT_SEQ = 'roses are red, violets are blue'\n",
        "N_SEQS = 5\n",
        "\n",
        "for n in range(N_SEQS):\n",
        "    print(trl.translate(INPUT_SEQ))"
      ],
      "metadata": {
        "colab": {
          "base_uri": "https://localhost:8080/"
        },
        "outputId": "5c3c0fd3-a783-4b29-86bf-7c85ba708cf4",
        "id": "BI2MZTnx92nL"
      },
      "execution_count": 208,
      "outputs": [
        {
          "output_type": "stream",
          "name": "stdout",
          "text": [
            "los rojas son rojos son rojos\n",
            "tu sol es blanco o las amarillas\n",
            "los nuevos rojos son rojas de las plantas\n",
            "las rosas rojas son azules\n",
            "los rojas son rojos de sol son rojos\n"
          ]
        }
      ]
    },
    {
      "cell_type": "markdown",
      "source": [
        "Traduce parcialmente bien la oración. Debe tenerse en cuenta que al eliminar las comas, pierde capacidad de interpretar en base a puntuación. En el ejemplo, \"roses are red violets\" es una subfrase muy confusa."
      ],
      "metadata": {
        "id": "9gR8FAod92nQ"
      }
    },
    {
      "cell_type": "markdown",
      "source": [
        "### Ejemplo 4"
      ],
      "metadata": {
        "id": "mtfyCLOG9318"
      }
    },
    {
      "cell_type": "code",
      "source": [
        "INPUT_SEQ = 'i have a black dog and an orange cat'\n",
        "N_SEQS = 5\n",
        "\n",
        "for n in range(N_SEQS):\n",
        "    print(trl.translate(INPUT_SEQ))"
      ],
      "metadata": {
        "colab": {
          "base_uri": "https://localhost:8080/"
        },
        "outputId": "dfe2ac1c-84da-47c7-c56b-ef0cee12dadd",
        "id": "ya7a2VwN9319"
      },
      "execution_count": 213,
      "outputs": [
        {
          "output_type": "stream",
          "name": "stdout",
          "text": [
            "tengo un perro de blanco porque ratones de gato\n",
            "tengo un gato rojo y éste es gato\n",
            "tengo un perro negro como un gato vivo\n",
            "tengo un perro negro y que se asemeja a un gato\n",
            "tengo un perro blanco o negro como gato\n"
          ]
        }
      ]
    },
    {
      "cell_type": "markdown",
      "source": [
        "Nuevamente traduce parcialmente bien la oración."
      ],
      "metadata": {
        "id": "d5WiwJza931-"
      }
    },
    {
      "cell_type": "markdown",
      "source": [
        "### Ejemplo 5"
      ],
      "metadata": {
        "id": "uMbPkY1z94gU"
      }
    },
    {
      "cell_type": "code",
      "source": [
        "INPUT_SEQ = 'this should be a pretty hard-to-translate sentence considering how long it is'\n",
        "N_SEQS = 10\n",
        "\n",
        "for n in range(N_SEQS):\n",
        "    print(trl.translate(INPUT_SEQ))"
      ],
      "metadata": {
        "colab": {
          "base_uri": "https://localhost:8080/"
        },
        "outputId": "eb523866-9eca-4186-8dae-a281ed78fe03",
        "id": "nyX56oV594gV"
      },
      "execution_count": 219,
      "outputs": [
        {
          "output_type": "stream",
          "name": "stdout",
          "text": [
            "este tiene un preciosa sencillo pero no te ayudó a ver a ser famoso que sea bueno\n",
            "el papel es una manera interesante pero se puede sonar mejor a veces de la naturaleza\n",
            "este es una tradición difícil pero al saber no sabes más bueno con la manera\n",
            "es una difícil servir una buena medicina no sabía leer bueno como el tiempo puede estar fácil\n",
            "esta es una forma preciosa en inglés no todos lo normal como puede entender\n",
            "este proyecto es un largo esfuerzo pero para reconocer el mundo podría aprender este bien\n",
            "la primera es una tradición difícil por qué siempre puedes a aprender bastante\n",
            "este momento es un caro poder pero al menos cualquier el buen modo pueda entender la literatura\n",
            "no es un bueno para ver a lo famoso en su compañía de matemáticas nunca hay buena importancia\n",
            "para ese papel es bueno pero para ser bueno para ser difícil que la historia\n"
          ]
        }
      ]
    },
    {
      "cell_type": "markdown",
      "source": [
        "Como era de esperarse, esta oración la traduce mal. Aún así, en algunos casos logra capturar parte de su significado."
      ],
      "metadata": {
        "id": "1sD1g8yZ94gY"
      }
    },
    {
      "cell_type": "markdown",
      "source": [
        "# Conclusiones\n",
        "\n",
        "Se entrenaron diferentes variantes de modelos de traducción inglés → español utilizando arquitectura seq2seq con redes recurrentes (LSTM) y embeddings preentrenados de fastText.\n",
        "\n",
        "Se observó como específicamente el ancho de las capas de LSTM es crucial para lograr capturar el significado de las palabras. También, se observó que es un problema difícil, donde resulta complicado llegar al overfitting y la mayoría de los modelos se saturaban antes. Por otra parte, agrandar el *head* del decoder parece ser una buena vía para aumentar la complejidad, pero debe recordarse que esto es a través de aumentar mucho la cantidad de parámetros.\n",
        "\n",
        "Finalmente, se implementó un traductor basado en el modelo seleccionado, con resultados relativamente satisfactorios. Se utilizó una estrategia de sampling estocástica con top-k, top-p y temperatura ajustable.\n",
        "\n",
        "Durante la generación de ejemplos se evidenció una de las mayores limitaciones que tiene este approach, que no son las capas recurrentes sino la tokenización por palabras. Esto se condice con las estrategias de tokenización en modelos modernos que utilizan sub-words (fragmentos de palabra)."
      ],
      "metadata": {
        "id": "UrgAHcun_boM"
      }
    }
  ]
}